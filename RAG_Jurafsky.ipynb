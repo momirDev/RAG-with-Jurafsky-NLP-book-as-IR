{
  "cells": [
    {
      "attachments": {},
      "cell_type": "markdown",
      "metadata": {
        "id": "vA3Ra_sIzhip"
      },
      "source": [
        "# Part-1"
      ]
    },
    {
      "cell_type": "code",
      "execution_count": 1,
      "metadata": {
        "colab": {
          "base_uri": "https://localhost:8080/"
        },
        "id": "G5oI1k0-zmCk",
        "outputId": "862a0970-a510-4694-80ce-d3c6bc153346"
      },
      "outputs": [
        {
          "name": "stdout",
          "output_type": "stream",
          "text": [
            "\u001b[2K     \u001b[90m━━━━━━━━━━━━━━━━━━━━━━━━━━━━━━━━━━━━━━━━\u001b[0m \u001b[32m975.5/975.5 kB\u001b[0m \u001b[31m4.1 MB/s\u001b[0m eta \u001b[36m0:00:00\u001b[0m\n",
            "\u001b[2K     \u001b[90m━━━━━━━━━━━━━━━━━━━━━━━━━━━━━━━━━━━━━━━━\u001b[0m \u001b[32m2.2/2.2 MB\u001b[0m \u001b[31m12.9 MB/s\u001b[0m eta \u001b[36m0:00:00\u001b[0m\n",
            "\u001b[2K     \u001b[90m━━━━━━━━━━━━━━━━━━━━━━━━━━━━━━━━━━━━━━━━\u001b[0m \u001b[32m337.4/337.4 kB\u001b[0m \u001b[31m12.6 MB/s\u001b[0m eta \u001b[36m0:00:00\u001b[0m\n",
            "\u001b[2K     \u001b[90m━━━━━━━━━━━━━━━━━━━━━━━━━━━━━━━━━━━━━━━━\u001b[0m \u001b[32m27.0/27.0 MB\u001b[0m \u001b[31m20.5 MB/s\u001b[0m eta \u001b[36m0:00:00\u001b[0m\n",
            "\u001b[2K     \u001b[90m━━━━━━━━━━━━━━━━━━━━━━━━━━━━━━━━━━━━━━━━\u001b[0m \u001b[32m85.5/85.5 MB\u001b[0m \u001b[31m8.3 MB/s\u001b[0m eta \u001b[36m0:00:00\u001b[0m\n",
            "\u001b[2K     \u001b[90m━━━━━━━━━━━━━━━━━━━━━━━━━━━━━━━━━━━━━━━━\u001b[0m \u001b[32m89.0/89.0 kB\u001b[0m \u001b[31m6.6 MB/s\u001b[0m eta \u001b[36m0:00:00\u001b[0m\n",
            "\u001b[2K     \u001b[90m━━━━━━━━━━━━━━━━━━━━━━━━━━━━━━━━━━━━━━━━\u001b[0m \u001b[32m227.1/227.1 kB\u001b[0m \u001b[31m20.5 MB/s\u001b[0m eta \u001b[36m0:00:00\u001b[0m\n",
            "\u001b[2K     \u001b[90m━━━━━━━━━━━━━━━━━━━━━━━━━━━━━━━━━━━━━━━━\u001b[0m \u001b[32m12.3/12.3 MB\u001b[0m \u001b[31m49.0 MB/s\u001b[0m eta \u001b[36m0:00:00\u001b[0m\n",
            "\u001b[2K     \u001b[90m━━━━━━━━━━━━━━━━━━━━━━━━━━━━━━━━━━━━━━━━\u001b[0m \u001b[32m3.5/3.5 MB\u001b[0m \u001b[31m31.9 MB/s\u001b[0m eta \u001b[36m0:00:00\u001b[0m\n",
            "\u001b[2K     \u001b[90m━━━━━━━━━━━━━━━━━━━━━━━━━━━━━━━━━━━━━━━━\u001b[0m \u001b[32m290.4/290.4 kB\u001b[0m \u001b[31m18.6 MB/s\u001b[0m eta \u001b[36m0:00:00\u001b[0m\n",
            "\u001b[2K     \u001b[90m━━━━━━━━━━━━━━━━━━━━━━━━━━━━━━━━━━━━━━━━\u001b[0m \u001b[32m127.9/127.9 kB\u001b[0m \u001b[31m4.7 MB/s\u001b[0m eta \u001b[36m0:00:00\u001b[0m\n",
            "\u001b[2K     \u001b[90m━━━━━━━━━━━━━━━━━━━━━━━━━━━━━━━━━━━━━━━━\u001b[0m \u001b[32m45.9/45.9 kB\u001b[0m \u001b[31m3.8 MB/s\u001b[0m eta \u001b[36m0:00:00\u001b[0m\n",
            "\u001b[2K     \u001b[90m━━━━━━━━━━━━━━━━━━━━━━━━━━━━━━━━━━━━━━━━\u001b[0m \u001b[32m92.0/92.0 kB\u001b[0m \u001b[31m5.8 MB/s\u001b[0m eta \u001b[36m0:00:00\u001b[0m\n",
            "\u001b[?25h  Preparing metadata (setup.py) ... \u001b[?25l\u001b[?25hdone\n",
            "\u001b[2K     \u001b[90m━━━━━━━━━━━━━━━━━━━━━━━━━━━━━━━━━━━━━━━━\u001b[0m \u001b[32m318.2/318.2 kB\u001b[0m \u001b[31m20.9 MB/s\u001b[0m eta \u001b[36m0:00:00\u001b[0m\n",
            "\u001b[2K     \u001b[90m━━━━━━━━━━━━━━━━━━━━━━━━━━━━━━━━━━━━━━━━\u001b[0m \u001b[32m75.6/75.6 kB\u001b[0m \u001b[31m6.4 MB/s\u001b[0m eta \u001b[36m0:00:00\u001b[0m\n",
            "\u001b[2K     \u001b[90m━━━━━━━━━━━━━━━━━━━━━━━━━━━━━━━━━━━━━━━━\u001b[0m \u001b[32m141.1/141.1 kB\u001b[0m \u001b[31m3.1 MB/s\u001b[0m eta \u001b[36m0:00:00\u001b[0m\n",
            "\u001b[2K     \u001b[90m━━━━━━━━━━━━━━━━━━━━━━━━━━━━━━━━━━━━━━━━\u001b[0m \u001b[32m10.1/10.1 MB\u001b[0m \u001b[31m45.4 MB/s\u001b[0m eta \u001b[36m0:00:00\u001b[0m\n",
            "\u001b[2K     \u001b[90m━━━━━━━━━━━━━━━━━━━━━━━━━━━━━━━━━━━━━━━━\u001b[0m \u001b[32m62.4/62.4 kB\u001b[0m \u001b[31m4.3 MB/s\u001b[0m eta \u001b[36m0:00:00\u001b[0m\n",
            "\u001b[2K     \u001b[90m━━━━━━━━━━━━━━━━━━━━━━━━━━━━━━━━━━━━━━━━\u001b[0m \u001b[32m129.9/129.9 kB\u001b[0m \u001b[31m6.8 MB/s\u001b[0m eta \u001b[36m0:00:00\u001b[0m\n",
            "\u001b[2K     \u001b[90m━━━━━━━━━━━━━━━━━━━━━━━━━━━━━━━━━━━━━━━━\u001b[0m \u001b[32m15.7/15.7 MB\u001b[0m \u001b[31m57.2 MB/s\u001b[0m eta \u001b[36m0:00:00\u001b[0m\n",
            "\u001b[2K     \u001b[90m━━━━━━━━━━━━━━━━━━━━━━━━━━━━━━━━━━━━━━━━\u001b[0m \u001b[32m49.2/49.2 kB\u001b[0m \u001b[31m5.6 MB/s\u001b[0m eta \u001b[36m0:00:00\u001b[0m\n",
            "\u001b[2K     \u001b[90m━━━━━━━━━━━━━━━━━━━━━━━━━━━━━━━━━━━━━━━━\u001b[0m \u001b[32m77.9/77.9 kB\u001b[0m \u001b[31m8.9 MB/s\u001b[0m eta \u001b[36m0:00:00\u001b[0m\n",
            "\u001b[2K     \u001b[90m━━━━━━━━━━━━━━━━━━━━━━━━━━━━━━━━━━━━━━━━\u001b[0m \u001b[32m58.3/58.3 kB\u001b[0m \u001b[31m7.2 MB/s\u001b[0m eta \u001b[36m0:00:00\u001b[0m\n",
            "\u001b[2K     \u001b[90m━━━━━━━━━━━━━━━━━━━━━━━━━━━━━━━━━━━━━━━━\u001b[0m \u001b[32m328.3/328.3 kB\u001b[0m \u001b[31m32.1 MB/s\u001b[0m eta \u001b[36m0:00:00\u001b[0m\n",
            "\u001b[2K     \u001b[90m━━━━━━━━━━━━━━━━━━━━━━━━━━━━━━━━━━━━━━━━\u001b[0m \u001b[32m1.1/1.1 MB\u001b[0m \u001b[31m61.2 MB/s\u001b[0m eta \u001b[36m0:00:00\u001b[0m\n",
            "\u001b[2K     \u001b[90m━━━━━━━━━━━━━━━━━━━━━━━━━━━━━━━━━━━━━━━━\u001b[0m \u001b[32m21.3/21.3 MB\u001b[0m \u001b[31m45.6 MB/s\u001b[0m eta \u001b[36m0:00:00\u001b[0m\n",
            "\u001b[2K     \u001b[90m━━━━━━━━━━━━━━━━━━━━━━━━━━━━━━━━━━━━━━━━\u001b[0m \u001b[32m71.9/71.9 kB\u001b[0m \u001b[31m8.4 MB/s\u001b[0m eta \u001b[36m0:00:00\u001b[0m\n",
            "\u001b[2K     \u001b[90m━━━━━━━━━━━━━━━━━━━━━━━━━━━━━━━━━━━━━━━━\u001b[0m \u001b[32m53.6/53.6 kB\u001b[0m \u001b[31m6.0 MB/s\u001b[0m eta \u001b[36m0:00:00\u001b[0m\n",
            "\u001b[2K     \u001b[90m━━━━━━━━━━━━━━━━━━━━━━━━━━━━━━━━━━━━━━━━\u001b[0m \u001b[32m307.7/307.7 kB\u001b[0m \u001b[31m26.2 MB/s\u001b[0m eta \u001b[36m0:00:00\u001b[0m\n",
            "\u001b[2K     \u001b[90m━━━━━━━━━━━━━━━━━━━━━━━━━━━━━━━━━━━━━━━━\u001b[0m \u001b[32m341.4/341.4 kB\u001b[0m \u001b[31m33.1 MB/s\u001b[0m eta \u001b[36m0:00:00\u001b[0m\n",
            "\u001b[2K     \u001b[90m━━━━━━━━━━━━━━━━━━━━━━━━━━━━━━━━━━━━━━━━\u001b[0m \u001b[32m3.4/3.4 MB\u001b[0m \u001b[31m73.4 MB/s\u001b[0m eta \u001b[36m0:00:00\u001b[0m\n",
            "\u001b[2K     \u001b[90m━━━━━━━━━━━━━━━━━━━━━━━━━━━━━━━━━━━━━━━━\u001b[0m \u001b[32m1.2/1.2 MB\u001b[0m \u001b[31m57.4 MB/s\u001b[0m eta \u001b[36m0:00:00\u001b[0m\n",
            "\u001b[?25h  Building wheel for ffmpy (setup.py) ... \u001b[?25l\u001b[?25hdone\n"
          ]
        }
      ],
      "source": [
        "!pip install -qU langchain\\\n",
        "    langchain-community\\\n",
        "    langchain-together\\\n",
        "    langchain-core\\\n",
        "    faiss-cpu\\\n",
        "    faiss-gpu\\\n",
        "    langgraph\\\n",
        "    sentence-transformers\\\n",
        "    gradio\\\n",
        "    pymupdf\\\n",
        "    pypdf"
      ]
    },
    {
      "cell_type": "code",
      "execution_count": 2,
      "metadata": {
        "colab": {
          "base_uri": "https://localhost:8080/"
        },
        "id": "Yg3top2HzsQw",
        "outputId": "b11f48ad-0446-4038-82ce-f76283bc9acd"
      },
      "outputs": [
        {
          "name": "stderr",
          "output_type": "stream",
          "text": [
            "WARNING:langchain_community.utils.user_agent:USER_AGENT environment variable not set, consider setting it to identify your requests.\n"
          ]
        }
      ],
      "source": [
        "import os\n",
        "from dotenv import load_dotenv\n",
        "from langchain_community.document_loaders.web_base import WebBaseLoader\n",
        "from langchain.text_splitter import RecursiveCharacterTextSplitter\n",
        "from langchain_community.embeddings import HuggingFaceEmbeddings\n",
        "from langchain_together import ChatTogether\n",
        "from langchain_community.vectorstores import FAISS\n",
        "from langchain.prompts import ChatPromptTemplate\n",
        "from langchain_core.pydantic_v1 import BaseModel, Field\n",
        "from typing import Literal\n",
        "from operator import itemgetter\n",
        "from langchain_core.output_parsers import StrOutputParser\n",
        "from IPython.core.display import Markdown\n",
        "from langchain_core.messages import HumanMessage, AIMessage\n",
        "from langchain.output_parsers import PydanticOutputParser\n",
        "from langchain_core.prompts import PromptTemplate\n",
        "from langchain.document_loaders import PyMuPDFLoader\n",
        "from langchain_community.document_loaders import PyPDFLoader"
      ]
    },
    {
      "cell_type": "code",
      "execution_count": 3,
      "metadata": {
        "id": "cVQ0gFNFzulQ"
      },
      "outputs": [],
      "source": [
        "# Needed API keys \n",
        "\n",
        "os.environ[\"TAVILY_API_KEY\"] = \"\"\n",
        "os.environ[\"TOGETHER_API_KEY\"] = \"\""
      ]
    },
    {
      "cell_type": "code",
      "execution_count": 4,
      "metadata": {
        "id": "4BbZbsa90PSo"
      },
      "outputs": [],
      "source": [
        "import requests\n",
        "from bs4 import BeautifulSoup"
      ]
    },
    {
      "cell_type": "code",
      "execution_count": 5,
      "metadata": {
        "colab": {
          "base_uri": "https://localhost:8080/"
        },
        "id": "78zRRSjZ3-TA",
        "outputId": "93babbdb-e1c5-4d62-e33c-03294ec42eca"
      },
      "outputs": [
        {
          "name": "stdout",
          "output_type": "stream",
          "text": [
            "https://stanford.edu/~jurafsky/slp3/ed3bookfeb3_2024.pdf\n",
            "https://stanford.edu/~jurafsky/slp3/2.pdf\n",
            "https://stanford.edu/~jurafsky/slp3/3.pdf\n",
            "https://stanford.edu/~jurafsky/slp3/4.pdf\n",
            "https://stanford.edu/~jurafsky/slp3/5.pdf\n",
            "https://stanford.edu/~jurafsky/slp3/6.pdf\n",
            "https://stanford.edu/~jurafsky/slp3/7.pdf\n",
            "https://stanford.edu/~jurafsky/slp3/8.pdf\n",
            "https://stanford.edu/~jurafsky/slp3/9.pdf\n",
            "https://stanford.edu/~jurafsky/slp3/10.pdf\n",
            "https://stanford.edu/~jurafsky/slp3/11.pdf\n",
            "https://stanford.edu/~jurafsky/slp3/13.pdf\n",
            "https://stanford.edu/~jurafsky/slp3/14.pdf\n",
            "https://stanford.edu/~jurafsky/slp3/15.pdf\n",
            "https://stanford.edu/~jurafsky/slp3/16.pdf\n",
            "https://stanford.edu/~jurafsky/slp3/17.pdf\n",
            "https://stanford.edu/~jurafsky/slp3/18.pdf\n",
            "https://stanford.edu/~jurafsky/slp3/19.pdf\n",
            "https://stanford.edu/~jurafsky/slp3/20.pdf\n",
            "https://stanford.edu/~jurafsky/slp3/21.pdf\n",
            "https://stanford.edu/~jurafsky/slp3/22.pdf\n",
            "https://stanford.edu/~jurafsky/slp3/23.pdf\n",
            "https://stanford.edu/~jurafsky/slp3/A.pdf\n",
            "https://stanford.edu/~jurafsky/slp3/B.pdf\n",
            "https://stanford.edu/~jurafsky/slp3/C.pdf\n",
            "https://stanford.edu/~jurafsky/slp3/D.pdf\n",
            "https://stanford.edu/~jurafsky/slp3/E.pdf\n",
            "https://stanford.edu/~jurafsky/slp3/F.pdf\n",
            "https://stanford.edu/~jurafsky/slp3/G.pdf\n",
            "https://stanford.edu/~jurafsky/slp3/H.pdf\n"
          ]
        }
      ],
      "source": [
        "main_page_URL = \"https://stanford.edu/~jurafsky/slp3/\"\n",
        "\n",
        "# Fetch the page content\n",
        "response = requests.get(main_page_URL)\n",
        "if response.status_code == 200:\n",
        "    page_content = response.text\n",
        "else:\n",
        "    raise Exception(f\"Failed to fetch the page content: {response.status_code}\")\n",
        "\n",
        "# Parse the page content with BeautifulSoup\n",
        "soup = BeautifulSoup(page_content, 'html.parser')\n",
        "\n",
        "# Find all anchor tags with href attribute\n",
        "anchor_tags = soup.find_all('a', href=True)\n",
        "\n",
        "# Extract URLs containing 'pdf' and append to the list\n",
        "pdf_urls = []\n",
        "for tag in anchor_tags:\n",
        "    href = tag['href']\n",
        "    if 'pdf' in href and 'slides' not in href:  # Check if 'pdf' is in the URL\n",
        "        # Ensure the URL is absolute\n",
        "        if not href.startswith('http'):\n",
        "            href = main_page_URL + href\n",
        "        pdf_urls.append(href)\n",
        "\n",
        "# Print the extracted PDF URLs\n",
        "for link in pdf_urls:\n",
        "    print(link)"
      ]
    },
    {
      "cell_type": "code",
      "execution_count": 6,
      "metadata": {
        "colab": {
          "base_uri": "https://localhost:8080/"
        },
        "id": "yAY4c0gC8azv",
        "outputId": "a6621692-a019-438b-d07a-8f05e0bcc877"
      },
      "outputs": [
        {
          "name": "stdout",
          "output_type": "stream",
          "text": [
            "['https://stanford.edu/~jurafsky/slp3/2.pdf', 'https://stanford.edu/~jurafsky/slp3/3.pdf', 'https://stanford.edu/~jurafsky/slp3/4.pdf', 'https://stanford.edu/~jurafsky/slp3/5.pdf', 'https://stanford.edu/~jurafsky/slp3/6.pdf', 'https://stanford.edu/~jurafsky/slp3/7.pdf', 'https://stanford.edu/~jurafsky/slp3/8.pdf', 'https://stanford.edu/~jurafsky/slp3/9.pdf', 'https://stanford.edu/~jurafsky/slp3/10.pdf']\n"
          ]
        }
      ],
      "source": [
        "chapter2_6 = pdf_urls[1:10]\n",
        "print(chapter2_6)"
      ]
    },
    {
      "cell_type": "code",
      "execution_count": 7,
      "metadata": {
        "id": "THpp4yDkISCb"
      },
      "outputs": [],
      "source": [
        "documents = []\n",
        "all_chunks = []"
      ]
    },
    {
      "cell_type": "code",
      "execution_count": 8,
      "metadata": {
        "id": "rlJpVCZtIUOt"
      },
      "outputs": [],
      "source": [
        "for url in chapter2_6:\n",
        "  loader = PyMuPDFLoader(url)\n",
        "  documents.append(loader.load()[0])"
      ]
    },
    {
      "cell_type": "code",
      "execution_count": 9,
      "metadata": {
        "id": "VDWl1L3FIZHO"
      },
      "outputs": [],
      "source": [
        "text_splitter = RecursiveCharacterTextSplitter(chunk_size=1024, chunk_overlap=64)\n",
        "\n",
        "# Split each document into chunks\n",
        "for doc in documents:\n",
        "  chunks = text_splitter.split_documents([doc])  # Wrap doc in a list\n",
        "  all_chunks.extend(chunks)"
      ]
    },
    {
      "cell_type": "code",
      "execution_count": 9,
      "metadata": {
        "id": "TSc1LgoEIXHO"
      },
      "outputs": [],
      "source": []
    },
    {
      "cell_type": "code",
      "execution_count": 10,
      "metadata": {
        "id": "GJZDeuZm5zcX"
      },
      "outputs": [],
      "source": [
        "#docs = [PyPDFLoader(url).load() for url in chapter2_6]\n",
        "#loader = PyMuPDFLoader(chapter2_6, bs_get_text_kwargs={\"strip\": True})\n",
        "#docs = loader.load()"
      ]
    },
    {
      "cell_type": "code",
      "execution_count": 11,
      "metadata": {
        "id": "WA3bB0Zd5_Ec"
      },
      "outputs": [],
      "source": [
        "# text_splitter = RecursiveCharacterTextSplitter(chunk_size=1024, chunk_overlap=64)\n",
        "# chunks = text_splitter.split_documents(docs)"
      ]
    },
    {
      "attachments": {},
      "cell_type": "markdown",
      "metadata": {
        "id": "1JdI229-9XHk"
      },
      "source": [
        "# Part-2"
      ]
    },
    {
      "cell_type": "code",
      "execution_count": 12,
      "metadata": {
        "colab": {
          "base_uri": "https://localhost:8080/",
          "height": 597,
          "referenced_widgets": [
            "79fc47cca3b7466d857bfc917a18682e",
            "31fd36b7a71046deb7be2e8b09c17e63",
            "f0e3958ef7564080956eb531b08ff098",
            "ab11fdddaec14fa680f2e74f5d96dcc0",
            "d925e2c4506a4615bf602edec7cdedad",
            "df513fc58182482d94fcaa65883a8725",
            "58b0ac79882d44a1bdf889c26597056b",
            "b2c717b23f2a4f6ea1a45ff1657709bd",
            "3750b568368a4695884d35b52e100307",
            "96ac20bb1c0943d98ff39fc25de743a3",
            "305b2e3e130040388c4752e515cdf6db",
            "3f10a2841cf44a7389d40ec965318f8b",
            "587f22b3bff6496db26fe678ebc005b7",
            "49642401e0514d94ad13ed3827b0ff5a",
            "9c9dea7339f3462a9365ef81107f69c8",
            "df37dace1b414d999767ca5ee1a2cf16",
            "2152297e09f34ab1a3f3ec76d02eb677",
            "3e9b5e55b37e48829925286c5fe861a3",
            "7999e0a74ae9434fb1a66e478efd2b97",
            "8a9daeceb9084ddd8e3406f4ff4f90ec",
            "02b7a068cc374af7a4ed2bfb85d5ecef",
            "3eb831f87c5d46159a83ffde275c0668",
            "99b9c67e2f024d25b118dc88aa055c1a",
            "f88e3450707d41a1952b44ca29d75826",
            "3d886d1ba87f4261b90fec70507fe350",
            "7c67804b95cc4683bf3f90c79f816119",
            "b9e9970284e84408b9c3e756cb00a0c4",
            "7bccb2da8bca46949e6c1fe757fb7d12",
            "da464bc7e8b44a2296bf77baf1106d2b",
            "4de3f8a8f0e34cdb91c41e7063026fcb",
            "d5c380907f3849ae9964026d141007c9",
            "0680a220ebf74a2cb1e0aa001d9e5417",
            "626954751fb0477f829eaa5f65e0cae4",
            "0d5d04ed6e9d42e39aad36588fd26873",
            "14b1796630254dc39bcf4e4d3bccf52c",
            "efb4fa4b31964d818f83319e296b4b5c",
            "1122c0fd69024701960cf4281a5e1d9c",
            "0bdfe162b52041ae9a135a9ba69d524b",
            "7479bb48566e466f93f5660b5792e5d8",
            "aa7b40513ec3450899a307ad4adbb546",
            "0eca9de647d74d84baee587958009946",
            "eaf656240d2d4655925bd21cc48073ef",
            "fde6bb52a83145078b84d1ed4d6a2a26",
            "844be6b64103449abb5e9a6d0be86fa3",
            "3322dd19453545bd84c0b56b729c9e0b",
            "3f88fbc18245461581c2d7b318089b71",
            "64e93eecd9e1400a8cb26a81dee76afe",
            "c45b9669e7294d428e1689476d96e895",
            "a5097b07ef444c90ba7ffd26757463f2",
            "951515ca5ec04182a2525d83f4d40121",
            "475f49a249d64589af8409a278ffcce3",
            "8106e5c844e84452a017222e80d57a44",
            "344a71bf83964c58957fda158520007f",
            "5694c64d6e394587848acf4d914fb61a",
            "8dafe3dde98d47bba814fb6b0d41e135",
            "555b156c99d8485abbe44754652a58b9",
            "f514fa02f2e042a7b4f73ead7e3d4a96",
            "982498a512674016be9f7bf3f4ccaa09",
            "a6c74519399e4fb2bad72351bf15215a",
            "efb63df905644ab198276385ba007bcb",
            "140e002f58fc41b8905ff010246f3272",
            "31daba0af420486ab6792c043746f160",
            "a879284aea004914b50fb5030716ff27",
            "c46f3657c9eb423587821026454c3e4d",
            "2270c095f153475e9839cb55b602c48b",
            "ddb200e7356e40298bdcd2b375faa131",
            "4310f211d5ee4e0ea5fc804a943f700c",
            "7e0e7a2f93a5449686ccbc64af8139f8",
            "38fdd08554ff4f63808ae90d5b1729b1",
            "7509c3ef04134c0981e012f6c82b611f",
            "4a4efb9b87f54cac9528ebf5d7654fac",
            "3c321f891f4741298a5bb07decce7b0f",
            "49ffb8f3542a454dbe85fe83d611b5c4",
            "a4cf85c98af9436ebbc13dfd259a3811",
            "441ad2202a314476ad97baef32bf550e",
            "ace0e253db3745f78a471ca9c958c717",
            "425233b067c84fefa4918fa197b03dcc",
            "eee326f3433d4c9ab303b0899c8534cf",
            "f31df61e58ca48ca8c133da9774b934a",
            "14ae60b184e942f0a06ac83490333dfc",
            "deecd730f7a24f50aa5f2829ac6948b5",
            "51eb1f4bbf164a7c944b4c0df32d39a2",
            "29657421350f4092872532b14c2d4334",
            "eaec9040d76942489312179b447a7bf7",
            "dbbba4b588394eb09093f053377c3d64",
            "30ccf00955d74227b24c471d89aa0328",
            "6220d7dd42064dc48c341c6c059036e7",
            "ac8d89d2eda54874a431f07db81801ac",
            "3260e633230c44f78f5536990a3ea346",
            "11380141b7fe453991ea3f090d345e5f",
            "9c7195a5762c49bfb64a80f3c08b8bd3",
            "7d0ba1eb730541ad8ce86126a6be76ac",
            "204bf7dcc683454c9baa449f61aaa32c",
            "ce5ab6c7893c40d7b3dd7949ee7fb92f",
            "1dd9f47b7ed743c597ce26d8a5ec2279",
            "cc07f9bf56ed4f33b16548c61a5ac78f",
            "89544b29162d418f856492b2658076b0",
            "7fe5be3c28a24f8684d1916d2ffed97e",
            "db88e0e4505644029b160da0b6ed9d96",
            "619b1d8ad498463ebf426be547efac95",
            "b6e13e3c3eb24200a18b0300e86df8ab",
            "ef79423ab8a5403db4c76c795d812e39",
            "b960d6eeb2f84e4db5d91ca0e1aba2c9",
            "bf9640a0ab15483d9be0b5b4d83c5536",
            "e6e2de8827534ecaabf108a1f83f2251",
            "8b541792054a47d6bc4861207580f020",
            "26f37d5ab69844feaa76244203b0d2c7",
            "126ad6ecda8b4fed8d181f3504bdfa6d",
            "8120dae73d69428c90f53baeaa8eb7e9",
            "44eb2616f479436584c6d1246915f030",
            "373ae52c25714dc5afa960e851dfc07e",
            "033353d920614af593d13bac99c28061",
            "73c1c00d98774eabb08930536f293550",
            "6e48273271694a1d919256d907fff00c",
            "8207989d6d1848aba7a432536ad600b1",
            "6bfbb227d5134627b47860d6c2549e65",
            "03b1b78f5ee243e7a488cebe677c1eb0",
            "788779893d4349628ce260d913914a4a",
            "492100de7ec0476d9cbc9ee28aea53c8",
            "0cb1dd5314e84ff0b8861660dd80d9a6",
            "77897e557e194987b8bf20e62eef414d"
          ]
        },
        "id": "ozXRYRv29b_L",
        "outputId": "17522e2b-e5b1-487a-f1d7-0432c7b150d1"
      },
      "outputs": [
        {
          "name": "stderr",
          "output_type": "stream",
          "text": [
            "/usr/local/lib/python3.10/dist-packages/langchain_core/_api/deprecation.py:139: LangChainDeprecationWarning: The class `HuggingFaceEmbeddings` was deprecated in LangChain 0.2.2 and will be removed in 0.3.0. An updated version of the class exists in the langchain-huggingface package and should be used instead. To use it run `pip install -U langchain-huggingface` and import as `from langchain_huggingface import HuggingFaceEmbeddings`.\n",
            "  warn_deprecated(\n",
            "/usr/local/lib/python3.10/dist-packages/sentence_transformers/cross_encoder/CrossEncoder.py:11: TqdmExperimentalWarning: Using `tqdm.autonotebook.tqdm` in notebook mode. Use `tqdm.tqdm` instead to force console mode (e.g. in jupyter console)\n",
            "  from tqdm.autonotebook import tqdm, trange\n",
            "/usr/local/lib/python3.10/dist-packages/huggingface_hub/utils/_token.py:89: UserWarning: \n",
            "The secret `HF_TOKEN` does not exist in your Colab secrets.\n",
            "To authenticate with the Hugging Face Hub, create a token in your settings tab (https://huggingface.co/settings/tokens), set it as secret in your Google Colab and restart your session.\n",
            "You will be able to reuse this secret in all of your notebooks.\n",
            "Please note that authentication is recommended but still optional to access public models or datasets.\n",
            "  warnings.warn(\n"
          ]
        },
        {
          "data": {
            "application/vnd.jupyter.widget-view+json": {
              "model_id": "79fc47cca3b7466d857bfc917a18682e",
              "version_major": 2,
              "version_minor": 0
            },
            "text/plain": [
              "modules.json:   0%|          | 0.00/349 [00:00<?, ?B/s]"
            ]
          },
          "metadata": {},
          "output_type": "display_data"
        },
        {
          "data": {
            "application/vnd.jupyter.widget-view+json": {
              "model_id": "3f10a2841cf44a7389d40ec965318f8b",
              "version_major": 2,
              "version_minor": 0
            },
            "text/plain": [
              "config_sentence_transformers.json:   0%|          | 0.00/116 [00:00<?, ?B/s]"
            ]
          },
          "metadata": {},
          "output_type": "display_data"
        },
        {
          "data": {
            "application/vnd.jupyter.widget-view+json": {
              "model_id": "99b9c67e2f024d25b118dc88aa055c1a",
              "version_major": 2,
              "version_minor": 0
            },
            "text/plain": [
              "README.md:   0%|          | 0.00/10.6k [00:00<?, ?B/s]"
            ]
          },
          "metadata": {},
          "output_type": "display_data"
        },
        {
          "data": {
            "application/vnd.jupyter.widget-view+json": {
              "model_id": "0d5d04ed6e9d42e39aad36588fd26873",
              "version_major": 2,
              "version_minor": 0
            },
            "text/plain": [
              "sentence_bert_config.json:   0%|          | 0.00/53.0 [00:00<?, ?B/s]"
            ]
          },
          "metadata": {},
          "output_type": "display_data"
        },
        {
          "name": "stderr",
          "output_type": "stream",
          "text": [
            "/usr/local/lib/python3.10/dist-packages/huggingface_hub/file_download.py:1132: FutureWarning: `resume_download` is deprecated and will be removed in version 1.0.0. Downloads always resume when possible. If you want to force a new download, use `force_download=True`.\n",
            "  warnings.warn(\n"
          ]
        },
        {
          "data": {
            "application/vnd.jupyter.widget-view+json": {
              "model_id": "3322dd19453545bd84c0b56b729c9e0b",
              "version_major": 2,
              "version_minor": 0
            },
            "text/plain": [
              "config.json:   0%|          | 0.00/571 [00:00<?, ?B/s]"
            ]
          },
          "metadata": {},
          "output_type": "display_data"
        },
        {
          "data": {
            "application/vnd.jupyter.widget-view+json": {
              "model_id": "555b156c99d8485abbe44754652a58b9",
              "version_major": 2,
              "version_minor": 0
            },
            "text/plain": [
              "model.safetensors:   0%|          | 0.00/438M [00:00<?, ?B/s]"
            ]
          },
          "metadata": {},
          "output_type": "display_data"
        },
        {
          "data": {
            "application/vnd.jupyter.widget-view+json": {
              "model_id": "4310f211d5ee4e0ea5fc804a943f700c",
              "version_major": 2,
              "version_minor": 0
            },
            "text/plain": [
              "tokenizer_config.json:   0%|          | 0.00/363 [00:00<?, ?B/s]"
            ]
          },
          "metadata": {},
          "output_type": "display_data"
        },
        {
          "data": {
            "application/vnd.jupyter.widget-view+json": {
              "model_id": "eee326f3433d4c9ab303b0899c8534cf",
              "version_major": 2,
              "version_minor": 0
            },
            "text/plain": [
              "vocab.txt:   0%|          | 0.00/232k [00:00<?, ?B/s]"
            ]
          },
          "metadata": {},
          "output_type": "display_data"
        },
        {
          "data": {
            "application/vnd.jupyter.widget-view+json": {
              "model_id": "3260e633230c44f78f5536990a3ea346",
              "version_major": 2,
              "version_minor": 0
            },
            "text/plain": [
              "tokenizer.json:   0%|          | 0.00/466k [00:00<?, ?B/s]"
            ]
          },
          "metadata": {},
          "output_type": "display_data"
        },
        {
          "data": {
            "application/vnd.jupyter.widget-view+json": {
              "model_id": "619b1d8ad498463ebf426be547efac95",
              "version_major": 2,
              "version_minor": 0
            },
            "text/plain": [
              "special_tokens_map.json:   0%|          | 0.00/239 [00:00<?, ?B/s]"
            ]
          },
          "metadata": {},
          "output_type": "display_data"
        },
        {
          "data": {
            "application/vnd.jupyter.widget-view+json": {
              "model_id": "373ae52c25714dc5afa960e851dfc07e",
              "version_major": 2,
              "version_minor": 0
            },
            "text/plain": [
              "1_Pooling/config.json:   0%|          | 0.00/190 [00:00<?, ?B/s]"
            ]
          },
          "metadata": {},
          "output_type": "display_data"
        }
      ],
      "source": [
        "embedding_function = HuggingFaceEmbeddings(show_progress=True, multi_process=True)\n",
        "vector_store = FAISS.from_documents(documents=all_chunks, embedding=embedding_function)"
      ]
    },
    {
      "attachments": {},
      "cell_type": "markdown",
      "metadata": {
        "id": "sd37VGcRJLbn"
      },
      "source": [
        "# Part-3"
      ]
    },
    {
      "cell_type": "code",
      "execution_count": 13,
      "metadata": {
        "colab": {
          "base_uri": "https://localhost:8080/"
        },
        "id": "VSHdEevJMape",
        "outputId": "5430a806-40de-4b0b-ed19-973eeafb86b1"
      },
      "outputs": [
        {
          "name": "stdout",
          "output_type": "stream",
          "text": [
            "Collecting rank_bm25\n",
            "  Downloading rank_bm25-0.2.2-py3-none-any.whl (8.6 kB)\n",
            "Requirement already satisfied: numpy in /usr/local/lib/python3.10/dist-packages (from rank_bm25) (1.25.2)\n",
            "Installing collected packages: rank_bm25\n",
            "Successfully installed rank_bm25-0.2.2\n"
          ]
        }
      ],
      "source": [
        "!pip install rank_bm25\n"
      ]
    },
    {
      "cell_type": "code",
      "execution_count": 14,
      "metadata": {
        "id": "1JMSUTKaJN35"
      },
      "outputs": [],
      "source": [
        "from langchain.retrievers import BM25Retriever, EnsembleRetriever\n"
      ]
    },
    {
      "cell_type": "code",
      "execution_count": 15,
      "metadata": {
        "id": "Cg2f1Je29-bj"
      },
      "outputs": [],
      "source": [
        "# # initialize the bm25 retriever and faiss retriever\n",
        "# bm25_retriever = BM25Retriever.from_documents(all_chunks)\n",
        "# bm25_retriever.k = 2"
      ]
    },
    {
      "cell_type": "code",
      "execution_count": 16,
      "metadata": {
        "id": "mnrzGkp7PCQU"
      },
      "outputs": [],
      "source": [
        "# Create BM25 retriever\n",
        "bm25_retriever = BM25Retriever.from_documents(all_chunks)\n",
        "\n",
        "# Create FAISS retriever\n",
        "faiss_retriever = vector_store.as_retriever()\n",
        "\n",
        "# Create an ensemble retriever\n",
        "ensemble_retriever = EnsembleRetriever(\n",
        "    retrievers=[bm25_retriever, faiss_retriever],\n",
        "    weights=[0.5, 0.5]  # Adjust weights as necessary\n",
        ")"
      ]
    },
    {
      "cell_type": "code",
      "execution_count": 17,
      "metadata": {
        "colab": {
          "base_uri": "https://localhost:8080/"
        },
        "id": "eR2NQVeIPGHi",
        "outputId": "e5b0c264-901e-4ef3-ad60-026412e5f3a2"
      },
      "outputs": [
        {
          "name": "stderr",
          "output_type": "stream",
          "text": [
            "/usr/local/lib/python3.10/dist-packages/langchain_core/_api/deprecation.py:139: LangChainDeprecationWarning: The method `BaseRetriever.get_relevant_documents` was deprecated in langchain-core 0.1.46 and will be removed in 0.3.0. Use invoke instead.\n",
            "  warn_deprecated(\n"
          ]
        }
      ],
      "source": [
        "# Now you can use the ensemble retriever to retrieve documents\n",
        "query = \"language model\"\n",
        "results = ensemble_retriever.get_relevant_documents(query)\n"
      ]
    },
    {
      "cell_type": "code",
      "execution_count": 18,
      "metadata": {
        "colab": {
          "base_uri": "https://localhost:8080/"
        },
        "id": "50vpqz5BPovX",
        "outputId": "20383557-343e-4103-b7c0-3a5213312d55"
      },
      "outputs": [
        {
          "data": {
            "text/plain": [
              "[Document(metadata={'source': 'https://stanford.edu/~jurafsky/slp3/3.pdf', 'file_path': 'https://stanford.edu/~jurafsky/slp3/3.pdf', 'page': 0, 'total_pages': 30, 'format': 'PDF 1.5', 'title': '', 'author': '', 'subject': '', 'keywords': '', 'creator': 'LaTeX with hyperref', 'producer': 'pdfTeX-1.40.21', 'creationDate': \"D:20240203145934-08'00'\", 'modDate': \"D:20240203145934-08'00'\", 'trapped': ''}, page_content='language model\\nLM\\nupcoming words? It turns out that the large language models that revolutionized\\nmodern NLP are trained just by predicting words!! As we’ll see in chapters 7-10,\\nlarge language models learn an enormous amount about language solely from being\\ntrained to predict upcoming words from neighboring words.\\nLanguage models can also assign a probability to an entire sentence. For exam-\\nple, they can predict that the following sequence has a much higher probability of\\nappearing in a text:\\nall of a sudden I notice three guys standing on the sidewalk\\nthan does this same set of words in a different order:\\non guys all I of notice sidewalk three a sudden standing the\\nWhy does it matter what the probability of a sentence is or how probable the\\nnext word is? In many NLP applications we can use the probability as a way to\\nchoose a better sentence or word over a less-appropriate one. For example we can\\ncorrect grammar or spelling errors like Their are two midterms, in which There was'),\n",
              " Document(metadata={'source': 'https://stanford.edu/~jurafsky/slp3/7.pdf', 'file_path': 'https://stanford.edu/~jurafsky/slp3/7.pdf', 'page': 0, 'total_pages': 27, 'format': 'PDF 1.5', 'title': '', 'author': '', 'subject': '', 'keywords': '', 'creator': 'LaTeX with hyperref', 'producer': 'pdfTeX-1.40.21', 'creationDate': \"D:20240203150007-08'00'\", 'modDate': \"D:20240203150007-08'00'\", 'trapped': ''}, page_content='Speech and Language Processing.\\nDaniel Jurafsky & James H. Martin.\\nCopyright © 2023.\\nAll\\nrights reserved.\\nDraft of February 3, 2024.\\nCHAPTER\\n7\\nNeural Networks and Neural\\nLanguage Models\\n“[M]achines of this character can behave in a very complicated manner when\\nthe number of units is large.”\\nAlan Turing (1948) “Intelligent Machines”, page 6\\nNeural networks are a fundamental computational tool for language process-\\ning, and a very old one. They are called neural because their origins lie in the\\nMcCulloch-Pitts neuron (McCulloch and Pitts, 1943), a simpliﬁed model of the\\nbiological neuron as a kind of computing element that could be described in terms\\nof propositional logic. But the modern use in language processing no longer draws\\non these early biological inspirations.\\nInstead, a modern neural network is a network of small computing units, each\\nof which takes a vector of input values and produces a single output value. In this\\nchapter we introduce the neural net applied to classiﬁcation. The architecture we'),\n",
              " Document(metadata={'source': 'https://stanford.edu/~jurafsky/slp3/5.pdf', 'file_path': 'https://stanford.edu/~jurafsky/slp3/5.pdf', 'page': 0, 'total_pages': 25, 'format': 'PDF 1.5', 'title': '', 'author': '', 'subject': '', 'keywords': '', 'creator': 'LaTeX with hyperref', 'producer': 'pdfTeX-1.40.21', 'creationDate': \"D:20240203145948-08'00'\", 'modDate': \"D:20240203145948-08'00'\", 'trapped': ''}, page_content='tive classiﬁer while naive Bayes is a generative classiﬁer.\\nThese are two very different frameworks for how\\nto build a machine learning model. Consider a visual\\nmetaphor: imagine we’re trying to distinguish dog\\nimages from cat images. A generative model would\\nhave the goal of understanding what dogs look like\\nand what cats look like. You might literally ask such\\na model to ‘generate’, i.e., draw, a dog. Given a test\\nimage, the system then asks whether it’s the cat model or the dog model that better\\nﬁts (is less surprised by) the image, and chooses that as its label.\\nA discriminative model, by contrast, is only try-\\ning to learn to distinguish the classes (perhaps with-\\nout learning much about them). So maybe all the\\ndogs in the training data are wearing collars and the\\ncats aren’t. If that one feature neatly separates the\\nclasses, the model is satisﬁed.\\nIf you ask such a\\nmodel what it knows about cats all it can say is that\\nthey don’t wear collars.'),\n",
              " Document(metadata={'source': 'https://stanford.edu/~jurafsky/slp3/3.pdf', 'file_path': 'https://stanford.edu/~jurafsky/slp3/3.pdf', 'page': 0, 'total_pages': 30, 'format': 'PDF 1.5', 'title': '', 'author': '', 'subject': '', 'keywords': '', 'creator': 'LaTeX with hyperref', 'producer': 'pdfTeX-1.40.21', 'creationDate': \"D:20240203145934-08'00'\", 'modDate': \"D:20240203145934-08'00'\", 'trapped': ''}, page_content='Speech and Language Processing.\\nDaniel Jurafsky & James H. Martin.\\nCopyright © 2023.\\nAll\\nrights reserved.\\nDraft of February 3, 2024.\\nCHAPTER\\n3\\nN-gram Language Models\\n“You are uniformly charming!” cried he, with a smile of associating and now\\nand then I bowed and they perceived a chaise and four to wish for.\\nRandom sentence generated from a Jane Austen trigram model\\nPredicting is difﬁcult—especially about the future, as the old quip goes. But how\\nabout predicting something that seems much easier, like the next few words someone\\nis going to say? What word, for example, is likely to follow\\nPlease turn your homework ...\\nHopefully, most of you concluded that a very likely word is in, or possibly over,\\nbut probably not refrigerator or the. In this chapter we formalize this intuition by\\nintroducing models that assign a probability to each possible next word.\\nModels that assign probabilities to upcoming words, or sequences of words\\nin general, are called language models or LMs. Why would we want to predict'),\n",
              " Document(metadata={'source': 'https://stanford.edu/~jurafsky/slp3/10.pdf', 'file_path': 'https://stanford.edu/~jurafsky/slp3/10.pdf', 'page': 0, 'total_pages': 30, 'format': 'PDF 1.5', 'title': '', 'author': '', 'subject': '', 'keywords': '', 'creator': 'LaTeX with hyperref', 'producer': 'pdfTeX-1.40.21', 'creationDate': \"D:20240203150033-08'00'\", 'modDate': \"D:20240203150033-08'00'\", 'trapped': ''}, page_content='Speech and Language Processing.\\nDaniel Jurafsky & James H. Martin.\\nCopyright © 2023.\\nAll\\nrights reserved.\\nDraft of February 3, 2024.\\nCHAPTER\\n10\\nTransformers\\nand\\nLarge Language Models\\n“How much do we know at any time? Much more, or so I believe, than we\\nknow we know.”\\nAgatha Christie, The Moving Finger\\nFluent speakers of a language bring an enormous amount of knowledge to bear dur-\\ning comprehension and production. This knowledge is embodied in many forms,\\nperhaps most obviously in the vocabulary, the rich representations we have of words\\nand their meanings and usage. This makes the vocabulary a useful lens to explore\\nthe acquisition of knowledge from text, by both people and machines.\\nEstimates of the size of adult vocabularies vary widely both within and across\\nlanguages. For example, estimates of the vocabulary size of young adult speakers of\\nAmerican English range from 30,000 to 100,000 depending on the resources used\\nto make the estimate and the deﬁnition of what it means to know a word. What'),\n",
              " Document(metadata={'source': 'https://stanford.edu/~jurafsky/slp3/9.pdf', 'file_path': 'https://stanford.edu/~jurafsky/slp3/9.pdf', 'page': 0, 'total_pages': 27, 'format': 'PDF 1.5', 'title': '', 'author': '', 'subject': '', 'keywords': '', 'creator': 'LaTeX with hyperref', 'producer': 'pdfTeX-1.40.21', 'creationDate': \"D:20240203150024-08'00'\", 'modDate': \"D:20240203150024-08'00'\", 'trapped': ''}, page_content='ment analysis or other text classiﬁcation tasks don’t have this temporal nature – they\\nassume simultaneous access to all aspects of their input.\\nThe feedforward networks of Chapter 7 also assumed simultaneous access, al-\\nthough they also had a simple model for time. Recall that we applied feedforward\\nnetworks to language modeling by having them look only at a ﬁxed-size window\\nof words, and then sliding this window over the input, making independent predic-\\ntions along the way. This sliding-window approach is also used in the transformer\\narchitecture we will introduce in Chapter 10.\\nThis chapter introduces a deep learning architecture that offers an alternative\\nway of representing time: recurrent neural networks (RNNs), and their variants like\\nLSTMs. RNNs have a mechanism that deals directly with the sequential nature of\\nlanguage, allowing them to handle the temporal nature of language without the use of\\narbitrary ﬁxed-sized windows. The recurrent network offers a new way to represent')]"
            ]
          },
          "execution_count": 18,
          "metadata": {},
          "output_type": "execute_result"
        }
      ],
      "source": [
        "results"
      ]
    },
    {
      "attachments": {},
      "cell_type": "markdown",
      "metadata": {
        "id": "8R5bM1hz_y3q"
      },
      "source": [
        "# Part-4"
      ]
    },
    {
      "cell_type": "code",
      "execution_count": 19,
      "metadata": {
        "id": "DNO9lTer_1J-"
      },
      "outputs": [],
      "source": [
        "together_api_key = os.getenv(\"TOGETHER_API_KEY\")\n",
        "\n",
        "llm = ChatTogether(\n",
        "    together_api_key=together_api_key,\n",
        "    model=\"meta-llama/Llama-3-70b-chat-hf\",\n",
        "    temperature= 0\n",
        "    )"
      ]
    },
    {
      "cell_type": "code",
      "execution_count": 97,
      "metadata": {
        "id": "11T4V4raYahG"
      },
      "outputs": [],
      "source": [
        "router_prompt_template = (\n",
        " \"You are an expert in routing user queries to either a VectorStore or A Fallback Message or a SearchEngine\\n\"\n",
        " \"Your VectorStore contains data about NLP or natural language process chapters from jurafsky book. if the given query is about NLP, choose VectorStore\"\n",
        " \"If the query is not related to natural language process or NLP questions at all, DO NOT choose any tool.\"\n",
        " \"If the query is related to computer science like programming, database or something like them, choose SearchEngine\"\n",
        " \"Give me only and only the name of the tool you chose and nothing more. If there are no chose tool, give me back the string None\"\n",
        " \"{output_instructions}\"\n",
        " \"query: {query}\"\n",
        ")\n",
        "\n",
        "\n",
        "prompt = ChatPromptTemplate.from_template(\n",
        "    template=router_prompt_template,\n",
        ")"
      ]
    },
    {
      "cell_type": "code",
      "execution_count": 88,
      "metadata": {
        "colab": {
          "base_uri": "https://localhost:8080/",
          "height": 105
        },
        "id": "McVk7x5vZG8G",
        "outputId": "7b3fceee-1eb3-4070-d6c6-eaa762611a4d"
      },
      "outputs": [
        {
          "data": {
            "application/vnd.google.colaboratory.intrinsic+json": {
              "type": "string"
            },
            "text/plain": [
              "'The output should be formatted as a JSON instance that conforms to the JSON schema below.\\n\\nAs an example, for the schema {\"properties\": {\"foo\": {\"title\": \"Foo\", \"description\": \"a list of strings\", \"type\": \"array\", \"items\": {\"type\": \"string\"}}}, \"required\": [\"foo\"]}\\nthe object {\"foo\": [\"bar\", \"baz\"]} is a well-formatted instance of the schema. The object {\"properties\": {\"foo\": [\"bar\", \"baz\"]}} is not well-formatted.\\n\\nHere is the output schema:\\n```\\n{\"properties\": {\"tool_name\": {\"title\": \"Tool Name\", \"description\": \"the tool that was chosen by LLM in question routing stage\", \"enum\": [\"None\", \"VectorStore\", \"SearchEngine\"], \"type\": \"string\"}}, \"required\": [\"tool_name\"]}\\n```'"
            ]
          },
          "execution_count": 88,
          "metadata": {},
          "output_type": "execute_result"
        }
      ],
      "source": [
        "from typing import Literal\n",
        "\n",
        "\n",
        "\n",
        "class ChosenTool(BaseModel):\n",
        "    tool_name: Literal['None', \"VectorStore\", \"SearchEngine\"] = Field(description=\"the tool that was chosen by LLM in question routing stage\")\n",
        "\n",
        "\n",
        "question_router_parser = PydanticOutputParser(pydantic_object=ChosenTool)\n",
        "\n",
        "question_router_parser.get_format_instructions()"
      ]
    },
    {
      "cell_type": "code",
      "execution_count": 89,
      "metadata": {
        "colab": {
          "base_uri": "https://localhost:8080/"
        },
        "id": "y6NwWsYrcuBn",
        "outputId": "8f3dcc4b-c6f2-4258-aec8-2e34a5d0eb6c"
      },
      "outputs": [
        {
          "data": {
            "text/plain": [
              "ChosenTool(tool_name='SearchEngine')"
            ]
          },
          "execution_count": 89,
          "metadata": {},
          "output_type": "execute_result"
        }
      ],
      "source": [
        "question_router = prompt | llm | question_router_parser\n",
        "\n",
        "res = question_router.invoke({\"query\": \"do you know anything about database\",\n",
        "                                   \"output_instructions\": question_router_parser.get_format_instructions()\n",
        " })\n",
        "res"
      ]
    },
    {
      "cell_type": "code",
      "execution_count": 94,
      "metadata": {
        "id": "UVurJLfjX3U0"
      },
      "outputs": [],
      "source": [
        "prompt_template_a = \"Hi, I'm learning {tool} to use it with LLMs and make awesome stuff!\"\n",
        "\n",
        "prompt_chat_template_a = ChatPromptTemplate.from_template(\n",
        "    template=prompt_template_a,\n",
        ")\n"
      ]
    },
    {
      "cell_type": "code",
      "execution_count": 96,
      "metadata": {
        "colab": {
          "base_uri": "https://localhost:8080/",
          "height": 87
        },
        "id": "qxfVrOZfZ2zz",
        "outputId": "defde73d-c8fa-4895-dd11-80f2aaef83d4"
      },
      "outputs": [
        {
          "data": {
            "application/vnd.google.colaboratory.intrinsic+json": {
              "type": "string"
            },
            "text/plain": [
              "\"That's great to hear! LlamaIndex is an amazing tool for building applications with Large Language Models (LLMs). It provides a simple and efficient way to index and query large language models, making it easier to integrate them into your projects.\\n\\nWhat kind of awesome stuff are you planning to build with LlamaIndex and LLMs? Are you looking to create a chatbot, a language-based game, or something entirely new?\\n\\nIf you have any questions or need help getting started with LlamaIndex, feel free to ask! I'm here to assist you.\""
            ]
          },
          "execution_count": 96,
          "metadata": {},
          "output_type": "execute_result"
        }
      ],
      "source": [
        "chain = prompt_chat_template_a | llm\n",
        "\n",
        "chain.invoke(\n",
        "    {\n",
        "    \"tool\":\"llama_index\"\n",
        "  }\n",
        ").content"
      ]
    },
    {
      "attachments": {},
      "cell_type": "markdown",
      "metadata": {
        "id": "ccHl8iOblH13"
      },
      "source": [
        "# Part-5"
      ]
    },
    {
      "cell_type": "code",
      "execution_count": 129,
      "metadata": {
        "id": "pNDF9If_lLlG"
      },
      "outputs": [],
      "source": []
    },
    {
      "cell_type": "code",
      "execution_count": 130,
      "metadata": {
        "colab": {
          "base_uri": "https://localhost:8080/"
        },
        "id": "Z066L7CnllA1",
        "outputId": "a18bb112-289e-4b0b-e5e4-72dcbfdb7c40"
      },
      "outputs": [
        {
          "name": "stdout",
          "output_type": "stream",
          "text": [
            "Requirement already satisfied: langchain-community in /usr/local/lib/python3.10/dist-packages (0.2.6)\n",
            "Requirement already satisfied: tavily-python in /usr/local/lib/python3.10/dist-packages (0.3.3)\n",
            "Requirement already satisfied: PyYAML>=5.3 in /usr/local/lib/python3.10/dist-packages (from langchain-community) (6.0.1)\n",
            "Requirement already satisfied: SQLAlchemy<3,>=1.4 in /usr/local/lib/python3.10/dist-packages (from langchain-community) (2.0.31)\n",
            "Requirement already satisfied: aiohttp<4.0.0,>=3.8.3 in /usr/local/lib/python3.10/dist-packages (from langchain-community) (3.9.5)\n",
            "Requirement already satisfied: dataclasses-json<0.7,>=0.5.7 in /usr/local/lib/python3.10/dist-packages (from langchain-community) (0.6.7)\n",
            "Requirement already satisfied: langchain<0.3.0,>=0.2.6 in /usr/local/lib/python3.10/dist-packages (from langchain-community) (0.2.6)\n",
            "Requirement already satisfied: langchain-core<0.3.0,>=0.2.10 in /usr/local/lib/python3.10/dist-packages (from langchain-community) (0.2.11)\n",
            "Requirement already satisfied: langsmith<0.2.0,>=0.1.0 in /usr/local/lib/python3.10/dist-packages (from langchain-community) (0.1.84)\n",
            "Requirement already satisfied: numpy<2,>=1 in /usr/local/lib/python3.10/dist-packages (from langchain-community) (1.25.2)\n",
            "Requirement already satisfied: requests<3,>=2 in /usr/local/lib/python3.10/dist-packages (from langchain-community) (2.31.0)\n",
            "Requirement already satisfied: tenacity!=8.4.0,<9.0.0,>=8.1.0 in /usr/local/lib/python3.10/dist-packages (from langchain-community) (8.4.2)\n",
            "Requirement already satisfied: tiktoken<1,>=0.5.2 in /usr/local/lib/python3.10/dist-packages (from tavily-python) (0.7.0)\n",
            "Requirement already satisfied: aiosignal>=1.1.2 in /usr/local/lib/python3.10/dist-packages (from aiohttp<4.0.0,>=3.8.3->langchain-community) (1.3.1)\n",
            "Requirement already satisfied: attrs>=17.3.0 in /usr/local/lib/python3.10/dist-packages (from aiohttp<4.0.0,>=3.8.3->langchain-community) (23.2.0)\n",
            "Requirement already satisfied: frozenlist>=1.1.1 in /usr/local/lib/python3.10/dist-packages (from aiohttp<4.0.0,>=3.8.3->langchain-community) (1.4.1)\n",
            "Requirement already satisfied: multidict<7.0,>=4.5 in /usr/local/lib/python3.10/dist-packages (from aiohttp<4.0.0,>=3.8.3->langchain-community) (6.0.5)\n",
            "Requirement already satisfied: yarl<2.0,>=1.0 in /usr/local/lib/python3.10/dist-packages (from aiohttp<4.0.0,>=3.8.3->langchain-community) (1.9.4)\n",
            "Requirement already satisfied: async-timeout<5.0,>=4.0 in /usr/local/lib/python3.10/dist-packages (from aiohttp<4.0.0,>=3.8.3->langchain-community) (4.0.3)\n",
            "Requirement already satisfied: marshmallow<4.0.0,>=3.18.0 in /usr/local/lib/python3.10/dist-packages (from dataclasses-json<0.7,>=0.5.7->langchain-community) (3.21.3)\n",
            "Requirement already satisfied: typing-inspect<1,>=0.4.0 in /usr/local/lib/python3.10/dist-packages (from dataclasses-json<0.7,>=0.5.7->langchain-community) (0.9.0)\n",
            "Requirement already satisfied: langchain-text-splitters<0.3.0,>=0.2.0 in /usr/local/lib/python3.10/dist-packages (from langchain<0.3.0,>=0.2.6->langchain-community) (0.2.2)\n",
            "Requirement already satisfied: pydantic<3,>=1 in /usr/local/lib/python3.10/dist-packages (from langchain<0.3.0,>=0.2.6->langchain-community) (2.8.0)\n",
            "Requirement already satisfied: jsonpatch<2.0,>=1.33 in /usr/local/lib/python3.10/dist-packages (from langchain-core<0.3.0,>=0.2.10->langchain-community) (1.33)\n",
            "Requirement already satisfied: packaging<25,>=23.2 in /usr/local/lib/python3.10/dist-packages (from langchain-core<0.3.0,>=0.2.10->langchain-community) (24.1)\n",
            "Requirement already satisfied: orjson<4.0.0,>=3.9.14 in /usr/local/lib/python3.10/dist-packages (from langsmith<0.2.0,>=0.1.0->langchain-community) (3.10.6)\n",
            "Requirement already satisfied: charset-normalizer<4,>=2 in /usr/local/lib/python3.10/dist-packages (from requests<3,>=2->langchain-community) (3.3.2)\n",
            "Requirement already satisfied: idna<4,>=2.5 in /usr/local/lib/python3.10/dist-packages (from requests<3,>=2->langchain-community) (3.7)\n",
            "Requirement already satisfied: urllib3<3,>=1.21.1 in /usr/local/lib/python3.10/dist-packages (from requests<3,>=2->langchain-community) (2.0.7)\n",
            "Requirement already satisfied: certifi>=2017.4.17 in /usr/local/lib/python3.10/dist-packages (from requests<3,>=2->langchain-community) (2024.6.2)\n",
            "Requirement already satisfied: typing-extensions>=4.6.0 in /usr/local/lib/python3.10/dist-packages (from SQLAlchemy<3,>=1.4->langchain-community) (4.12.2)\n",
            "Requirement already satisfied: greenlet!=0.4.17 in /usr/local/lib/python3.10/dist-packages (from SQLAlchemy<3,>=1.4->langchain-community) (3.0.3)\n",
            "Requirement already satisfied: regex>=2022.1.18 in /usr/local/lib/python3.10/dist-packages (from tiktoken<1,>=0.5.2->tavily-python) (2024.5.15)\n",
            "Requirement already satisfied: jsonpointer>=1.9 in /usr/local/lib/python3.10/dist-packages (from jsonpatch<2.0,>=1.33->langchain-core<0.3.0,>=0.2.10->langchain-community) (3.0.0)\n",
            "Requirement already satisfied: annotated-types>=0.4.0 in /usr/local/lib/python3.10/dist-packages (from pydantic<3,>=1->langchain<0.3.0,>=0.2.6->langchain-community) (0.7.0)\n",
            "Requirement already satisfied: pydantic-core==2.20.0 in /usr/local/lib/python3.10/dist-packages (from pydantic<3,>=1->langchain<0.3.0,>=0.2.6->langchain-community) (2.20.0)\n",
            "Requirement already satisfied: mypy-extensions>=0.3.0 in /usr/local/lib/python3.10/dist-packages (from typing-inspect<1,>=0.4.0->dataclasses-json<0.7,>=0.5.7->langchain-community) (1.0.0)\n"
          ]
        }
      ],
      "source": [
        "!pip install -U langchain-community tavily-python"
      ]
    },
    {
      "cell_type": "code",
      "execution_count": 131,
      "metadata": {
        "colab": {
          "base_uri": "https://localhost:8080/"
        },
        "id": "AyoFr1KjpDbz",
        "outputId": "834f5fc0-3775-4562-ffc8-9e0041b7b9f4"
      },
      "outputs": [
        {
          "name": "stdout",
          "output_type": "stream",
          "text": [
            "Requirement already satisfied: langchain-openai in /usr/local/lib/python3.10/dist-packages (0.1.14)\n",
            "Requirement already satisfied: langchain-core<0.3,>=0.2.2 in /usr/local/lib/python3.10/dist-packages (from langchain-openai) (0.2.11)\n",
            "Requirement already satisfied: openai<2.0.0,>=1.32.0 in /usr/local/lib/python3.10/dist-packages (from langchain-openai) (1.35.10)\n",
            "Requirement already satisfied: tiktoken<1,>=0.7 in /usr/local/lib/python3.10/dist-packages (from langchain-openai) (0.7.0)\n",
            "Requirement already satisfied: PyYAML>=5.3 in /usr/local/lib/python3.10/dist-packages (from langchain-core<0.3,>=0.2.2->langchain-openai) (6.0.1)\n",
            "Requirement already satisfied: jsonpatch<2.0,>=1.33 in /usr/local/lib/python3.10/dist-packages (from langchain-core<0.3,>=0.2.2->langchain-openai) (1.33)\n",
            "Requirement already satisfied: langsmith<0.2.0,>=0.1.75 in /usr/local/lib/python3.10/dist-packages (from langchain-core<0.3,>=0.2.2->langchain-openai) (0.1.84)\n",
            "Requirement already satisfied: packaging<25,>=23.2 in /usr/local/lib/python3.10/dist-packages (from langchain-core<0.3,>=0.2.2->langchain-openai) (24.1)\n",
            "Requirement already satisfied: pydantic<3,>=1 in /usr/local/lib/python3.10/dist-packages (from langchain-core<0.3,>=0.2.2->langchain-openai) (2.8.0)\n",
            "Requirement already satisfied: tenacity!=8.4.0,<9.0.0,>=8.1.0 in /usr/local/lib/python3.10/dist-packages (from langchain-core<0.3,>=0.2.2->langchain-openai) (8.4.2)\n",
            "Requirement already satisfied: anyio<5,>=3.5.0 in /usr/local/lib/python3.10/dist-packages (from openai<2.0.0,>=1.32.0->langchain-openai) (3.7.1)\n",
            "Requirement already satisfied: distro<2,>=1.7.0 in /usr/lib/python3/dist-packages (from openai<2.0.0,>=1.32.0->langchain-openai) (1.7.0)\n",
            "Requirement already satisfied: httpx<1,>=0.23.0 in /usr/local/lib/python3.10/dist-packages (from openai<2.0.0,>=1.32.0->langchain-openai) (0.27.0)\n",
            "Requirement already satisfied: sniffio in /usr/local/lib/python3.10/dist-packages (from openai<2.0.0,>=1.32.0->langchain-openai) (1.3.1)\n",
            "Requirement already satisfied: tqdm>4 in /usr/local/lib/python3.10/dist-packages (from openai<2.0.0,>=1.32.0->langchain-openai) (4.66.4)\n",
            "Requirement already satisfied: typing-extensions<5,>=4.7 in /usr/local/lib/python3.10/dist-packages (from openai<2.0.0,>=1.32.0->langchain-openai) (4.12.2)\n",
            "Requirement already satisfied: regex>=2022.1.18 in /usr/local/lib/python3.10/dist-packages (from tiktoken<1,>=0.7->langchain-openai) (2024.5.15)\n",
            "Requirement already satisfied: requests>=2.26.0 in /usr/local/lib/python3.10/dist-packages (from tiktoken<1,>=0.7->langchain-openai) (2.31.0)\n",
            "Requirement already satisfied: idna>=2.8 in /usr/local/lib/python3.10/dist-packages (from anyio<5,>=3.5.0->openai<2.0.0,>=1.32.0->langchain-openai) (3.7)\n",
            "Requirement already satisfied: exceptiongroup in /usr/local/lib/python3.10/dist-packages (from anyio<5,>=3.5.0->openai<2.0.0,>=1.32.0->langchain-openai) (1.2.1)\n",
            "Requirement already satisfied: certifi in /usr/local/lib/python3.10/dist-packages (from httpx<1,>=0.23.0->openai<2.0.0,>=1.32.0->langchain-openai) (2024.6.2)\n",
            "Requirement already satisfied: httpcore==1.* in /usr/local/lib/python3.10/dist-packages (from httpx<1,>=0.23.0->openai<2.0.0,>=1.32.0->langchain-openai) (1.0.5)\n",
            "Requirement already satisfied: h11<0.15,>=0.13 in /usr/local/lib/python3.10/dist-packages (from httpcore==1.*->httpx<1,>=0.23.0->openai<2.0.0,>=1.32.0->langchain-openai) (0.14.0)\n",
            "Requirement already satisfied: jsonpointer>=1.9 in /usr/local/lib/python3.10/dist-packages (from jsonpatch<2.0,>=1.33->langchain-core<0.3,>=0.2.2->langchain-openai) (3.0.0)\n",
            "Requirement already satisfied: orjson<4.0.0,>=3.9.14 in /usr/local/lib/python3.10/dist-packages (from langsmith<0.2.0,>=0.1.75->langchain-core<0.3,>=0.2.2->langchain-openai) (3.10.6)\n",
            "Requirement already satisfied: annotated-types>=0.4.0 in /usr/local/lib/python3.10/dist-packages (from pydantic<3,>=1->langchain-core<0.3,>=0.2.2->langchain-openai) (0.7.0)\n",
            "Requirement already satisfied: pydantic-core==2.20.0 in /usr/local/lib/python3.10/dist-packages (from pydantic<3,>=1->langchain-core<0.3,>=0.2.2->langchain-openai) (2.20.0)\n",
            "Requirement already satisfied: charset-normalizer<4,>=2 in /usr/local/lib/python3.10/dist-packages (from requests>=2.26.0->tiktoken<1,>=0.7->langchain-openai) (3.3.2)\n",
            "Requirement already satisfied: urllib3<3,>=1.21.1 in /usr/local/lib/python3.10/dist-packages (from requests>=2.26.0->tiktoken<1,>=0.7->langchain-openai) (2.0.7)\n"
          ]
        }
      ],
      "source": [
        "!pip install -U langchain-openai\n"
      ]
    },
    {
      "cell_type": "code",
      "execution_count": 132,
      "metadata": {
        "id": "Q4xSC5Txqmau"
      },
      "outputs": [],
      "source": [
        "os.environ[\"TAVILY_API_KEY\"] = \"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\""
      ]
    },
    {
      "cell_type": "code",
      "execution_count": 133,
      "metadata": {
        "id": "fsNbdpmVpar1"
      },
      "outputs": [],
      "source": [
        "import os\n",
        "from langchain_community.tools.tavily_search import TavilySearchResults\n",
        "\n",
        "# Load API key from environment variable (assuming it's set as TAVILY_API_KEY)\n",
        "api_key = os.environ.get(\"TAVILY_API_KEY\")\n",
        "\n",
        "if not api_key:\n",
        "    raise ValueError(\"TAVILY_API_KEY environment variable not set!\")"
      ]
    },
    {
      "cell_type": "code",
      "execution_count": 134,
      "metadata": {
        "id": "n6YHpYyaplYC"
      },
      "outputs": [],
      "source": [
        "tavily_tool = TavilySearchResults(api_key=api_key, max_results=5)\n",
        "response = tavily_tool.invoke(\"who is president of USA rightnow?\")"
      ]
    },
    {
      "cell_type": "code",
      "execution_count": 135,
      "metadata": {
        "colab": {
          "base_uri": "https://localhost:8080/"
        },
        "id": "uL29J5iLqQcw",
        "outputId": "2c99157d-bc15-4161-a454-8063b1278e27"
      },
      "outputs": [
        {
          "data": {
            "text/plain": [
              "[{'url': 'https://www.featureweekly.com/what-is-the-net-worth-of-joe-biden-heres-the-latest/',\n",
              "  'content': 'Here’s the Latest President Joe Biden, the 46th and current President of the United States, has been active as a government official since he was elected to the United States Senate at the age of 29, the youngest person ever to do so. Share This Post Related Posts How Hybrid Work and Flexible Spaces Are Changing Business Strategy Strategies for Effective Data Monetization and Revenue Generation 6 iPhone Tips Every Business Owner Should Know Spotify Rolls Out New Basic Streaming Plan for US Customers Categories Recent Posts Advertisement Popular Posts Categories Most Views Posts Recent Posts Forbes magazine reported that Biden had an estimated net worth of $8 million when he took office as president in 2021, and that it has increased by 25% since then, due to his presidential salary, rising real estate values, and a strong stock market that increased the value of his investments.  The Bidens also reported making charitable donations of $20,477 to 17 different charities, including the Beau Biden Foundation, the Tragedy Assistance Program for Survivors, and the National Fraternal Order of Police Foundation.  Biden served as a Senator from Delaware for 36 years, then became the 47th Vice President in the Obama Administration, and was elected to the White House in 2020. '},\n",
              " {'url': 'https://ca.news.yahoo.com/rules-tonights-presidential-debate-015333368.html',\n",
              "  'content': '“The president of the United States is the most powerful person in the country, and possibly the world,” ‘You are not a stable adult and are not fit for office’ said former lawmaker from Wyoming Trump\\'s former attorney general couldn\\'t help but laugh after Neil Cavuto mentioned that the former White House adviser is now behind bars.  Her conspicuous absence from the debate last Thursday raised eyebrows as President Joe Biden’s wife was in clear vi Justice Sonia Sotomayor issued a withering dissent to the Supreme Court’s presidential immunity ruling on Monday, writing that U.S. presidents will now be able to assassinate political rivals and accept bribes with impunity while they’re in office. The president’s campaign opted for the podium on the right side of the stage, meaning Trump’s campaign got to choose the order of closing statements. The Virginia State Board of Elections on Tuesday certified the apparent narrow defeat of Republican Rep. Bob Good, one of America\\'s most conservative congressmen, to a challenger endorsed by former President Donald Trump in the state\\'s June 18 primaries.  \" A new poll conducted by CNN shows the Democratic Party could have a better shot at the 2024 presidential election if there were another option besides Biden J. Michael Luttig said the decision represented the \"unsouling\" of America.'},\n",
              " {'url': 'https://www.bignewsnetwork.com/news/274445854/biden-refuses-to-believe-poll-numbers',\n",
              "  'content': 'Abortion measures could be on Arizona and Nebraska ballots Federal judge halts Mississippi law requiring age check for websites Grandparents in Sweden to be paid to care for own grandkids Indiana Congresswoman charged with taking gun through airport security Biden refuses to believe poll numbers The incumbent says there\\'s nobody \"more qualified\" to lead the US, regardless of public opinion US President Joe Biden is struggling to dispel concerns over whether he is mentally and physically capable of leading the country for another four years following his halting performance in a televised debate against Republican rival Donald Trump. The incumbent says there\\'s nobody \"more qualified\" to lead the US, regardless of public opinion US President Joe Biden is struggling to dispel concerns over whether he is mentally and physically capable of leading the country for another four years following his halting performance in a televised debate against Republican rival Donald Trump.  The incumbent says there\\'s nobody \"more qualified\" to lead the US, regardless of public opinion US President Joe Biden is struggling to dispel concerns over whether he is mentally and physically capable of leading the country for another four years following his halting performance in a televised debate against Republican rival Donald Trump.  The incumbent says there\\'s nobody \"more qualified\" to lead the US, regardless of public opinion US President Joe Biden is struggling to dispel concerns over whether he is mentally and physically capable of leading the country for another four years following his halting performance in a televised debate against Republican rival Donald Trump. The oldest US president in history appeared so frail and confused throughout the encounter last week that a survey conducted by CBS News/YouGov shortly afterwards found that 72% of registered voters do not believe Biden has the \"mental and cognitive health necessary to serve as president.'},\n",
              " {'url': 'https://www.foxnews.com/live-news/biden-campaign-drop-out-july-4',\n",
              "  'content': '(Photo by Demetrius Freeman/The Washington Post via Getty Images) President Biden and his top officials say they have accepted an ultimatum from the Democratic Party that the president must demonstrate to the nation he is fit for office or face a concerted effort to have him bow out of the race.  And the survey, released Wednesday by The New York Times and Siena College, spotlights a surge in concerns that the 81-year-old Biden, the oldest president in the nation\\'s history, is unable to govern the nation effectively.  “Today is a day to celebrate the freedoms Donald Trump is trying to rip away, to honor the troops Trump has called ‘suckers’ and ‘losers,’ and to mark the birth of our democracy as convicted felon Donald Trump fights to make himself a dictator,\" Biden-Harris 2024 Spokesperson Sarafina Chitika said.  \" Deleted Biden X post featuring glaring gaffe goes viral: \\'Not the best timing\\' President Biden’s official White House X account appeared to feature a gaffe of its own Tuesday afternoon in a now-deleted post. @POTUS was trying to comment on a Louisiana federal judge issuing a preliminary injunction on the White House’s ban on new liquefied natural gas exports. The report accused \"right-wing media figures\" of sharing \"deceptively edited clips\" of Biden, citing the one from the G7 Summit where Biden stepped away from other world leaders to give a thumbs up to parachutists off-camera, prompting Italian Prime Minister Giorgia Meloni to corral him back to the group for a photo-op, rejecting allegations he was \"wandering off.'},\n",
              " {'url': 'https://www.washingtonpost.com/politics/2024/06/22/jimmy-carter-100-birthday-celebration/',\n",
              "  'content': 'BORN PRESIDENT Jimmy Carter 1924 1977-1981 2024 Joe Biden Donald Trump Barack Obama George W. Bush Bill Clinton DIED George H.W. Bush Ronald Reagan Gerald Ford Richard M. Nixon Lyndon B. Johnson John F. Kennedy Dwight D. Eisenhower Harry S. Truman Franklin D. Roosevelt Herbert Hoover Calvin Coolidge William Howard Taft 1920 1940 1960 1980 2000 2020 Source: PresidentsUSA KEVIN SCHAUL/ Joe Biden Donald Trump Barack Obama George W. Bush Bill Clinton DIED George H.W. Bush Ronald Reagan Gerald Ford Richard M. Nixon Lyndon B. Johnson John F. Kennedy Dwight D. Eisenhower Harry S. Truman Franklin D. Roosevelt Herbert Hoover Calvin Coolidge William Howard Taft 1920 1960 2000 Source: PresidentsUSA KEVIN SCHAUL/ BORN PRESIDENT Jimmy Carter 1924 1977- 1981 2024  THE WASHINGTON POST Hundreds of people have already left messages of encouragement on the countdown clock website, including one saying: “I have always remembered you for 3 things, Jimmy; the peanuts, a presidency, and pride in (a) hard day’s work.”  Richard M. Nixon, who resigned over the Watergate scandal, said later in life that “I just get up every morning to confound my enemies.” Norton Smith said he didn’t know what was driving Carter, but said Carter’s 43-year post-presidency, a record, has greatly enhanced his legacy — and he has lived long enough to see it.'}]"
            ]
          },
          "execution_count": 135,
          "metadata": {},
          "output_type": "execute_result"
        }
      ],
      "source": [
        "response"
      ]
    },
    {
      "cell_type": "code",
      "execution_count": 136,
      "metadata": {
        "colab": {
          "base_uri": "https://localhost:8080/"
        },
        "id": "u9KiMbDwqtCf",
        "outputId": "ea1afff5-88e6-404a-9f62-ff8de6a71f46"
      },
      "outputs": [
        {
          "name": "stdout",
          "output_type": "stream",
          "text": [
            "Requirement already satisfied: langchain-openai in /usr/local/lib/python3.10/dist-packages (0.1.14)\n",
            "Requirement already satisfied: langchainhub in /usr/local/lib/python3.10/dist-packages (0.1.20)\n",
            "Requirement already satisfied: langchain-core<0.3,>=0.2.2 in /usr/local/lib/python3.10/dist-packages (from langchain-openai) (0.2.11)\n",
            "Requirement already satisfied: openai<2.0.0,>=1.32.0 in /usr/local/lib/python3.10/dist-packages (from langchain-openai) (1.35.10)\n",
            "Requirement already satisfied: tiktoken<1,>=0.7 in /usr/local/lib/python3.10/dist-packages (from langchain-openai) (0.7.0)\n",
            "Requirement already satisfied: packaging<25,>=23.2 in /usr/local/lib/python3.10/dist-packages (from langchainhub) (24.1)\n",
            "Requirement already satisfied: requests<3,>=2 in /usr/local/lib/python3.10/dist-packages (from langchainhub) (2.31.0)\n",
            "Requirement already satisfied: types-requests<3.0.0.0,>=2.31.0.2 in /usr/local/lib/python3.10/dist-packages (from langchainhub) (2.32.0.20240622)\n",
            "Requirement already satisfied: PyYAML>=5.3 in /usr/local/lib/python3.10/dist-packages (from langchain-core<0.3,>=0.2.2->langchain-openai) (6.0.1)\n",
            "Requirement already satisfied: jsonpatch<2.0,>=1.33 in /usr/local/lib/python3.10/dist-packages (from langchain-core<0.3,>=0.2.2->langchain-openai) (1.33)\n",
            "Requirement already satisfied: langsmith<0.2.0,>=0.1.75 in /usr/local/lib/python3.10/dist-packages (from langchain-core<0.3,>=0.2.2->langchain-openai) (0.1.84)\n",
            "Requirement already satisfied: pydantic<3,>=1 in /usr/local/lib/python3.10/dist-packages (from langchain-core<0.3,>=0.2.2->langchain-openai) (2.8.0)\n",
            "Requirement already satisfied: tenacity!=8.4.0,<9.0.0,>=8.1.0 in /usr/local/lib/python3.10/dist-packages (from langchain-core<0.3,>=0.2.2->langchain-openai) (8.4.2)\n",
            "Requirement already satisfied: anyio<5,>=3.5.0 in /usr/local/lib/python3.10/dist-packages (from openai<2.0.0,>=1.32.0->langchain-openai) (3.7.1)\n",
            "Requirement already satisfied: distro<2,>=1.7.0 in /usr/lib/python3/dist-packages (from openai<2.0.0,>=1.32.0->langchain-openai) (1.7.0)\n",
            "Requirement already satisfied: httpx<1,>=0.23.0 in /usr/local/lib/python3.10/dist-packages (from openai<2.0.0,>=1.32.0->langchain-openai) (0.27.0)\n",
            "Requirement already satisfied: sniffio in /usr/local/lib/python3.10/dist-packages (from openai<2.0.0,>=1.32.0->langchain-openai) (1.3.1)\n",
            "Requirement already satisfied: tqdm>4 in /usr/local/lib/python3.10/dist-packages (from openai<2.0.0,>=1.32.0->langchain-openai) (4.66.4)\n",
            "Requirement already satisfied: typing-extensions<5,>=4.7 in /usr/local/lib/python3.10/dist-packages (from openai<2.0.0,>=1.32.0->langchain-openai) (4.12.2)\n",
            "Requirement already satisfied: charset-normalizer<4,>=2 in /usr/local/lib/python3.10/dist-packages (from requests<3,>=2->langchainhub) (3.3.2)\n",
            "Requirement already satisfied: idna<4,>=2.5 in /usr/local/lib/python3.10/dist-packages (from requests<3,>=2->langchainhub) (3.7)\n",
            "Requirement already satisfied: urllib3<3,>=1.21.1 in /usr/local/lib/python3.10/dist-packages (from requests<3,>=2->langchainhub) (2.0.7)\n",
            "Requirement already satisfied: certifi>=2017.4.17 in /usr/local/lib/python3.10/dist-packages (from requests<3,>=2->langchainhub) (2024.6.2)\n",
            "Requirement already satisfied: regex>=2022.1.18 in /usr/local/lib/python3.10/dist-packages (from tiktoken<1,>=0.7->langchain-openai) (2024.5.15)\n",
            "Requirement already satisfied: exceptiongroup in /usr/local/lib/python3.10/dist-packages (from anyio<5,>=3.5.0->openai<2.0.0,>=1.32.0->langchain-openai) (1.2.1)\n",
            "Requirement already satisfied: httpcore==1.* in /usr/local/lib/python3.10/dist-packages (from httpx<1,>=0.23.0->openai<2.0.0,>=1.32.0->langchain-openai) (1.0.5)\n",
            "Requirement already satisfied: h11<0.15,>=0.13 in /usr/local/lib/python3.10/dist-packages (from httpcore==1.*->httpx<1,>=0.23.0->openai<2.0.0,>=1.32.0->langchain-openai) (0.14.0)\n",
            "Requirement already satisfied: jsonpointer>=1.9 in /usr/local/lib/python3.10/dist-packages (from jsonpatch<2.0,>=1.33->langchain-core<0.3,>=0.2.2->langchain-openai) (3.0.0)\n",
            "Requirement already satisfied: orjson<4.0.0,>=3.9.14 in /usr/local/lib/python3.10/dist-packages (from langsmith<0.2.0,>=0.1.75->langchain-core<0.3,>=0.2.2->langchain-openai) (3.10.6)\n",
            "Requirement already satisfied: annotated-types>=0.4.0 in /usr/local/lib/python3.10/dist-packages (from pydantic<3,>=1->langchain-core<0.3,>=0.2.2->langchain-openai) (0.7.0)\n",
            "Requirement already satisfied: pydantic-core==2.20.0 in /usr/local/lib/python3.10/dist-packages (from pydantic<3,>=1->langchain-core<0.3,>=0.2.2->langchain-openai) (2.20.0)\n"
          ]
        }
      ],
      "source": [
        "!pip install -U langchain-openai langchainhub"
      ]
    },
    {
      "cell_type": "code",
      "execution_count": 137,
      "metadata": {
        "id": "LNjnnx84rYcB"
      },
      "outputs": [],
      "source": [
        "from pydantic import BaseModel, Field\n",
        "from typing import List, Literal\n",
        "from langchain_core.prompts import ChatPromptTemplate\n",
        "from langchain_core.output_parsers import PydanticOutputParser\n",
        "from langchain_core.documents import Document"
      ]
    },
    {
      "cell_type": "code",
      "execution_count": 137,
      "metadata": {
        "id": "FUJwuSGOsH44"
      },
      "outputs": [],
      "source": []
    },
    {
      "cell_type": "code",
      "execution_count": 146,
      "metadata": {
        "id": "oCrljxIqPcdA"
      },
      "outputs": [],
      "source": [
        "from langchain_core.documents import Document\n",
        "\n",
        "def document_tavily_langchain(response):\n",
        "  documents = []\n",
        "\n",
        "  for item in response:\n",
        "    document = Document(\n",
        "        page_content=item['content'],\n",
        "        metadata={\"source\": item['url']}\n",
        "    )\n",
        "    documents.append(document)\n",
        "\n",
        "  return documents\n",
        "\n",
        "query_ = \"do you know anything about database\""
      ]
    },
    {
      "cell_type": "code",
      "execution_count": 139,
      "metadata": {
        "id": "_4W0GlLW4hhB"
      },
      "outputs": [],
      "source": [
        "response = tavily_tool.invoke(query_)\n",
        "responses_tavily = document_tavily_langchain(response)"
      ]
    },
    {
      "cell_type": "code",
      "execution_count": 141,
      "metadata": {
        "colab": {
          "base_uri": "https://localhost:8080/"
        },
        "id": "QyuQWI-o45vD",
        "outputId": "f98a4c3c-b4ee-45f8-8c9f-833d26f4478d"
      },
      "outputs": [
        {
          "data": {
            "text/plain": [
              "[Document(metadata={'source': 'https://www.forbes.com/sites/ayaspencer/2024/03/06/why-all-policymakers-must-understand-the-basics-of-database-design/'}, page_content=\"Why All Policymakers Must Understand The Basics Of Database Design The United States, Capitol Dome background in retro style In the world of tech and innovation, there's a perception that new and disruptive technologies originate solely from a select group of tech elites in Silicon Valley. So simply put, a database is a structured system to efficiently organize data, while database design is the method of organizing data within these systems.  Often, by the time a technology reaches the masses, we find ourselves simply as consumers, offering up our data without a thorough understanding of how it's being used to deliver a service.  While this solution sounds promising in addressing the global mental health crisis, a lack of understanding about the backend database design of Help123 can result in some serious consequences.  For example, pulling data on medication side effects from one source and information on side effects of another medication from a separate source might cause incomplete data on the comprehensive spectrum of side effects for various medications.\"),\n",
              " Document(metadata={'source': 'https://www.itnews.com.au/news/oracle-updates-database-technology-for-ai-chatbots-607641'}, page_content='Oracle updates database technology for AI chatbots US moves to bar Huawei, other Chinese telecoms from certifying wireless equipment Commonwealth referrals to identity theft support soar Man arrested after NSW, ACT club data leak NAB tech and investment spend up $80 million Log In Oracle updates database technology for AI chatbots To make it easier for AI to find data stored in corporate systems.  Related Articles Partner Content Sponsored Whitepapers Most Read Articles Instagram fixes bug that triggered hours-long outage Hearing to decide if X\\'s 65 VPN-accessible tweets break law set for May X calls takedown orders over Sydney stabbing video \"unlawful\" Qantas app displays wrong flyer info to users Digital Nation Most popular tech stories State of Security 2023 COVER STORY: Case study: Warren and Mahoney adopts digital tools to reduce its carbon footprint Cricket Australia automates experiences for fans and players Photos: See who was at BeyondTrust\\'s Sydney partner conference Broadcom tells partner negotiating for charity ‘VMware is not for everybody’ Cognizant inks five-year deal with Telstra to uplift software engineering and IT Broadcom issues update on partner program, VMware portfolio changes Fortinet salutes Photos: The 2023 IoT Awards winners Photos: The 2019 IoT Festival in Melbourne Meet the Environmental Monitoring Award finalists in the IoT Awards Meet the Data Smart Transformation Award finalists in the IoT Awards Photos: 2023 IoT Impact exhibitors Log For example, if a person is searching a database of used cars and wants a sport utility vehicle with a certain mileage and colour and would prefer heated seats but is willing to trade that feature for lower mileage, a traditional database technology might struggle to understand what the user is looking for. '),\n",
              " Document(metadata={'source': 'https://www.darkreading.com/cybersecurity-analytics/picking-right-database-tech-cybersecurity-defense'}, page_content='\"It’s our view that more and more data challenges require a graph database, especially when your data is highly connected, and there is a need to traverse through those multiple connections,\" says Neo4J\\'s Michlin, adding: \"They find hidden relationships and patterns across billions of data connections deeply, easily, and quickly, and they are a natural fit for this kind of data. \" Cybersecurity Data Needs Better Representation Various graph representations of data evolved along with network data models in the 1970s, object-oriented databases in the 1980s, and graph database models in the 1990s, according to one survey of graph database models. An implementation of the new language as a plugin for the relational database, DuckDB, showed \"encouraging performance and scalability,\" according to a paper by a research team at the Centrum Wiskunde & Informatica institute in the Netherlands.  Social networks of threat actors, connected assets in defenders\\' networks, and indicators of compromise are some types of data where the relationship between the elements of the dataset is extremely important.  One of the primary challenges in dealing with this data and using graphs for cybersecurity is managing the complexity and volume of data, says PuppyGraph\\'s Liu. '),\n",
              " Document(metadata={'source': 'https://umdstatesman.com/database-software-market-top-trends-and-2032-outlook/'}, page_content='The significance of the depth of the worldwide Database Software market report: The consumers will benefit much from this study since it will help them fully comprehend the subtleties of the market. • What is the anticipated market size and growth rate for the worldwide Database Software by 2025? • What are the driving forces behind the expansion of the Database Software industry? • What are the market limitations and boundaries for the major vendors in the global Database Software market? • Which Database Software leading suppliers have the strongest PESTEL and SWOT analyses?  UMD Statesman Database Software Market Top Trends and 2032 Outlook Database Software Market Outlook to 2031-Key Trends, COVID-19 Impact, Growth Opportunities, and Segment Analysis A research study on the worldwide Database Software market has been produced considering an examination of several industry-related aspects and characteristics. An evaluation of the local and global trends prevailing in the Database Software market will certainly assist the participants of the market to increase their capacity in the future.'),\n",
              " Document(metadata={'source': 'https://www.theregister.com/2023/11/30/ai_saturation_continues_at_aws/'}, page_content='Sivasubramanian, VP of Data and AI, describes the AWS Generative AI Stack Sivasubramanian gave the database perspective, telling attendees that high quality AI results depend on high quality data, and showing off features, including the ability to generate SQL from text input for Amazon Redshift, (a data warehouse service), and the addition of vector search to database managers including OpenSearch serverless (generally available), MemoryDB for Redis (preview), DocumentDB (generally available), and coming soon for Amazon Aurora and MongoDB. Topics Security Off-Prem On-Prem Software Offbeat Special Features Vendor Voice Vendor Voice Resources The AI everything show continues at AWS: Generate SQL from text, vector search, and more Invisible watermarks on AI-generated images? ® More about Narrower topics Broader topics More about Narrower topics Broader topics Send us news Other stories you might like The Register Biting the hand that feeds IT Copyright. But major tools in the stack matter most re:Invent Another day at AWS re:Invent and yet more talk of artifical intelligence dominated, with a senior executive taking to the stage to wax lyrical about the impact of vector databases on the tech and more. Bedrock also supports a feature called Retrieval Augmented Generation (RAG), which enables the model to include contextual data, and further features called fine-tuning and continued pre-training, which keeps the model up to date and adapts it to a specific industry or organization. ')]"
            ]
          },
          "execution_count": 141,
          "metadata": {},
          "output_type": "execute_result"
        }
      ],
      "source": [
        "responses_tavily"
      ]
    },
    {
      "cell_type": "code",
      "execution_count": 142,
      "metadata": {
        "colab": {
          "base_uri": "https://localhost:8080/"
        },
        "id": "nreVP4oi5HDO",
        "outputId": "6712f600-3d1c-4e17-b468-8171d98da563"
      },
      "outputs": [
        {
          "name": "stdout",
          "output_type": "stream",
          "text": [
            "Content: Why All Policymakers Must Understand The Basics Of Database Design The United States, Capitol Dome background in retro style In the world of tech and innovation, there's a perception that new and disruptive technologies originate solely from a select group of tech elites in Silicon Valley. So simply put, a database is a structured system to efficiently organize data, while database design is the method of organizing data within these systems.  Often, by the time a technology reaches the masses, we find ourselves simply as consumers, offering up our data without a thorough understanding of how it's being used to deliver a service.  While this solution sounds promising in addressing the global mental health crisis, a lack of understanding about the backend database design of Help123 can result in some serious consequences.  For example, pulling data on medication side effects from one source and information on side effects of another medication from a separate source might cause incomplete data on the comprehensive spectrum of side effects for various medications.\n",
            "Source: https://www.forbes.com/sites/ayaspencer/2024/03/06/why-all-policymakers-must-understand-the-basics-of-database-design/\n",
            "\n",
            "Content: Oracle updates database technology for AI chatbots US moves to bar Huawei, other Chinese telecoms from certifying wireless equipment Commonwealth referrals to identity theft support soar Man arrested after NSW, ACT club data leak NAB tech and investment spend up $80 million Log In Oracle updates database technology for AI chatbots To make it easier for AI to find data stored in corporate systems.  Related Articles Partner Content Sponsored Whitepapers Most Read Articles Instagram fixes bug that triggered hours-long outage Hearing to decide if X's 65 VPN-accessible tweets break law set for May X calls takedown orders over Sydney stabbing video \"unlawful\" Qantas app displays wrong flyer info to users Digital Nation Most popular tech stories State of Security 2023 COVER STORY: Case study: Warren and Mahoney adopts digital tools to reduce its carbon footprint Cricket Australia automates experiences for fans and players Photos: See who was at BeyondTrust's Sydney partner conference Broadcom tells partner negotiating for charity ‘VMware is not for everybody’ Cognizant inks five-year deal with Telstra to uplift software engineering and IT Broadcom issues update on partner program, VMware portfolio changes Fortinet salutes Photos: The 2023 IoT Awards winners Photos: The 2019 IoT Festival in Melbourne Meet the Environmental Monitoring Award finalists in the IoT Awards Meet the Data Smart Transformation Award finalists in the IoT Awards Photos: 2023 IoT Impact exhibitors Log For example, if a person is searching a database of used cars and wants a sport utility vehicle with a certain mileage and colour and would prefer heated seats but is willing to trade that feature for lower mileage, a traditional database technology might struggle to understand what the user is looking for. \n",
            "Source: https://www.itnews.com.au/news/oracle-updates-database-technology-for-ai-chatbots-607641\n",
            "\n",
            "Content: \"It’s our view that more and more data challenges require a graph database, especially when your data is highly connected, and there is a need to traverse through those multiple connections,\" says Neo4J's Michlin, adding: \"They find hidden relationships and patterns across billions of data connections deeply, easily, and quickly, and they are a natural fit for this kind of data. \" Cybersecurity Data Needs Better Representation Various graph representations of data evolved along with network data models in the 1970s, object-oriented databases in the 1980s, and graph database models in the 1990s, according to one survey of graph database models. An implementation of the new language as a plugin for the relational database, DuckDB, showed \"encouraging performance and scalability,\" according to a paper by a research team at the Centrum Wiskunde & Informatica institute in the Netherlands.  Social networks of threat actors, connected assets in defenders' networks, and indicators of compromise are some types of data where the relationship between the elements of the dataset is extremely important.  One of the primary challenges in dealing with this data and using graphs for cybersecurity is managing the complexity and volume of data, says PuppyGraph's Liu. \n",
            "Source: https://www.darkreading.com/cybersecurity-analytics/picking-right-database-tech-cybersecurity-defense\n",
            "\n",
            "Content: The significance of the depth of the worldwide Database Software market report: The consumers will benefit much from this study since it will help them fully comprehend the subtleties of the market. • What is the anticipated market size and growth rate for the worldwide Database Software by 2025? • What are the driving forces behind the expansion of the Database Software industry? • What are the market limitations and boundaries for the major vendors in the global Database Software market? • Which Database Software leading suppliers have the strongest PESTEL and SWOT analyses?  UMD Statesman Database Software Market Top Trends and 2032 Outlook Database Software Market Outlook to 2031-Key Trends, COVID-19 Impact, Growth Opportunities, and Segment Analysis A research study on the worldwide Database Software market has been produced considering an examination of several industry-related aspects and characteristics. An evaluation of the local and global trends prevailing in the Database Software market will certainly assist the participants of the market to increase their capacity in the future.\n",
            "Source: https://umdstatesman.com/database-software-market-top-trends-and-2032-outlook/\n",
            "\n",
            "Content: Sivasubramanian, VP of Data and AI, describes the AWS Generative AI Stack Sivasubramanian gave the database perspective, telling attendees that high quality AI results depend on high quality data, and showing off features, including the ability to generate SQL from text input for Amazon Redshift, (a data warehouse service), and the addition of vector search to database managers including OpenSearch serverless (generally available), MemoryDB for Redis (preview), DocumentDB (generally available), and coming soon for Amazon Aurora and MongoDB. Topics Security Off-Prem On-Prem Software Offbeat Special Features Vendor Voice Vendor Voice Resources The AI everything show continues at AWS: Generate SQL from text, vector search, and more Invisible watermarks on AI-generated images? ® More about Narrower topics Broader topics More about Narrower topics Broader topics Send us news Other stories you might like The Register Biting the hand that feeds IT Copyright. But major tools in the stack matter most re:Invent Another day at AWS re:Invent and yet more talk of artifical intelligence dominated, with a senior executive taking to the stage to wax lyrical about the impact of vector databases on the tech and more. Bedrock also supports a feature called Retrieval Augmented Generation (RAG), which enables the model to include contextual data, and further features called fine-tuning and continued pre-training, which keeps the model up to date and adapts it to a specific industry or organization. \n",
            "Source: https://www.theregister.com/2023/11/30/ai_saturation_continues_at_aws/\n",
            "\n"
          ]
        }
      ],
      "source": [
        "# Example to show the output\n",
        "for doc in responses_tavily:\n",
        "    print(f\"Content: {doc.page_content}\\nSource: {doc.metadata['source']}\\n\")"
      ]
    },
    {
      "cell_type": "code",
      "execution_count": 143,
      "metadata": {
        "id": "JrTzID3cq-nW"
      },
      "outputs": [],
      "source": [
        "#search_engine_chain = prompt | tavily_tool | document_tavily_langchain\n",
        "\n",
        "# tavily_check_chain = search_engine_chain.invoke({\"query\": \"do you know anything about database\",\n",
        "#                                    \"output_instructions\": question_router_parser.get_format_instructions()\n",
        "#  })\n",
        "# tavily_check_chain\n",
        "\n",
        "# search_engine_chain = tavily_tool | query_"
      ]
    },
    {
      "attachments": {},
      "cell_type": "markdown",
      "metadata": {
        "id": "H7U_Gosz5XLQ"
      },
      "source": [
        "# Part-6"
      ]
    },
    {
      "cell_type": "code",
      "execution_count": 166,
      "metadata": {
        "id": "2yg-R8FS5aZy"
      },
      "outputs": [],
      "source": [
        "router_prompt_template_relation = (\n",
        " \"You are an expert to understant relation between a query and documents\"\n",
        " \"If the query is not related to documents, choose irrelevant.\"\n",
        "\"If the query is related to documents, choose relevant.\"\n",
        " \"{output_instructions}\"\n",
        " \"query: {query}\"\n",
        " \"documents: {documents}\"\n",
        ")\n",
        "\n",
        "\n",
        "prompt_relation = ChatPromptTemplate.from_template(\n",
        "    template=router_prompt_template_relation,\n",
        ")"
      ]
    },
    {
      "cell_type": "code",
      "execution_count": 167,
      "metadata": {
        "colab": {
          "base_uri": "https://localhost:8080/",
          "height": 105
        },
        "id": "obW6o1WK94pj",
        "outputId": "28384df3-e31a-4f85-8043-d51ba3f6c07e"
      },
      "outputs": [
        {
          "data": {
            "application/vnd.google.colaboratory.intrinsic+json": {
              "type": "string"
            },
            "text/plain": [
              "'The output should be formatted as a JSON instance that conforms to the JSON schema below.\\n\\nAs an example, for the schema {\"properties\": {\"foo\": {\"title\": \"Foo\", \"description\": \"a list of strings\", \"type\": \"array\", \"items\": {\"type\": \"string\"}}}, \"required\": [\"foo\"]}\\nthe object {\"foo\": [\"bar\", \"baz\"]} is a well-formatted instance of the schema. The object {\"properties\": {\"foo\": [\"bar\", \"baz\"]}} is not well-formatted.\\n\\nHere is the output schema:\\n```\\n{\"properties\": {\"tool_name\": {\"description\": \"the tool that was chosen by LLM in question routing stage\", \"enum\": [\"irrelevant\", \"relevant\"], \"title\": \"Tool Name\", \"type\": \"string\"}}, \"required\": [\"tool_name\"]}\\n```'"
            ]
          },
          "execution_count": 167,
          "metadata": {},
          "output_type": "execute_result"
        }
      ],
      "source": [
        "from typing import Literal\n",
        "\n",
        "\n",
        "\n",
        "class ChosenTool_relation(BaseModel):\n",
        "    tool_name: Literal['irrelevant', 'relevant'] = Field(description=\"the tool that was chosen by LLM in question routing stage\")\n",
        "\n",
        "\n",
        "relation_router_parser = PydanticOutputParser(pydantic_object=ChosenTool_relation)\n",
        "\n",
        "relation_router_parser.get_format_instructions()"
      ]
    },
    {
      "cell_type": "code",
      "execution_count": 178,
      "metadata": {
        "id": "Jx-4SadGBcPO"
      },
      "outputs": [],
      "source": [
        "relevancy_check_chain = prompt_relation | llm | relation_router_parser\n",
        "\n",
        "res_relation = relevancy_check_chain.invoke({\"query\": \"my name is asghar.\",\n",
        "                                    \"documents\": responses_tavily,\n",
        "                                   \"output_instructions\": relation_router_parser.get_format_instructions()\n",
        " })\n"
      ]
    },
    {
      "cell_type": "code",
      "execution_count": 179,
      "metadata": {
        "colab": {
          "base_uri": "https://localhost:8080/"
        },
        "id": "NidsaT8FC_Aw",
        "outputId": "727f6e74-7e92-4d16-f597-29ec35ee6cb2"
      },
      "outputs": [
        {
          "data": {
            "text/plain": [
              "ChosenTool_relation(tool_name='irrelevant')"
            ]
          },
          "execution_count": 179,
          "metadata": {},
          "output_type": "execute_result"
        }
      ],
      "source": [
        "res_relation"
      ]
    },
    {
      "cell_type": "code",
      "execution_count": 180,
      "metadata": {
        "id": "A9JIJff4FR1J"
      },
      "outputs": [],
      "source": [
        "res_relation_second = relevancy_check_chain.invoke({\"query\": \"do you know anything about database?\",\n",
        "                                    \"documents\": responses_tavily,\n",
        "                                   \"output_instructions\": relation_router_parser.get_format_instructions()\n",
        " })"
      ]
    },
    {
      "cell_type": "code",
      "execution_count": 181,
      "metadata": {
        "colab": {
          "base_uri": "https://localhost:8080/"
        },
        "id": "A-znQG3kFZVl",
        "outputId": "91aa5961-1f4a-4041-a2ca-610e9931cef8"
      },
      "outputs": [
        {
          "data": {
            "text/plain": [
              "ChosenTool_relation(tool_name='relevant')"
            ]
          },
          "execution_count": 181,
          "metadata": {},
          "output_type": "execute_result"
        }
      ],
      "source": [
        "res_relation_second"
      ]
    },
    {
      "attachments": {},
      "cell_type": "markdown",
      "metadata": {
        "id": "uQ-GUtN5FbrN"
      },
      "source": [
        "# Part-7"
      ]
    },
    {
      "cell_type": "code",
      "execution_count": 185,
      "metadata": {
        "colab": {
          "base_uri": "https://localhost:8080/",
          "height": 35
        },
        "id": "I2Yc2HSmFhTg",
        "outputId": "48c79ecd-590a-4fc2-f51f-81af2b2ea5a3"
      },
      "outputs": [
        {
          "data": {
            "application/vnd.google.colaboratory.intrinsic+json": {
              "type": "string"
            },
            "text/plain": [
              "\"Hello! I'm happy to help with any NLP or computer science-related questions you may have. What's on your mind?\""
            ]
          },
          "execution_count": 185,
          "metadata": {},
          "output_type": "execute_result"
        }
      ],
      "source": [
        "fallback_prompt = ChatPromptTemplate.from_template(\n",
        "    (\n",
        "        \"You are a friendly NLP assistant and computer science engineer that created by NLP Staff Course in University of Tehran.\\n\"\n",
        "        \"Do not respond to queries that are not related to NLP and computer science.\\n\"\n",
        "        \"If a query is not related to NLP and computer science, acknowledge your limitations.\\n\"\n",
        "        \"Provide concise responses to only NLP and computer science queries.\\n\\n\"\n",
        "        \"Current conversations:\\n\\n{chat_history}\\n\\n\"\n",
        "        \"human: {query}\"\n",
        "    )\n",
        ")\n",
        "\n",
        "fallback_chain = (\n",
        "    {\n",
        "        \"chat_history\": lambda x: \"\\n\".join(\n",
        "            [\n",
        "                (\n",
        "                    f\"human: {msg.content}\"\n",
        "                    if isinstance(msg, HumanMessage)\n",
        "                    else f\"AI: {msg.content}\"\n",
        "                )\n",
        "                for msg in x[\"chat_history\"]\n",
        "            ]\n",
        "        ),\n",
        "        \"query\": itemgetter(\"query\") ,\n",
        "    }\n",
        "    | fallback_prompt\n",
        "    | llm\n",
        "    | StrOutputParser()\n",
        ")\n",
        "\n",
        "fallback_chain.invoke(\n",
        "    {\n",
        "        \"query\": \"Hello\",\n",
        "        \"chat_history\": [],\n",
        "    }\n",
        ")"
      ]
    },
    {
      "attachments": {},
      "cell_type": "markdown",
      "metadata": {
        "id": "u6PkXJGqI3vv"
      },
      "source": [
        "# Part-8"
      ]
    },
    {
      "cell_type": "code",
      "execution_count": 184,
      "metadata": {
        "colab": {
          "base_uri": "https://localhost:8080/",
          "height": 98
        },
        "id": "xn5IEscjI54l",
        "outputId": "cbaa2326-ce32-41f9-b3f2-5acf4d82d84f"
      },
      "outputs": [
        {
          "data": {
            "text/markdown": [
              "According to the provided context, I can tell you that a Recurrent Neural Network (RNN) is a type of network that contains a cycle within its network connections, meaning that the value of some unit is directly or indirectly dependent on its own earlier outputs as an input. RNNs are powerful but difficult to reason about and train. There are constrained architectures, such as Elman Networks, that have proven to be extremely effective when applied to language. RNNs have a mechanism that deals directly with the sequential nature of language, allowing them to handle the temporal nature of language without the use of arbitrary fixed-sized windows."
            ],
            "text/plain": [
              "<IPython.core.display.Markdown object>"
            ]
          },
          "execution_count": 184,
          "metadata": {},
          "output_type": "execute_result"
        }
      ],
      "source": [
        "generate_with_context_template = (\n",
        "    \"You are a helpful assistant. Answer the query below based only on the provided context. If the given context is not relevant, DO NOT answer based on your own knowledge\\n\\n\"\n",
        "    \"context: {context}\\n\\n\"\n",
        "    \"query: {query}\"\n",
        ")\n",
        "\n",
        "\n",
        "generate_with_context_prompt = ChatPromptTemplate.from_template(generate_with_context_template)\n",
        "generate_with_context_chain = generate_with_context_prompt | llm | StrOutputParser()\n",
        "\n",
        "query = \"Do you know anything about RNN?\"\n",
        "context = ensemble_retriever.get_relevant_documents(query)\n",
        "# context = \"my name is vahid :)\"\n",
        "response = generate_with_context_chain.invoke({\"query\": query, \"context\": context})\n",
        "\n",
        "Markdown(response)"
      ]
    },
    {
      "attachments": {},
      "cell_type": "markdown",
      "metadata": {
        "id": "WZP0R9HAQ77J"
      },
      "source": [
        "# Part-9"
      ]
    },
    {
      "cell_type": "code",
      "execution_count": 186,
      "metadata": {
        "id": "4UiAKF88Q-If"
      },
      "outputs": [],
      "source": [
        "from typing import TypedDict, Annotated\n",
        "from langchain_core.documents import Document\n",
        "from langchain_core.messages.base import BaseMessage\n",
        "import operator"
      ]
    },
    {
      "cell_type": "code",
      "execution_count": 273,
      "metadata": {
        "id": "2n2uoa4KT90g"
      },
      "outputs": [],
      "source": [
        "class AgentSate(TypedDict):\n",
        "    \"\"\"The dictionary keeps track of the data required by the various nodes in the graph\"\"\"\n",
        "\n",
        "    query: str\n",
        "    chat_history:list[BaseMessage]\n",
        "    generation: str\n",
        "    documents: list[Document]\n",
        "\n",
        "\n",
        "def retrieve_node(state: dict):\n",
        "    \"\"\"\n",
        "    Retrieve relevent documents from the vectorstore\n",
        "\n",
        "    query: str\n",
        "\n",
        "    return list[Document]\n",
        "    \"\"\"\n",
        "    query = state[\"query\"]\n",
        "    documents = ensemble_retriever.invoke(input=query)\n",
        "    return {\"documents\": documents}\n",
        "\n",
        "def search_engin_node(state: dict):#, usable=True):\n",
        "    query = state[\"query\"]\n",
        "    generation = tavily_tool.invoke(query)\n",
        "    documents_tavily_langchain = document_tavily_langchain(generation)\n",
        "    return {\"documents\": documents_tavily_langchain}\n",
        "\n",
        "def filter_docs_node(state: dict):\n",
        "    query = state[\"query\"]\n",
        "    documents = state[\"documents\"]\n",
        "    generation = relevancy_check_chain.invoke({\"query\": query, \"documents\": documents})\n",
        "    return {\"generation\": generation}\n",
        "\n",
        "\n",
        "def fallback_node(state: dict):\n",
        "    \"\"\"\n",
        "    Fallback to this node when there is no tool call\n",
        "    \"\"\"\n",
        "    query = state[\"query\"]\n",
        "    chat_history = state[\"chat_history\"]\n",
        "    generation = fallback_chain.invoke({\"query\": query, \"chat_history\": chat_history})\n",
        "    return {\"generation\": generation}\n",
        "\n",
        "\n",
        "\n",
        "def generate_with_context_node(state: dict):\n",
        "    query = state[\"query\"]\n",
        "    documents = state[\"documents\"]\n",
        "\n",
        "    generation = generate_with_context_chain.invoke({\"query\": query, \"context\": documents})\n",
        "    return {\"generation\": generation}\n",
        "\n",
        "\n",
        "\n",
        "def router_node(state: dict):\n",
        "    query = state[\"query\"]\n",
        "    try:\n",
        "        response = question_router.invoke({\"query\": query,\n",
        "                                   \"output_instructions\": question_router_parser.get_format_instructions()\n",
        "        })\n",
        "        print(response)\n",
        "    except Exception:\n",
        "        print(\"Exception in getting response\")\n",
        "        return \"LLMFallback\"\n",
        "    try:\n",
        "      chosen_tool = response.tool_name.lower()\n",
        "    except Exception:\n",
        "        return \"LLMFallback\"\n",
        "\n",
        "    if chosen_tool == 'none':\n",
        "        print(\"---No tool called---\")\n",
        "        return \"LLMFallback\"\n",
        "\n",
        "    if chosen_tool == \"vectorstore\":\n",
        "        print(\"---Routing to VectorStore---\")\n",
        "        return \"VectorStore\"\n",
        "\n",
        "    if chosen_tool == \"searchengine\":\n",
        "        print(\"---Routing to SearchEngine---\")\n",
        "        return \"SearchEngine\"\n",
        "\n",
        "\n",
        "\n",
        "\n",
        "    # try:\n",
        "    #   res_relation = relevancy_check_chain.invoke({\"query\": query,\n",
        "    #                                 #\"documents\": responses_tavily,\n",
        "    #                                \"output_instructions\": relation_router_parser.get_format_instructions()\n",
        "    #     })\n",
        "    # except Exception:\n",
        "    #     print(\"Exception in getting response\")\n",
        "    #     return \"LLMFallback\"\n",
        "\n",
        "    # try:\n",
        "    #   chosen_tool_relation = res_relation.tool_name.lower()\n",
        "    # except Exception:\n",
        "    #     print(\"---No tool called---\")\n",
        "    #     return \"LLMFallback\"\n",
        "    # if chosen_tool_relation == \"relevant\":\n",
        "    #     print(\"---Routing to filter_relevant---\")\n",
        "    #     return \"relevant\"\n",
        "\n",
        "    # if chosen_tool_relation == \"irrelevant\":\n",
        "    #     print(\"---Routing to filter_irrelevant---\")\n",
        "    #     return \"irrelevant\"\n",
        "\n"
      ]
    },
    {
      "cell_type": "code",
      "execution_count": 274,
      "metadata": {
        "id": "z_rwMv3NUD-W"
      },
      "outputs": [],
      "source": [
        "from langgraph.graph import StateGraph, END\n",
        "\n",
        "workflow = StateGraph(AgentSate)\n",
        "\n",
        "workflow.add_node(\"vector_store\", retrieve_node)\n",
        "workflow.add_node(\"search_engine\", search_engin_node)\n",
        "# workflow.add_node(\"filter_docs\", filter_docs_node)\n",
        "workflow.add_node(\"fallback\", fallback_node)\n",
        "workflow.add_node(\"generate_with_context\", generate_with_context_node)\n",
        "\n",
        "workflow.set_conditional_entry_point(\n",
        "    router_node,\n",
        "    {\n",
        "        \"LLMFallback\": \"fallback\",\n",
        "        \"VectorStore\": \"vector_store\",\n",
        "        \"SearchEngine\": \"search_engine\",\n",
        "        # \"relevant\": \"filter_docs\",\n",
        "        # \"irrelevant\": \"filter_docs\",\n",
        "    },\n",
        ")\n",
        "\n",
        "\n",
        "workflow.add_edge(\"fallback\", END)\n",
        "workflow.add_edge(\"search_engine\", \"generate_with_context\")\n",
        "workflow.add_edge(\"vector_store\", \"generate_with_context\")\n",
        "workflow.add_edge(\"generate_with_context\", END)\n",
        "\n",
        "# workflow.add_edge(\"vector_store\", \"relevant\")\n",
        "# workflow.add_edge(\"relevant\", \"generate_with_context\")\n",
        "# workflow.add_edge(\"search_engine\", \"relevant\")\n",
        "# workflow.add_edge(\"Irrelevant\", \"search_engine\")\n",
        "# workflow.add_edge(\"generate_with_context\", END)\n",
        "\n",
        "# workflow.add_edge(\"fallback\", END)"
      ]
    },
    {
      "cell_type": "code",
      "execution_count": 275,
      "metadata": {
        "id": "-wv4WjatUFZn"
      },
      "outputs": [],
      "source": [
        "app = workflow.compile(debug=False)\n",
        "plot = app.get_graph().draw_mermaid_png()\n",
        "\n",
        "with open(\"plot.png\", \"wb\") as fp:\n",
        "    fp.write(plot)"
      ]
    },
    {
      "cell_type": "code",
      "execution_count": 276,
      "metadata": {
        "colab": {
          "base_uri": "https://localhost:8080/",
          "height": 338
        },
        "id": "92dDxfi1UHqI",
        "outputId": "7eac149d-e2be-487c-9b8d-1a70437f9931"
      },
      "outputs": [
        {
          "data": {
            "image/png": "[encoded data removed]",
            "text/plain": [
              "<PIL.JpegImagePlugin.JpegImageFile image mode=RGB size=450x321>"
            ]
          },
          "metadata": {},
          "output_type": "display_data"
        }
      ],
      "source": [
        "from io import BytesIO\n",
        "from PIL import Image\n",
        "from IPython.display import display\n",
        "\n",
        "img = Image.open(BytesIO(plot))\n",
        "display(img)"
      ]
    },
    {
      "cell_type": "code",
      "execution_count": 271,
      "metadata": {
        "colab": {
          "base_uri": "https://localhost:8080/",
          "height": 116
        },
        "id": "eLzjkTXsULBA",
        "outputId": "e3f6e97c-9f53-48b5-d651-cc0de6897983"
      },
      "outputs": [
        {
          "name": "stdout",
          "output_type": "stream",
          "text": [
            "tool_name='VectorStore'\n",
            "---Routing to VectorStore---\n"
          ]
        },
        {
          "data": {
            "text/markdown": [
              "Yes, I do! According to the provided context, LSTM (Long Short-Term Memory) is mentioned in the chapter about RNNs (Recurrent Neural Networks). Specifically, it is mentioned as a variant of RNNs that deals directly with the sequential nature of language, allowing them to handle the temporal nature of language without the use of arbitrary fixed-sized windows."
            ],
            "text/plain": [
              "<IPython.core.display.Markdown object>"
            ]
          },
          "execution_count": 271,
          "metadata": {},
          "output_type": "execute_result"
        }
      ],
      "source": [
        "response = app.invoke({\"query\": \"do you anything about LSTM?\", \"chat_history\": []})\n",
        "Markdown(response[\"generation\"])"
      ]
    },
    {
      "cell_type": "code",
      "execution_count": 265,
      "metadata": {
        "colab": {
          "base_uri": "https://localhost:8080/",
          "height": 116
        },
        "id": "JnzkTh-7yK31",
        "outputId": "ca793624-30b5-4be7-8a08-f22510ab4d10"
      },
      "outputs": [
        {
          "name": "stdout",
          "output_type": "stream",
          "text": [
            "tool_name='None'\n",
            "---No tool called---\n"
          ]
        },
        {
          "data": {
            "text/markdown": [
              "I'm afraid I'm not knowledgeable about that topic. As a friendly NLP assistant and computer science engineer, my expertise lies in Natural Language Processing and Computer Science. I'm not equipped to provide information on political figures or non-technical topics. If you have any questions related to NLP or computer science, I'd be happy to help!"
            ],
            "text/plain": [
              "<IPython.core.display.Markdown object>"
            ]
          },
          "execution_count": 265,
          "metadata": {},
          "output_type": "execute_result"
        }
      ],
      "source": [
        "response = app.invoke({\"query\": \"do you anything president of iran?\", \"chat_history\": []})\n",
        "Markdown(response[\"generation\"])"
      ]
    },
    {
      "cell_type": "code",
      "execution_count": 277,
      "metadata": {
        "colab": {
          "base_uri": "https://localhost:8080/",
          "height": 197
        },
        "id": "seU3uAz_yNK1",
        "outputId": "8482e7f2-922d-4b66-ad71-fb8412991c51"
      },
      "outputs": [
        {
          "name": "stdout",
          "output_type": "stream",
          "text": [
            "tool_name='SearchEngine'\n",
            "---Routing to SearchEngine---\n"
          ]
        },
        {
          "data": {
            "text/markdown": [
              "Based on the provided context, I can see that databases are mentioned in several articles. Here's what I can gather:\n",
              "\n",
              "* A database is a structured system to efficiently organize data, and database design is the method of organizing data within these systems.\n",
              "* Database technology can be used to make it easier for AI to find data stored in corporate systems.\n",
              "* Traditional database technology might struggle to understand complex user queries, such as searching for a used car with specific features.\n",
              "* There are different types of database systems, such as Oracle, which has updated its database technology for AI chatbots.\n",
              "* Database abstraction layers, like Neurelo, can make distributed scaling easier and provide a common piece of data access infrastructure for developers.\n",
              "\n",
              "So, to answer your question, yes, I can see that databases are an important topic in the provided context!"
            ],
            "text/plain": [
              "<IPython.core.display.Markdown object>"
            ]
          },
          "execution_count": 277,
          "metadata": {},
          "output_type": "execute_result"
        }
      ],
      "source": [
        "response = app.invoke({\"query\": \"do you anything database?\", \"chat_history\": []})\n",
        "Markdown(response[\"generation\"])"
      ]
    },
    {
      "cell_type": "code",
      "execution_count": 201,
      "metadata": {
        "colab": {
          "base_uri": "https://localhost:8080/",
          "height": 591
        },
        "id": "OcNYj6NWVTW_",
        "outputId": "43206e81-6094-4156-aeb2-f59f9cb70da6"
      },
      "outputs": [
        {
          "name": "stdout",
          "output_type": "stream",
          "text": [
            "Colab notebook detected. To show errors in colab notebook, set debug=True in launch()\n",
            "Running on public URL: https://08c320b4632cb94974.gradio.live\n",
            "\n",
            "This share link expires in 72 hours. For free permanent hosting and GPU upgrades, run `gradio deploy` from Terminal to deploy to Spaces (https://huggingface.co/spaces)\n"
          ]
        },
        {
          "data": {
            "text/html": [
              "<div><iframe src=\"https://08c320b4632cb94974.gradio.live\" width=\"100%\" height=\"500\" allow=\"autoplay; camera; microphone; clipboard-read; clipboard-write;\" frameborder=\"0\" allowfullscreen></iframe></div>"
            ],
            "text/plain": [
              "<IPython.core.display.HTML object>"
            ]
          },
          "metadata": {},
          "output_type": "display_data"
        }
      ],
      "source": [
        "import gradio as gr\n",
        "from uuid import uuid4\n",
        "\n",
        "history = {}\n",
        "session_id = str(uuid4())\n",
        "\n",
        "def chat(query):\n",
        "\n",
        "    # Initialize the chat history for the current session\n",
        "    if session_id not in history:\n",
        "        history[session_id] = []\n",
        "\n",
        "    chat_history = history[session_id]\n",
        "\n",
        "    # Invoke the app with the current query and chat history\n",
        "    result = app.invoke({\"query\": query, \"chat_history\": chat_history})\n",
        "\n",
        "    # Separate the response from the retrieved documents\n",
        "    response = result[\"generation\"]\n",
        "    documents = result[\"documents\"]\n",
        "\n",
        "    # Add the current exchange to the chat history\n",
        "    chat_history.extend([HumanMessage(content=query), AIMessage(content=response)])\n",
        "\n",
        "    if not documents:\n",
        "        return response, documents\n",
        "\n",
        "    documents = [\n",
        "        f\"{doc.page_content}\\nsource: {doc.metadata['source']}\" for doc in documents\n",
        "    ]\n",
        "\n",
        "    return response, \"\\n\\n\".join(documents)\n",
        "\n",
        "# Create the Gradio interface\n",
        "demo = gr.Interface(\n",
        "    fn=chat,\n",
        "    inputs=gr.Textbox(label=\"Question\"),\n",
        "    outputs=[gr.Textbox(label=\"Response\"), gr.Textbox(label=\"Retrieved Documents\")],\n",
        "    title=\"RAG Chatbot\",\n",
        "    description=\"Ask a health-related query and the chatbot will generate a response using Retrieval Augmented Generation.\",\n",
        ")\n",
        "\n",
        "if __name__ == \"__main__\":\n",
        "    demo.launch(share=True, inline=True)"
      ]
    }
  ],
  "metadata": {
    "colab": {
      "collapsed_sections": [
        "vA3Ra_sIzhip"
      ],
      "provenance": [],
      "toc_visible": true
    },
    "kernelspec": {
      "display_name": "Python 3",
      "name": "python3"
    },
    "language_info": {
      "name": "python"
    },
    "widgets": {
      "application/vnd.jupyter.widget-state+json": {
        "02b7a068cc374af7a4ed2bfb85d5ecef": {
          "model_module": "@jupyter-widgets/base",
          "model_module_version": "1.2.0",
          "model_name": "LayoutModel",
          "state": {
            "_model_module": "@jupyter-widgets/base",
            "_model_module_version": "1.2.0",
            "_model_name": "LayoutModel",
            "_view_count": null,
            "_view_module": "@jupyter-widgets/base",
            "_view_module_version": "1.2.0",
            "_view_name": "LayoutView",
            "align_content": null,
            "align_items": null,
            "align_self": null,
            "border": null,
            "bottom": null,
            "display": null,
            "flex": null,
            "flex_flow": null,
            "grid_area": null,
            "grid_auto_columns": null,
            "grid_auto_flow": null,
            "grid_auto_rows": null,
            "grid_column": null,
            "grid_gap": null,
            "grid_row": null,
            "grid_template_areas": null,
            "grid_template_columns": null,
            "grid_template_rows": null,
            "height": null,
            "justify_content": null,
            "justify_items": null,
            "left": null,
            "margin": null,
            "max_height": null,
            "max_width": null,
            "min_height": null,
            "min_width": null,
            "object_fit": null,
            "object_position": null,
            "order": null,
            "overflow": null,
            "overflow_x": null,
            "overflow_y": null,
            "padding": null,
            "right": null,
            "top": null,
            "visibility": null,
            "width": null
          }
        },
        "033353d920614af593d13bac99c28061": {
          "model_module": "@jupyter-widgets/controls",
          "model_module_version": "1.5.0",
          "model_name": "HTMLModel",
          "state": {
            "_dom_classes": [],
            "_model_module": "@jupyter-widgets/controls",
            "_model_module_version": "1.5.0",
            "_model_name": "HTMLModel",
            "_view_count": null,
            "_view_module": "@jupyter-widgets/controls",
            "_view_module_version": "1.5.0",
            "_view_name": "HTMLView",
            "description": "",
            "description_tooltip": null,
            "layout": "IPY_MODEL_6bfbb227d5134627b47860d6c2549e65",
            "placeholder": "​",
            "style": "IPY_MODEL_03b1b78f5ee243e7a488cebe677c1eb0",
            "value": "1_Pooling/config.json: 100%"
          }
        },
        "03b1b78f5ee243e7a488cebe677c1eb0": {
          "model_module": "@jupyter-widgets/controls",
          "model_module_version": "1.5.0",
          "model_name": "DescriptionStyleModel",
          "state": {
            "_model_module": "@jupyter-widgets/controls",
            "_model_module_version": "1.5.0",
            "_model_name": "DescriptionStyleModel",
            "_view_count": null,
            "_view_module": "@jupyter-widgets/base",
            "_view_module_version": "1.2.0",
            "_view_name": "StyleView",
            "description_width": ""
          }
        },
        "0680a220ebf74a2cb1e0aa001d9e5417": {
          "model_module": "@jupyter-widgets/base",
          "model_module_version": "1.2.0",
          "model_name": "LayoutModel",
          "state": {
            "_model_module": "@jupyter-widgets/base",
            "_model_module_version": "1.2.0",
            "_model_name": "LayoutModel",
            "_view_count": null,
            "_view_module": "@jupyter-widgets/base",
            "_view_module_version": "1.2.0",
            "_view_name": "LayoutView",
            "align_content": null,
            "align_items": null,
            "align_self": null,
            "border": null,
            "bottom": null,
            "display": null,
            "flex": null,
            "flex_flow": null,
            "grid_area": null,
            "grid_auto_columns": null,
            "grid_auto_flow": null,
            "grid_auto_rows": null,
            "grid_column": null,
            "grid_gap": null,
            "grid_row": null,
            "grid_template_areas": null,
            "grid_template_columns": null,
            "grid_template_rows": null,
            "height": null,
            "justify_content": null,
            "justify_items": null,
            "left": null,
            "margin": null,
            "max_height": null,
            "max_width": null,
            "min_height": null,
            "min_width": null,
            "object_fit": null,
            "object_position": null,
            "order": null,
            "overflow": null,
            "overflow_x": null,
            "overflow_y": null,
            "padding": null,
            "right": null,
            "top": null,
            "visibility": null,
            "width": null
          }
        },
        "0bdfe162b52041ae9a135a9ba69d524b": {
          "model_module": "@jupyter-widgets/base",
          "model_module_version": "1.2.0",
          "model_name": "LayoutModel",
          "state": {
            "_model_module": "@jupyter-widgets/base",
            "_model_module_version": "1.2.0",
            "_model_name": "LayoutModel",
            "_view_count": null,
            "_view_module": "@jupyter-widgets/base",
            "_view_module_version": "1.2.0",
            "_view_name": "LayoutView",
            "align_content": null,
            "align_items": null,
            "align_self": null,
            "border": null,
            "bottom": null,
            "display": null,
            "flex": null,
            "flex_flow": null,
            "grid_area": null,
            "grid_auto_columns": null,
            "grid_auto_flow": null,
            "grid_auto_rows": null,
            "grid_column": null,
            "grid_gap": null,
            "grid_row": null,
            "grid_template_areas": null,
            "grid_template_columns": null,
            "grid_template_rows": null,
            "height": null,
            "justify_content": null,
            "justify_items": null,
            "left": null,
            "margin": null,
            "max_height": null,
            "max_width": null,
            "min_height": null,
            "min_width": null,
            "object_fit": null,
            "object_position": null,
            "order": null,
            "overflow": null,
            "overflow_x": null,
            "overflow_y": null,
            "padding": null,
            "right": null,
            "top": null,
            "visibility": null,
            "width": null
          }
        },
        "0cb1dd5314e84ff0b8861660dd80d9a6": {
          "model_module": "@jupyter-widgets/base",
          "model_module_version": "1.2.0",
          "model_name": "LayoutModel",
          "state": {
            "_model_module": "@jupyter-widgets/base",
            "_model_module_version": "1.2.0",
            "_model_name": "LayoutModel",
            "_view_count": null,
            "_view_module": "@jupyter-widgets/base",
            "_view_module_version": "1.2.0",
            "_view_name": "LayoutView",
            "align_content": null,
            "align_items": null,
            "align_self": null,
            "border": null,
            "bottom": null,
            "display": null,
            "flex": null,
            "flex_flow": null,
            "grid_area": null,
            "grid_auto_columns": null,
            "grid_auto_flow": null,
            "grid_auto_rows": null,
            "grid_column": null,
            "grid_gap": null,
            "grid_row": null,
            "grid_template_areas": null,
            "grid_template_columns": null,
            "grid_template_rows": null,
            "height": null,
            "justify_content": null,
            "justify_items": null,
            "left": null,
            "margin": null,
            "max_height": null,
            "max_width": null,
            "min_height": null,
            "min_width": null,
            "object_fit": null,
            "object_position": null,
            "order": null,
            "overflow": null,
            "overflow_x": null,
            "overflow_y": null,
            "padding": null,
            "right": null,
            "top": null,
            "visibility": null,
            "width": null
          }
        },
        "0d5d04ed6e9d42e39aad36588fd26873": {
          "model_module": "@jupyter-widgets/controls",
          "model_module_version": "1.5.0",
          "model_name": "HBoxModel",
          "state": {
            "_dom_classes": [],
            "_model_module": "@jupyter-widgets/controls",
            "_model_module_version": "1.5.0",
            "_model_name": "HBoxModel",
            "_view_count": null,
            "_view_module": "@jupyter-widgets/controls",
            "_view_module_version": "1.5.0",
            "_view_name": "HBoxView",
            "box_style": "",
            "children": [
              "IPY_MODEL_14b1796630254dc39bcf4e4d3bccf52c",
              "IPY_MODEL_efb4fa4b31964d818f83319e296b4b5c",
              "IPY_MODEL_1122c0fd69024701960cf4281a5e1d9c"
            ],
            "layout": "IPY_MODEL_0bdfe162b52041ae9a135a9ba69d524b"
          }
        },
        "0eca9de647d74d84baee587958009946": {
          "model_module": "@jupyter-widgets/base",
          "model_module_version": "1.2.0",
          "model_name": "LayoutModel",
          "state": {
            "_model_module": "@jupyter-widgets/base",
            "_model_module_version": "1.2.0",
            "_model_name": "LayoutModel",
            "_view_count": null,
            "_view_module": "@jupyter-widgets/base",
            "_view_module_version": "1.2.0",
            "_view_name": "LayoutView",
            "align_content": null,
            "align_items": null,
            "align_self": null,
            "border": null,
            "bottom": null,
            "display": null,
            "flex": null,
            "flex_flow": null,
            "grid_area": null,
            "grid_auto_columns": null,
            "grid_auto_flow": null,
            "grid_auto_rows": null,
            "grid_column": null,
            "grid_gap": null,
            "grid_row": null,
            "grid_template_areas": null,
            "grid_template_columns": null,
            "grid_template_rows": null,
            "height": null,
            "justify_content": null,
            "justify_items": null,
            "left": null,
            "margin": null,
            "max_height": null,
            "max_width": null,
            "min_height": null,
            "min_width": null,
            "object_fit": null,
            "object_position": null,
            "order": null,
            "overflow": null,
            "overflow_x": null,
            "overflow_y": null,
            "padding": null,
            "right": null,
            "top": null,
            "visibility": null,
            "width": null
          }
        },
        "1122c0fd69024701960cf4281a5e1d9c": {
          "model_module": "@jupyter-widgets/controls",
          "model_module_version": "1.5.0",
          "model_name": "HTMLModel",
          "state": {
            "_dom_classes": [],
            "_model_module": "@jupyter-widgets/controls",
            "_model_module_version": "1.5.0",
            "_model_name": "HTMLModel",
            "_view_count": null,
            "_view_module": "@jupyter-widgets/controls",
            "_view_module_version": "1.5.0",
            "_view_name": "HTMLView",
            "description": "",
            "description_tooltip": null,
            "layout": "IPY_MODEL_fde6bb52a83145078b84d1ed4d6a2a26",
            "placeholder": "​",
            "style": "IPY_MODEL_844be6b64103449abb5e9a6d0be86fa3",
            "value": " 53.0/53.0 [00:00&lt;00:00, 2.98kB/s]"
          }
        },
        "11380141b7fe453991ea3f090d345e5f": {
          "model_module": "@jupyter-widgets/controls",
          "model_module_version": "1.5.0",
          "model_name": "HTMLModel",
          "state": {
            "_dom_classes": [],
            "_model_module": "@jupyter-widgets/controls",
            "_model_module_version": "1.5.0",
            "_model_name": "HTMLModel",
            "_view_count": null,
            "_view_module": "@jupyter-widgets/controls",
            "_view_module_version": "1.5.0",
            "_view_name": "HTMLView",
            "description": "",
            "description_tooltip": null,
            "layout": "IPY_MODEL_ce5ab6c7893c40d7b3dd7949ee7fb92f",
            "placeholder": "​",
            "style": "IPY_MODEL_1dd9f47b7ed743c597ce26d8a5ec2279",
            "value": "tokenizer.json: 100%"
          }
        },
        "126ad6ecda8b4fed8d181f3504bdfa6d": {
          "model_module": "@jupyter-widgets/controls",
          "model_module_version": "1.5.0",
          "model_name": "ProgressStyleModel",
          "state": {
            "_model_module": "@jupyter-widgets/controls",
            "_model_module_version": "1.5.0",
            "_model_name": "ProgressStyleModel",
            "_view_count": null,
            "_view_module": "@jupyter-widgets/base",
            "_view_module_version": "1.2.0",
            "_view_name": "StyleView",
            "bar_color": null,
            "description_width": ""
          }
        },
        "140e002f58fc41b8905ff010246f3272": {
          "model_module": "@jupyter-widgets/base",
          "model_module_version": "1.2.0",
          "model_name": "LayoutModel",
          "state": {
            "_model_module": "@jupyter-widgets/base",
            "_model_module_version": "1.2.0",
            "_model_name": "LayoutModel",
            "_view_count": null,
            "_view_module": "@jupyter-widgets/base",
            "_view_module_version": "1.2.0",
            "_view_name": "LayoutView",
            "align_content": null,
            "align_items": null,
            "align_self": null,
            "border": null,
            "bottom": null,
            "display": null,
            "flex": null,
            "flex_flow": null,
            "grid_area": null,
            "grid_auto_columns": null,
            "grid_auto_flow": null,
            "grid_auto_rows": null,
            "grid_column": null,
            "grid_gap": null,
            "grid_row": null,
            "grid_template_areas": null,
            "grid_template_columns": null,
            "grid_template_rows": null,
            "height": null,
            "justify_content": null,
            "justify_items": null,
            "left": null,
            "margin": null,
            "max_height": null,
            "max_width": null,
            "min_height": null,
            "min_width": null,
            "object_fit": null,
            "object_position": null,
            "order": null,
            "overflow": null,
            "overflow_x": null,
            "overflow_y": null,
            "padding": null,
            "right": null,
            "top": null,
            "visibility": null,
            "width": null
          }
        },
        "14ae60b184e942f0a06ac83490333dfc": {
          "model_module": "@jupyter-widgets/controls",
          "model_module_version": "1.5.0",
          "model_name": "FloatProgressModel",
          "state": {
            "_dom_classes": [],
            "_model_module": "@jupyter-widgets/controls",
            "_model_module_version": "1.5.0",
            "_model_name": "FloatProgressModel",
            "_view_count": null,
            "_view_module": "@jupyter-widgets/controls",
            "_view_module_version": "1.5.0",
            "_view_name": "ProgressView",
            "bar_style": "success",
            "description": "",
            "description_tooltip": null,
            "layout": "IPY_MODEL_dbbba4b588394eb09093f053377c3d64",
            "max": 231536,
            "min": 0,
            "orientation": "horizontal",
            "style": "IPY_MODEL_30ccf00955d74227b24c471d89aa0328",
            "value": 231536
          }
        },
        "14b1796630254dc39bcf4e4d3bccf52c": {
          "model_module": "@jupyter-widgets/controls",
          "model_module_version": "1.5.0",
          "model_name": "HTMLModel",
          "state": {
            "_dom_classes": [],
            "_model_module": "@jupyter-widgets/controls",
            "_model_module_version": "1.5.0",
            "_model_name": "HTMLModel",
            "_view_count": null,
            "_view_module": "@jupyter-widgets/controls",
            "_view_module_version": "1.5.0",
            "_view_name": "HTMLView",
            "description": "",
            "description_tooltip": null,
            "layout": "IPY_MODEL_7479bb48566e466f93f5660b5792e5d8",
            "placeholder": "​",
            "style": "IPY_MODEL_aa7b40513ec3450899a307ad4adbb546",
            "value": "sentence_bert_config.json: 100%"
          }
        },
        "1dd9f47b7ed743c597ce26d8a5ec2279": {
          "model_module": "@jupyter-widgets/controls",
          "model_module_version": "1.5.0",
          "model_name": "DescriptionStyleModel",
          "state": {
            "_model_module": "@jupyter-widgets/controls",
            "_model_module_version": "1.5.0",
            "_model_name": "DescriptionStyleModel",
            "_view_count": null,
            "_view_module": "@jupyter-widgets/base",
            "_view_module_version": "1.2.0",
            "_view_name": "StyleView",
            "description_width": ""
          }
        },
        "204bf7dcc683454c9baa449f61aaa32c": {
          "model_module": "@jupyter-widgets/base",
          "model_module_version": "1.2.0",
          "model_name": "LayoutModel",
          "state": {
            "_model_module": "@jupyter-widgets/base",
            "_model_module_version": "1.2.0",
            "_model_name": "LayoutModel",
            "_view_count": null,
            "_view_module": "@jupyter-widgets/base",
            "_view_module_version": "1.2.0",
            "_view_name": "LayoutView",
            "align_content": null,
            "align_items": null,
            "align_self": null,
            "border": null,
            "bottom": null,
            "display": null,
            "flex": null,
            "flex_flow": null,
            "grid_area": null,
            "grid_auto_columns": null,
            "grid_auto_flow": null,
            "grid_auto_rows": null,
            "grid_column": null,
            "grid_gap": null,
            "grid_row": null,
            "grid_template_areas": null,
            "grid_template_columns": null,
            "grid_template_rows": null,
            "height": null,
            "justify_content": null,
            "justify_items": null,
            "left": null,
            "margin": null,
            "max_height": null,
            "max_width": null,
            "min_height": null,
            "min_width": null,
            "object_fit": null,
            "object_position": null,
            "order": null,
            "overflow": null,
            "overflow_x": null,
            "overflow_y": null,
            "padding": null,
            "right": null,
            "top": null,
            "visibility": null,
            "width": null
          }
        },
        "2152297e09f34ab1a3f3ec76d02eb677": {
          "model_module": "@jupyter-widgets/base",
          "model_module_version": "1.2.0",
          "model_name": "LayoutModel",
          "state": {
            "_model_module": "@jupyter-widgets/base",
            "_model_module_version": "1.2.0",
            "_model_name": "LayoutModel",
            "_view_count": null,
            "_view_module": "@jupyter-widgets/base",
            "_view_module_version": "1.2.0",
            "_view_name": "LayoutView",
            "align_content": null,
            "align_items": null,
            "align_self": null,
            "border": null,
            "bottom": null,
            "display": null,
            "flex": null,
            "flex_flow": null,
            "grid_area": null,
            "grid_auto_columns": null,
            "grid_auto_flow": null,
            "grid_auto_rows": null,
            "grid_column": null,
            "grid_gap": null,
            "grid_row": null,
            "grid_template_areas": null,
            "grid_template_columns": null,
            "grid_template_rows": null,
            "height": null,
            "justify_content": null,
            "justify_items": null,
            "left": null,
            "margin": null,
            "max_height": null,
            "max_width": null,
            "min_height": null,
            "min_width": null,
            "object_fit": null,
            "object_position": null,
            "order": null,
            "overflow": null,
            "overflow_x": null,
            "overflow_y": null,
            "padding": null,
            "right": null,
            "top": null,
            "visibility": null,
            "width": null
          }
        },
        "2270c095f153475e9839cb55b602c48b": {
          "model_module": "@jupyter-widgets/base",
          "model_module_version": "1.2.0",
          "model_name": "LayoutModel",
          "state": {
            "_model_module": "@jupyter-widgets/base",
            "_model_module_version": "1.2.0",
            "_model_name": "LayoutModel",
            "_view_count": null,
            "_view_module": "@jupyter-widgets/base",
            "_view_module_version": "1.2.0",
            "_view_name": "LayoutView",
            "align_content": null,
            "align_items": null,
            "align_self": null,
            "border": null,
            "bottom": null,
            "display": null,
            "flex": null,
            "flex_flow": null,
            "grid_area": null,
            "grid_auto_columns": null,
            "grid_auto_flow": null,
            "grid_auto_rows": null,
            "grid_column": null,
            "grid_gap": null,
            "grid_row": null,
            "grid_template_areas": null,
            "grid_template_columns": null,
            "grid_template_rows": null,
            "height": null,
            "justify_content": null,
            "justify_items": null,
            "left": null,
            "margin": null,
            "max_height": null,
            "max_width": null,
            "min_height": null,
            "min_width": null,
            "object_fit": null,
            "object_position": null,
            "order": null,
            "overflow": null,
            "overflow_x": null,
            "overflow_y": null,
            "padding": null,
            "right": null,
            "top": null,
            "visibility": null,
            "width": null
          }
        },
        "26f37d5ab69844feaa76244203b0d2c7": {
          "model_module": "@jupyter-widgets/base",
          "model_module_version": "1.2.0",
          "model_name": "LayoutModel",
          "state": {
            "_model_module": "@jupyter-widgets/base",
            "_model_module_version": "1.2.0",
            "_model_name": "LayoutModel",
            "_view_count": null,
            "_view_module": "@jupyter-widgets/base",
            "_view_module_version": "1.2.0",
            "_view_name": "LayoutView",
            "align_content": null,
            "align_items": null,
            "align_self": null,
            "border": null,
            "bottom": null,
            "display": null,
            "flex": null,
            "flex_flow": null,
            "grid_area": null,
            "grid_auto_columns": null,
            "grid_auto_flow": null,
            "grid_auto_rows": null,
            "grid_column": null,
            "grid_gap": null,
            "grid_row": null,
            "grid_template_areas": null,
            "grid_template_columns": null,
            "grid_template_rows": null,
            "height": null,
            "justify_content": null,
            "justify_items": null,
            "left": null,
            "margin": null,
            "max_height": null,
            "max_width": null,
            "min_height": null,
            "min_width": null,
            "object_fit": null,
            "object_position": null,
            "order": null,
            "overflow": null,
            "overflow_x": null,
            "overflow_y": null,
            "padding": null,
            "right": null,
            "top": null,
            "visibility": null,
            "width": null
          }
        },
        "29657421350f4092872532b14c2d4334": {
          "model_module": "@jupyter-widgets/base",
          "model_module_version": "1.2.0",
          "model_name": "LayoutModel",
          "state": {
            "_model_module": "@jupyter-widgets/base",
            "_model_module_version": "1.2.0",
            "_model_name": "LayoutModel",
            "_view_count": null,
            "_view_module": "@jupyter-widgets/base",
            "_view_module_version": "1.2.0",
            "_view_name": "LayoutView",
            "align_content": null,
            "align_items": null,
            "align_self": null,
            "border": null,
            "bottom": null,
            "display": null,
            "flex": null,
            "flex_flow": null,
            "grid_area": null,
            "grid_auto_columns": null,
            "grid_auto_flow": null,
            "grid_auto_rows": null,
            "grid_column": null,
            "grid_gap": null,
            "grid_row": null,
            "grid_template_areas": null,
            "grid_template_columns": null,
            "grid_template_rows": null,
            "height": null,
            "justify_content": null,
            "justify_items": null,
            "left": null,
            "margin": null,
            "max_height": null,
            "max_width": null,
            "min_height": null,
            "min_width": null,
            "object_fit": null,
            "object_position": null,
            "order": null,
            "overflow": null,
            "overflow_x": null,
            "overflow_y": null,
            "padding": null,
            "right": null,
            "top": null,
            "visibility": null,
            "width": null
          }
        },
        "305b2e3e130040388c4752e515cdf6db": {
          "model_module": "@jupyter-widgets/controls",
          "model_module_version": "1.5.0",
          "model_name": "DescriptionStyleModel",
          "state": {
            "_model_module": "@jupyter-widgets/controls",
            "_model_module_version": "1.5.0",
            "_model_name": "DescriptionStyleModel",
            "_view_count": null,
            "_view_module": "@jupyter-widgets/base",
            "_view_module_version": "1.2.0",
            "_view_name": "StyleView",
            "description_width": ""
          }
        },
        "30ccf00955d74227b24c471d89aa0328": {
          "model_module": "@jupyter-widgets/controls",
          "model_module_version": "1.5.0",
          "model_name": "ProgressStyleModel",
          "state": {
            "_model_module": "@jupyter-widgets/controls",
            "_model_module_version": "1.5.0",
            "_model_name": "ProgressStyleModel",
            "_view_count": null,
            "_view_module": "@jupyter-widgets/base",
            "_view_module_version": "1.2.0",
            "_view_name": "StyleView",
            "bar_color": null,
            "description_width": ""
          }
        },
        "31daba0af420486ab6792c043746f160": {
          "model_module": "@jupyter-widgets/controls",
          "model_module_version": "1.5.0",
          "model_name": "DescriptionStyleModel",
          "state": {
            "_model_module": "@jupyter-widgets/controls",
            "_model_module_version": "1.5.0",
            "_model_name": "DescriptionStyleModel",
            "_view_count": null,
            "_view_module": "@jupyter-widgets/base",
            "_view_module_version": "1.2.0",
            "_view_name": "StyleView",
            "description_width": ""
          }
        },
        "31fd36b7a71046deb7be2e8b09c17e63": {
          "model_module": "@jupyter-widgets/controls",
          "model_module_version": "1.5.0",
          "model_name": "HTMLModel",
          "state": {
            "_dom_classes": [],
            "_model_module": "@jupyter-widgets/controls",
            "_model_module_version": "1.5.0",
            "_model_name": "HTMLModel",
            "_view_count": null,
            "_view_module": "@jupyter-widgets/controls",
            "_view_module_version": "1.5.0",
            "_view_name": "HTMLView",
            "description": "",
            "description_tooltip": null,
            "layout": "IPY_MODEL_df513fc58182482d94fcaa65883a8725",
            "placeholder": "​",
            "style": "IPY_MODEL_58b0ac79882d44a1bdf889c26597056b",
            "value": "modules.json: 100%"
          }
        },
        "3260e633230c44f78f5536990a3ea346": {
          "model_module": "@jupyter-widgets/controls",
          "model_module_version": "1.5.0",
          "model_name": "HBoxModel",
          "state": {
            "_dom_classes": [],
            "_model_module": "@jupyter-widgets/controls",
            "_model_module_version": "1.5.0",
            "_model_name": "HBoxModel",
            "_view_count": null,
            "_view_module": "@jupyter-widgets/controls",
            "_view_module_version": "1.5.0",
            "_view_name": "HBoxView",
            "box_style": "",
            "children": [
              "IPY_MODEL_11380141b7fe453991ea3f090d345e5f",
              "IPY_MODEL_9c7195a5762c49bfb64a80f3c08b8bd3",
              "IPY_MODEL_7d0ba1eb730541ad8ce86126a6be76ac"
            ],
            "layout": "IPY_MODEL_204bf7dcc683454c9baa449f61aaa32c"
          }
        },
        "3322dd19453545bd84c0b56b729c9e0b": {
          "model_module": "@jupyter-widgets/controls",
          "model_module_version": "1.5.0",
          "model_name": "HBoxModel",
          "state": {
            "_dom_classes": [],
            "_model_module": "@jupyter-widgets/controls",
            "_model_module_version": "1.5.0",
            "_model_name": "HBoxModel",
            "_view_count": null,
            "_view_module": "@jupyter-widgets/controls",
            "_view_module_version": "1.5.0",
            "_view_name": "HBoxView",
            "box_style": "",
            "children": [
              "IPY_MODEL_3f88fbc18245461581c2d7b318089b71",
              "IPY_MODEL_64e93eecd9e1400a8cb26a81dee76afe",
              "IPY_MODEL_c45b9669e7294d428e1689476d96e895"
            ],
            "layout": "IPY_MODEL_a5097b07ef444c90ba7ffd26757463f2"
          }
        },
        "344a71bf83964c58957fda158520007f": {
          "model_module": "@jupyter-widgets/controls",
          "model_module_version": "1.5.0",
          "model_name": "ProgressStyleModel",
          "state": {
            "_model_module": "@jupyter-widgets/controls",
            "_model_module_version": "1.5.0",
            "_model_name": "ProgressStyleModel",
            "_view_count": null,
            "_view_module": "@jupyter-widgets/base",
            "_view_module_version": "1.2.0",
            "_view_name": "StyleView",
            "bar_color": null,
            "description_width": ""
          }
        },
        "373ae52c25714dc5afa960e851dfc07e": {
          "model_module": "@jupyter-widgets/controls",
          "model_module_version": "1.5.0",
          "model_name": "HBoxModel",
          "state": {
            "_dom_classes": [],
            "_model_module": "@jupyter-widgets/controls",
            "_model_module_version": "1.5.0",
            "_model_name": "HBoxModel",
            "_view_count": null,
            "_view_module": "@jupyter-widgets/controls",
            "_view_module_version": "1.5.0",
            "_view_name": "HBoxView",
            "box_style": "",
            "children": [
              "IPY_MODEL_033353d920614af593d13bac99c28061",
              "IPY_MODEL_73c1c00d98774eabb08930536f293550",
              "IPY_MODEL_6e48273271694a1d919256d907fff00c"
            ],
            "layout": "IPY_MODEL_8207989d6d1848aba7a432536ad600b1"
          }
        },
        "3750b568368a4695884d35b52e100307": {
          "model_module": "@jupyter-widgets/controls",
          "model_module_version": "1.5.0",
          "model_name": "ProgressStyleModel",
          "state": {
            "_model_module": "@jupyter-widgets/controls",
            "_model_module_version": "1.5.0",
            "_model_name": "ProgressStyleModel",
            "_view_count": null,
            "_view_module": "@jupyter-widgets/base",
            "_view_module_version": "1.2.0",
            "_view_name": "StyleView",
            "bar_color": null,
            "description_width": ""
          }
        },
        "38fdd08554ff4f63808ae90d5b1729b1": {
          "model_module": "@jupyter-widgets/controls",
          "model_module_version": "1.5.0",
          "model_name": "FloatProgressModel",
          "state": {
            "_dom_classes": [],
            "_model_module": "@jupyter-widgets/controls",
            "_model_module_version": "1.5.0",
            "_model_name": "FloatProgressModel",
            "_view_count": null,
            "_view_module": "@jupyter-widgets/controls",
            "_view_module_version": "1.5.0",
            "_view_name": "ProgressView",
            "bar_style": "success",
            "description": "",
            "description_tooltip": null,
            "layout": "IPY_MODEL_a4cf85c98af9436ebbc13dfd259a3811",
            "max": 363,
            "min": 0,
            "orientation": "horizontal",
            "style": "IPY_MODEL_441ad2202a314476ad97baef32bf550e",
            "value": 363
          }
        },
        "3c321f891f4741298a5bb07decce7b0f": {
          "model_module": "@jupyter-widgets/base",
          "model_module_version": "1.2.0",
          "model_name": "LayoutModel",
          "state": {
            "_model_module": "@jupyter-widgets/base",
            "_model_module_version": "1.2.0",
            "_model_name": "LayoutModel",
            "_view_count": null,
            "_view_module": "@jupyter-widgets/base",
            "_view_module_version": "1.2.0",
            "_view_name": "LayoutView",
            "align_content": null,
            "align_items": null,
            "align_self": null,
            "border": null,
            "bottom": null,
            "display": null,
            "flex": null,
            "flex_flow": null,
            "grid_area": null,
            "grid_auto_columns": null,
            "grid_auto_flow": null,
            "grid_auto_rows": null,
            "grid_column": null,
            "grid_gap": null,
            "grid_row": null,
            "grid_template_areas": null,
            "grid_template_columns": null,
            "grid_template_rows": null,
            "height": null,
            "justify_content": null,
            "justify_items": null,
            "left": null,
            "margin": null,
            "max_height": null,
            "max_width": null,
            "min_height": null,
            "min_width": null,
            "object_fit": null,
            "object_position": null,
            "order": null,
            "overflow": null,
            "overflow_x": null,
            "overflow_y": null,
            "padding": null,
            "right": null,
            "top": null,
            "visibility": null,
            "width": null
          }
        },
        "3d886d1ba87f4261b90fec70507fe350": {
          "model_module": "@jupyter-widgets/controls",
          "model_module_version": "1.5.0",
          "model_name": "FloatProgressModel",
          "state": {
            "_dom_classes": [],
            "_model_module": "@jupyter-widgets/controls",
            "_model_module_version": "1.5.0",
            "_model_name": "FloatProgressModel",
            "_view_count": null,
            "_view_module": "@jupyter-widgets/controls",
            "_view_module_version": "1.5.0",
            "_view_name": "ProgressView",
            "bar_style": "success",
            "description": "",
            "description_tooltip": null,
            "layout": "IPY_MODEL_4de3f8a8f0e34cdb91c41e7063026fcb",
            "max": 10621,
            "min": 0,
            "orientation": "horizontal",
            "style": "IPY_MODEL_d5c380907f3849ae9964026d141007c9",
            "value": 10621
          }
        },
        "3e9b5e55b37e48829925286c5fe861a3": {
          "model_module": "@jupyter-widgets/controls",
          "model_module_version": "1.5.0",
          "model_name": "DescriptionStyleModel",
          "state": {
            "_model_module": "@jupyter-widgets/controls",
            "_model_module_version": "1.5.0",
            "_model_name": "DescriptionStyleModel",
            "_view_count": null,
            "_view_module": "@jupyter-widgets/base",
            "_view_module_version": "1.2.0",
            "_view_name": "StyleView",
            "description_width": ""
          }
        },
        "3eb831f87c5d46159a83ffde275c0668": {
          "model_module": "@jupyter-widgets/controls",
          "model_module_version": "1.5.0",
          "model_name": "DescriptionStyleModel",
          "state": {
            "_model_module": "@jupyter-widgets/controls",
            "_model_module_version": "1.5.0",
            "_model_name": "DescriptionStyleModel",
            "_view_count": null,
            "_view_module": "@jupyter-widgets/base",
            "_view_module_version": "1.2.0",
            "_view_name": "StyleView",
            "description_width": ""
          }
        },
        "3f10a2841cf44a7389d40ec965318f8b": {
          "model_module": "@jupyter-widgets/controls",
          "model_module_version": "1.5.0",
          "model_name": "HBoxModel",
          "state": {
            "_dom_classes": [],
            "_model_module": "@jupyter-widgets/controls",
            "_model_module_version": "1.5.0",
            "_model_name": "HBoxModel",
            "_view_count": null,
            "_view_module": "@jupyter-widgets/controls",
            "_view_module_version": "1.5.0",
            "_view_name": "HBoxView",
            "box_style": "",
            "children": [
              "IPY_MODEL_587f22b3bff6496db26fe678ebc005b7",
              "IPY_MODEL_49642401e0514d94ad13ed3827b0ff5a",
              "IPY_MODEL_9c9dea7339f3462a9365ef81107f69c8"
            ],
            "layout": "IPY_MODEL_df37dace1b414d999767ca5ee1a2cf16"
          }
        },
        "3f88fbc18245461581c2d7b318089b71": {
          "model_module": "@jupyter-widgets/controls",
          "model_module_version": "1.5.0",
          "model_name": "HTMLModel",
          "state": {
            "_dom_classes": [],
            "_model_module": "@jupyter-widgets/controls",
            "_model_module_version": "1.5.0",
            "_model_name": "HTMLModel",
            "_view_count": null,
            "_view_module": "@jupyter-widgets/controls",
            "_view_module_version": "1.5.0",
            "_view_name": "HTMLView",
            "description": "",
            "description_tooltip": null,
            "layout": "IPY_MODEL_951515ca5ec04182a2525d83f4d40121",
            "placeholder": "​",
            "style": "IPY_MODEL_475f49a249d64589af8409a278ffcce3",
            "value": "config.json: 100%"
          }
        },
        "425233b067c84fefa4918fa197b03dcc": {
          "model_module": "@jupyter-widgets/controls",
          "model_module_version": "1.5.0",
          "model_name": "DescriptionStyleModel",
          "state": {
            "_model_module": "@jupyter-widgets/controls",
            "_model_module_version": "1.5.0",
            "_model_name": "DescriptionStyleModel",
            "_view_count": null,
            "_view_module": "@jupyter-widgets/base",
            "_view_module_version": "1.2.0",
            "_view_name": "StyleView",
            "description_width": ""
          }
        },
        "4310f211d5ee4e0ea5fc804a943f700c": {
          "model_module": "@jupyter-widgets/controls",
          "model_module_version": "1.5.0",
          "model_name": "HBoxModel",
          "state": {
            "_dom_classes": [],
            "_model_module": "@jupyter-widgets/controls",
            "_model_module_version": "1.5.0",
            "_model_name": "HBoxModel",
            "_view_count": null,
            "_view_module": "@jupyter-widgets/controls",
            "_view_module_version": "1.5.0",
            "_view_name": "HBoxView",
            "box_style": "",
            "children": [
              "IPY_MODEL_7e0e7a2f93a5449686ccbc64af8139f8",
              "IPY_MODEL_38fdd08554ff4f63808ae90d5b1729b1",
              "IPY_MODEL_7509c3ef04134c0981e012f6c82b611f"
            ],
            "layout": "IPY_MODEL_4a4efb9b87f54cac9528ebf5d7654fac"
          }
        },
        "441ad2202a314476ad97baef32bf550e": {
          "model_module": "@jupyter-widgets/controls",
          "model_module_version": "1.5.0",
          "model_name": "ProgressStyleModel",
          "state": {
            "_model_module": "@jupyter-widgets/controls",
            "_model_module_version": "1.5.0",
            "_model_name": "ProgressStyleModel",
            "_view_count": null,
            "_view_module": "@jupyter-widgets/base",
            "_view_module_version": "1.2.0",
            "_view_name": "StyleView",
            "bar_color": null,
            "description_width": ""
          }
        },
        "44eb2616f479436584c6d1246915f030": {
          "model_module": "@jupyter-widgets/controls",
          "model_module_version": "1.5.0",
          "model_name": "DescriptionStyleModel",
          "state": {
            "_model_module": "@jupyter-widgets/controls",
            "_model_module_version": "1.5.0",
            "_model_name": "DescriptionStyleModel",
            "_view_count": null,
            "_view_module": "@jupyter-widgets/base",
            "_view_module_version": "1.2.0",
            "_view_name": "StyleView",
            "description_width": ""
          }
        },
        "475f49a249d64589af8409a278ffcce3": {
          "model_module": "@jupyter-widgets/controls",
          "model_module_version": "1.5.0",
          "model_name": "DescriptionStyleModel",
          "state": {
            "_model_module": "@jupyter-widgets/controls",
            "_model_module_version": "1.5.0",
            "_model_name": "DescriptionStyleModel",
            "_view_count": null,
            "_view_module": "@jupyter-widgets/base",
            "_view_module_version": "1.2.0",
            "_view_name": "StyleView",
            "description_width": ""
          }
        },
        "492100de7ec0476d9cbc9ee28aea53c8": {
          "model_module": "@jupyter-widgets/controls",
          "model_module_version": "1.5.0",
          "model_name": "ProgressStyleModel",
          "state": {
            "_model_module": "@jupyter-widgets/controls",
            "_model_module_version": "1.5.0",
            "_model_name": "ProgressStyleModel",
            "_view_count": null,
            "_view_module": "@jupyter-widgets/base",
            "_view_module_version": "1.2.0",
            "_view_name": "StyleView",
            "bar_color": null,
            "description_width": ""
          }
        },
        "49642401e0514d94ad13ed3827b0ff5a": {
          "model_module": "@jupyter-widgets/controls",
          "model_module_version": "1.5.0",
          "model_name": "FloatProgressModel",
          "state": {
            "_dom_classes": [],
            "_model_module": "@jupyter-widgets/controls",
            "_model_module_version": "1.5.0",
            "_model_name": "FloatProgressModel",
            "_view_count": null,
            "_view_module": "@jupyter-widgets/controls",
            "_view_module_version": "1.5.0",
            "_view_name": "ProgressView",
            "bar_style": "success",
            "description": "",
            "description_tooltip": null,
            "layout": "IPY_MODEL_7999e0a74ae9434fb1a66e478efd2b97",
            "max": 116,
            "min": 0,
            "orientation": "horizontal",
            "style": "IPY_MODEL_8a9daeceb9084ddd8e3406f4ff4f90ec",
            "value": 116
          }
        },
        "49ffb8f3542a454dbe85fe83d611b5c4": {
          "model_module": "@jupyter-widgets/controls",
          "model_module_version": "1.5.0",
          "model_name": "DescriptionStyleModel",
          "state": {
            "_model_module": "@jupyter-widgets/controls",
            "_model_module_version": "1.5.0",
            "_model_name": "DescriptionStyleModel",
            "_view_count": null,
            "_view_module": "@jupyter-widgets/base",
            "_view_module_version": "1.2.0",
            "_view_name": "StyleView",
            "description_width": ""
          }
        },
        "4a4efb9b87f54cac9528ebf5d7654fac": {
          "model_module": "@jupyter-widgets/base",
          "model_module_version": "1.2.0",
          "model_name": "LayoutModel",
          "state": {
            "_model_module": "@jupyter-widgets/base",
            "_model_module_version": "1.2.0",
            "_model_name": "LayoutModel",
            "_view_count": null,
            "_view_module": "@jupyter-widgets/base",
            "_view_module_version": "1.2.0",
            "_view_name": "LayoutView",
            "align_content": null,
            "align_items": null,
            "align_self": null,
            "border": null,
            "bottom": null,
            "display": null,
            "flex": null,
            "flex_flow": null,
            "grid_area": null,
            "grid_auto_columns": null,
            "grid_auto_flow": null,
            "grid_auto_rows": null,
            "grid_column": null,
            "grid_gap": null,
            "grid_row": null,
            "grid_template_areas": null,
            "grid_template_columns": null,
            "grid_template_rows": null,
            "height": null,
            "justify_content": null,
            "justify_items": null,
            "left": null,
            "margin": null,
            "max_height": null,
            "max_width": null,
            "min_height": null,
            "min_width": null,
            "object_fit": null,
            "object_position": null,
            "order": null,
            "overflow": null,
            "overflow_x": null,
            "overflow_y": null,
            "padding": null,
            "right": null,
            "top": null,
            "visibility": null,
            "width": null
          }
        },
        "4de3f8a8f0e34cdb91c41e7063026fcb": {
          "model_module": "@jupyter-widgets/base",
          "model_module_version": "1.2.0",
          "model_name": "LayoutModel",
          "state": {
            "_model_module": "@jupyter-widgets/base",
            "_model_module_version": "1.2.0",
            "_model_name": "LayoutModel",
            "_view_count": null,
            "_view_module": "@jupyter-widgets/base",
            "_view_module_version": "1.2.0",
            "_view_name": "LayoutView",
            "align_content": null,
            "align_items": null,
            "align_self": null,
            "border": null,
            "bottom": null,
            "display": null,
            "flex": null,
            "flex_flow": null,
            "grid_area": null,
            "grid_auto_columns": null,
            "grid_auto_flow": null,
            "grid_auto_rows": null,
            "grid_column": null,
            "grid_gap": null,
            "grid_row": null,
            "grid_template_areas": null,
            "grid_template_columns": null,
            "grid_template_rows": null,
            "height": null,
            "justify_content": null,
            "justify_items": null,
            "left": null,
            "margin": null,
            "max_height": null,
            "max_width": null,
            "min_height": null,
            "min_width": null,
            "object_fit": null,
            "object_position": null,
            "order": null,
            "overflow": null,
            "overflow_x": null,
            "overflow_y": null,
            "padding": null,
            "right": null,
            "top": null,
            "visibility": null,
            "width": null
          }
        },
        "51eb1f4bbf164a7c944b4c0df32d39a2": {
          "model_module": "@jupyter-widgets/base",
          "model_module_version": "1.2.0",
          "model_name": "LayoutModel",
          "state": {
            "_model_module": "@jupyter-widgets/base",
            "_model_module_version": "1.2.0",
            "_model_name": "LayoutModel",
            "_view_count": null,
            "_view_module": "@jupyter-widgets/base",
            "_view_module_version": "1.2.0",
            "_view_name": "LayoutView",
            "align_content": null,
            "align_items": null,
            "align_self": null,
            "border": null,
            "bottom": null,
            "display": null,
            "flex": null,
            "flex_flow": null,
            "grid_area": null,
            "grid_auto_columns": null,
            "grid_auto_flow": null,
            "grid_auto_rows": null,
            "grid_column": null,
            "grid_gap": null,
            "grid_row": null,
            "grid_template_areas": null,
            "grid_template_columns": null,
            "grid_template_rows": null,
            "height": null,
            "justify_content": null,
            "justify_items": null,
            "left": null,
            "margin": null,
            "max_height": null,
            "max_width": null,
            "min_height": null,
            "min_width": null,
            "object_fit": null,
            "object_position": null,
            "order": null,
            "overflow": null,
            "overflow_x": null,
            "overflow_y": null,
            "padding": null,
            "right": null,
            "top": null,
            "visibility": null,
            "width": null
          }
        },
        "555b156c99d8485abbe44754652a58b9": {
          "model_module": "@jupyter-widgets/controls",
          "model_module_version": "1.5.0",
          "model_name": "HBoxModel",
          "state": {
            "_dom_classes": [],
            "_model_module": "@jupyter-widgets/controls",
            "_model_module_version": "1.5.0",
            "_model_name": "HBoxModel",
            "_view_count": null,
            "_view_module": "@jupyter-widgets/controls",
            "_view_module_version": "1.5.0",
            "_view_name": "HBoxView",
            "box_style": "",
            "children": [
              "IPY_MODEL_f514fa02f2e042a7b4f73ead7e3d4a96",
              "IPY_MODEL_982498a512674016be9f7bf3f4ccaa09",
              "IPY_MODEL_a6c74519399e4fb2bad72351bf15215a"
            ],
            "layout": "IPY_MODEL_efb63df905644ab198276385ba007bcb"
          }
        },
        "5694c64d6e394587848acf4d914fb61a": {
          "model_module": "@jupyter-widgets/base",
          "model_module_version": "1.2.0",
          "model_name": "LayoutModel",
          "state": {
            "_model_module": "@jupyter-widgets/base",
            "_model_module_version": "1.2.0",
            "_model_name": "LayoutModel",
            "_view_count": null,
            "_view_module": "@jupyter-widgets/base",
            "_view_module_version": "1.2.0",
            "_view_name": "LayoutView",
            "align_content": null,
            "align_items": null,
            "align_self": null,
            "border": null,
            "bottom": null,
            "display": null,
            "flex": null,
            "flex_flow": null,
            "grid_area": null,
            "grid_auto_columns": null,
            "grid_auto_flow": null,
            "grid_auto_rows": null,
            "grid_column": null,
            "grid_gap": null,
            "grid_row": null,
            "grid_template_areas": null,
            "grid_template_columns": null,
            "grid_template_rows": null,
            "height": null,
            "justify_content": null,
            "justify_items": null,
            "left": null,
            "margin": null,
            "max_height": null,
            "max_width": null,
            "min_height": null,
            "min_width": null,
            "object_fit": null,
            "object_position": null,
            "order": null,
            "overflow": null,
            "overflow_x": null,
            "overflow_y": null,
            "padding": null,
            "right": null,
            "top": null,
            "visibility": null,
            "width": null
          }
        },
        "587f22b3bff6496db26fe678ebc005b7": {
          "model_module": "@jupyter-widgets/controls",
          "model_module_version": "1.5.0",
          "model_name": "HTMLModel",
          "state": {
            "_dom_classes": [],
            "_model_module": "@jupyter-widgets/controls",
            "_model_module_version": "1.5.0",
            "_model_name": "HTMLModel",
            "_view_count": null,
            "_view_module": "@jupyter-widgets/controls",
            "_view_module_version": "1.5.0",
            "_view_name": "HTMLView",
            "description": "",
            "description_tooltip": null,
            "layout": "IPY_MODEL_2152297e09f34ab1a3f3ec76d02eb677",
            "placeholder": "​",
            "style": "IPY_MODEL_3e9b5e55b37e48829925286c5fe861a3",
            "value": "config_sentence_transformers.json: 100%"
          }
        },
        "58b0ac79882d44a1bdf889c26597056b": {
          "model_module": "@jupyter-widgets/controls",
          "model_module_version": "1.5.0",
          "model_name": "DescriptionStyleModel",
          "state": {
            "_model_module": "@jupyter-widgets/controls",
            "_model_module_version": "1.5.0",
            "_model_name": "DescriptionStyleModel",
            "_view_count": null,
            "_view_module": "@jupyter-widgets/base",
            "_view_module_version": "1.2.0",
            "_view_name": "StyleView",
            "description_width": ""
          }
        },
        "619b1d8ad498463ebf426be547efac95": {
          "model_module": "@jupyter-widgets/controls",
          "model_module_version": "1.5.0",
          "model_name": "HBoxModel",
          "state": {
            "_dom_classes": [],
            "_model_module": "@jupyter-widgets/controls",
            "_model_module_version": "1.5.0",
            "_model_name": "HBoxModel",
            "_view_count": null,
            "_view_module": "@jupyter-widgets/controls",
            "_view_module_version": "1.5.0",
            "_view_name": "HBoxView",
            "box_style": "",
            "children": [
              "IPY_MODEL_b6e13e3c3eb24200a18b0300e86df8ab",
              "IPY_MODEL_ef79423ab8a5403db4c76c795d812e39",
              "IPY_MODEL_b960d6eeb2f84e4db5d91ca0e1aba2c9"
            ],
            "layout": "IPY_MODEL_bf9640a0ab15483d9be0b5b4d83c5536"
          }
        },
        "6220d7dd42064dc48c341c6c059036e7": {
          "model_module": "@jupyter-widgets/base",
          "model_module_version": "1.2.0",
          "model_name": "LayoutModel",
          "state": {
            "_model_module": "@jupyter-widgets/base",
            "_model_module_version": "1.2.0",
            "_model_name": "LayoutModel",
            "_view_count": null,
            "_view_module": "@jupyter-widgets/base",
            "_view_module_version": "1.2.0",
            "_view_name": "LayoutView",
            "align_content": null,
            "align_items": null,
            "align_self": null,
            "border": null,
            "bottom": null,
            "display": null,
            "flex": null,
            "flex_flow": null,
            "grid_area": null,
            "grid_auto_columns": null,
            "grid_auto_flow": null,
            "grid_auto_rows": null,
            "grid_column": null,
            "grid_gap": null,
            "grid_row": null,
            "grid_template_areas": null,
            "grid_template_columns": null,
            "grid_template_rows": null,
            "height": null,
            "justify_content": null,
            "justify_items": null,
            "left": null,
            "margin": null,
            "max_height": null,
            "max_width": null,
            "min_height": null,
            "min_width": null,
            "object_fit": null,
            "object_position": null,
            "order": null,
            "overflow": null,
            "overflow_x": null,
            "overflow_y": null,
            "padding": null,
            "right": null,
            "top": null,
            "visibility": null,
            "width": null
          }
        },
        "626954751fb0477f829eaa5f65e0cae4": {
          "model_module": "@jupyter-widgets/controls",
          "model_module_version": "1.5.0",
          "model_name": "DescriptionStyleModel",
          "state": {
            "_model_module": "@jupyter-widgets/controls",
            "_model_module_version": "1.5.0",
            "_model_name": "DescriptionStyleModel",
            "_view_count": null,
            "_view_module": "@jupyter-widgets/base",
            "_view_module_version": "1.2.0",
            "_view_name": "StyleView",
            "description_width": ""
          }
        },
        "64e93eecd9e1400a8cb26a81dee76afe": {
          "model_module": "@jupyter-widgets/controls",
          "model_module_version": "1.5.0",
          "model_name": "FloatProgressModel",
          "state": {
            "_dom_classes": [],
            "_model_module": "@jupyter-widgets/controls",
            "_model_module_version": "1.5.0",
            "_model_name": "FloatProgressModel",
            "_view_count": null,
            "_view_module": "@jupyter-widgets/controls",
            "_view_module_version": "1.5.0",
            "_view_name": "ProgressView",
            "bar_style": "success",
            "description": "",
            "description_tooltip": null,
            "layout": "IPY_MODEL_8106e5c844e84452a017222e80d57a44",
            "max": 571,
            "min": 0,
            "orientation": "horizontal",
            "style": "IPY_MODEL_344a71bf83964c58957fda158520007f",
            "value": 571
          }
        },
        "6bfbb227d5134627b47860d6c2549e65": {
          "model_module": "@jupyter-widgets/base",
          "model_module_version": "1.2.0",
          "model_name": "LayoutModel",
          "state": {
            "_model_module": "@jupyter-widgets/base",
            "_model_module_version": "1.2.0",
            "_model_name": "LayoutModel",
            "_view_count": null,
            "_view_module": "@jupyter-widgets/base",
            "_view_module_version": "1.2.0",
            "_view_name": "LayoutView",
            "align_content": null,
            "align_items": null,
            "align_self": null,
            "border": null,
            "bottom": null,
            "display": null,
            "flex": null,
            "flex_flow": null,
            "grid_area": null,
            "grid_auto_columns": null,
            "grid_auto_flow": null,
            "grid_auto_rows": null,
            "grid_column": null,
            "grid_gap": null,
            "grid_row": null,
            "grid_template_areas": null,
            "grid_template_columns": null,
            "grid_template_rows": null,
            "height": null,
            "justify_content": null,
            "justify_items": null,
            "left": null,
            "margin": null,
            "max_height": null,
            "max_width": null,
            "min_height": null,
            "min_width": null,
            "object_fit": null,
            "object_position": null,
            "order": null,
            "overflow": null,
            "overflow_x": null,
            "overflow_y": null,
            "padding": null,
            "right": null,
            "top": null,
            "visibility": null,
            "width": null
          }
        },
        "6e48273271694a1d919256d907fff00c": {
          "model_module": "@jupyter-widgets/controls",
          "model_module_version": "1.5.0",
          "model_name": "HTMLModel",
          "state": {
            "_dom_classes": [],
            "_model_module": "@jupyter-widgets/controls",
            "_model_module_version": "1.5.0",
            "_model_name": "HTMLModel",
            "_view_count": null,
            "_view_module": "@jupyter-widgets/controls",
            "_view_module_version": "1.5.0",
            "_view_name": "HTMLView",
            "description": "",
            "description_tooltip": null,
            "layout": "IPY_MODEL_0cb1dd5314e84ff0b8861660dd80d9a6",
            "placeholder": "​",
            "style": "IPY_MODEL_77897e557e194987b8bf20e62eef414d",
            "value": " 190/190 [00:00&lt;00:00, 7.79kB/s]"
          }
        },
        "73c1c00d98774eabb08930536f293550": {
          "model_module": "@jupyter-widgets/controls",
          "model_module_version": "1.5.0",
          "model_name": "FloatProgressModel",
          "state": {
            "_dom_classes": [],
            "_model_module": "@jupyter-widgets/controls",
            "_model_module_version": "1.5.0",
            "_model_name": "FloatProgressModel",
            "_view_count": null,
            "_view_module": "@jupyter-widgets/controls",
            "_view_module_version": "1.5.0",
            "_view_name": "ProgressView",
            "bar_style": "success",
            "description": "",
            "description_tooltip": null,
            "layout": "IPY_MODEL_788779893d4349628ce260d913914a4a",
            "max": 190,
            "min": 0,
            "orientation": "horizontal",
            "style": "IPY_MODEL_492100de7ec0476d9cbc9ee28aea53c8",
            "value": 190
          }
        },
        "7479bb48566e466f93f5660b5792e5d8": {
          "model_module": "@jupyter-widgets/base",
          "model_module_version": "1.2.0",
          "model_name": "LayoutModel",
          "state": {
            "_model_module": "@jupyter-widgets/base",
            "_model_module_version": "1.2.0",
            "_model_name": "LayoutModel",
            "_view_count": null,
            "_view_module": "@jupyter-widgets/base",
            "_view_module_version": "1.2.0",
            "_view_name": "LayoutView",
            "align_content": null,
            "align_items": null,
            "align_self": null,
            "border": null,
            "bottom": null,
            "display": null,
            "flex": null,
            "flex_flow": null,
            "grid_area": null,
            "grid_auto_columns": null,
            "grid_auto_flow": null,
            "grid_auto_rows": null,
            "grid_column": null,
            "grid_gap": null,
            "grid_row": null,
            "grid_template_areas": null,
            "grid_template_columns": null,
            "grid_template_rows": null,
            "height": null,
            "justify_content": null,
            "justify_items": null,
            "left": null,
            "margin": null,
            "max_height": null,
            "max_width": null,
            "min_height": null,
            "min_width": null,
            "object_fit": null,
            "object_position": null,
            "order": null,
            "overflow": null,
            "overflow_x": null,
            "overflow_y": null,
            "padding": null,
            "right": null,
            "top": null,
            "visibility": null,
            "width": null
          }
        },
        "7509c3ef04134c0981e012f6c82b611f": {
          "model_module": "@jupyter-widgets/controls",
          "model_module_version": "1.5.0",
          "model_name": "HTMLModel",
          "state": {
            "_dom_classes": [],
            "_model_module": "@jupyter-widgets/controls",
            "_model_module_version": "1.5.0",
            "_model_name": "HTMLModel",
            "_view_count": null,
            "_view_module": "@jupyter-widgets/controls",
            "_view_module_version": "1.5.0",
            "_view_name": "HTMLView",
            "description": "",
            "description_tooltip": null,
            "layout": "IPY_MODEL_ace0e253db3745f78a471ca9c958c717",
            "placeholder": "​",
            "style": "IPY_MODEL_425233b067c84fefa4918fa197b03dcc",
            "value": " 363/363 [00:00&lt;00:00, 16.2kB/s]"
          }
        },
        "77897e557e194987b8bf20e62eef414d": {
          "model_module": "@jupyter-widgets/controls",
          "model_module_version": "1.5.0",
          "model_name": "DescriptionStyleModel",
          "state": {
            "_model_module": "@jupyter-widgets/controls",
            "_model_module_version": "1.5.0",
            "_model_name": "DescriptionStyleModel",
            "_view_count": null,
            "_view_module": "@jupyter-widgets/base",
            "_view_module_version": "1.2.0",
            "_view_name": "StyleView",
            "description_width": ""
          }
        },
        "788779893d4349628ce260d913914a4a": {
          "model_module": "@jupyter-widgets/base",
          "model_module_version": "1.2.0",
          "model_name": "LayoutModel",
          "state": {
            "_model_module": "@jupyter-widgets/base",
            "_model_module_version": "1.2.0",
            "_model_name": "LayoutModel",
            "_view_count": null,
            "_view_module": "@jupyter-widgets/base",
            "_view_module_version": "1.2.0",
            "_view_name": "LayoutView",
            "align_content": null,
            "align_items": null,
            "align_self": null,
            "border": null,
            "bottom": null,
            "display": null,
            "flex": null,
            "flex_flow": null,
            "grid_area": null,
            "grid_auto_columns": null,
            "grid_auto_flow": null,
            "grid_auto_rows": null,
            "grid_column": null,
            "grid_gap": null,
            "grid_row": null,
            "grid_template_areas": null,
            "grid_template_columns": null,
            "grid_template_rows": null,
            "height": null,
            "justify_content": null,
            "justify_items": null,
            "left": null,
            "margin": null,
            "max_height": null,
            "max_width": null,
            "min_height": null,
            "min_width": null,
            "object_fit": null,
            "object_position": null,
            "order": null,
            "overflow": null,
            "overflow_x": null,
            "overflow_y": null,
            "padding": null,
            "right": null,
            "top": null,
            "visibility": null,
            "width": null
          }
        },
        "7999e0a74ae9434fb1a66e478efd2b97": {
          "model_module": "@jupyter-widgets/base",
          "model_module_version": "1.2.0",
          "model_name": "LayoutModel",
          "state": {
            "_model_module": "@jupyter-widgets/base",
            "_model_module_version": "1.2.0",
            "_model_name": "LayoutModel",
            "_view_count": null,
            "_view_module": "@jupyter-widgets/base",
            "_view_module_version": "1.2.0",
            "_view_name": "LayoutView",
            "align_content": null,
            "align_items": null,
            "align_self": null,
            "border": null,
            "bottom": null,
            "display": null,
            "flex": null,
            "flex_flow": null,
            "grid_area": null,
            "grid_auto_columns": null,
            "grid_auto_flow": null,
            "grid_auto_rows": null,
            "grid_column": null,
            "grid_gap": null,
            "grid_row": null,
            "grid_template_areas": null,
            "grid_template_columns": null,
            "grid_template_rows": null,
            "height": null,
            "justify_content": null,
            "justify_items": null,
            "left": null,
            "margin": null,
            "max_height": null,
            "max_width": null,
            "min_height": null,
            "min_width": null,
            "object_fit": null,
            "object_position": null,
            "order": null,
            "overflow": null,
            "overflow_x": null,
            "overflow_y": null,
            "padding": null,
            "right": null,
            "top": null,
            "visibility": null,
            "width": null
          }
        },
        "79fc47cca3b7466d857bfc917a18682e": {
          "model_module": "@jupyter-widgets/controls",
          "model_module_version": "1.5.0",
          "model_name": "HBoxModel",
          "state": {
            "_dom_classes": [],
            "_model_module": "@jupyter-widgets/controls",
            "_model_module_version": "1.5.0",
            "_model_name": "HBoxModel",
            "_view_count": null,
            "_view_module": "@jupyter-widgets/controls",
            "_view_module_version": "1.5.0",
            "_view_name": "HBoxView",
            "box_style": "",
            "children": [
              "IPY_MODEL_31fd36b7a71046deb7be2e8b09c17e63",
              "IPY_MODEL_f0e3958ef7564080956eb531b08ff098",
              "IPY_MODEL_ab11fdddaec14fa680f2e74f5d96dcc0"
            ],
            "layout": "IPY_MODEL_d925e2c4506a4615bf602edec7cdedad"
          }
        },
        "7bccb2da8bca46949e6c1fe757fb7d12": {
          "model_module": "@jupyter-widgets/base",
          "model_module_version": "1.2.0",
          "model_name": "LayoutModel",
          "state": {
            "_model_module": "@jupyter-widgets/base",
            "_model_module_version": "1.2.0",
            "_model_name": "LayoutModel",
            "_view_count": null,
            "_view_module": "@jupyter-widgets/base",
            "_view_module_version": "1.2.0",
            "_view_name": "LayoutView",
            "align_content": null,
            "align_items": null,
            "align_self": null,
            "border": null,
            "bottom": null,
            "display": null,
            "flex": null,
            "flex_flow": null,
            "grid_area": null,
            "grid_auto_columns": null,
            "grid_auto_flow": null,
            "grid_auto_rows": null,
            "grid_column": null,
            "grid_gap": null,
            "grid_row": null,
            "grid_template_areas": null,
            "grid_template_columns": null,
            "grid_template_rows": null,
            "height": null,
            "justify_content": null,
            "justify_items": null,
            "left": null,
            "margin": null,
            "max_height": null,
            "max_width": null,
            "min_height": null,
            "min_width": null,
            "object_fit": null,
            "object_position": null,
            "order": null,
            "overflow": null,
            "overflow_x": null,
            "overflow_y": null,
            "padding": null,
            "right": null,
            "top": null,
            "visibility": null,
            "width": null
          }
        },
        "7c67804b95cc4683bf3f90c79f816119": {
          "model_module": "@jupyter-widgets/controls",
          "model_module_version": "1.5.0",
          "model_name": "HTMLModel",
          "state": {
            "_dom_classes": [],
            "_model_module": "@jupyter-widgets/controls",
            "_model_module_version": "1.5.0",
            "_model_name": "HTMLModel",
            "_view_count": null,
            "_view_module": "@jupyter-widgets/controls",
            "_view_module_version": "1.5.0",
            "_view_name": "HTMLView",
            "description": "",
            "description_tooltip": null,
            "layout": "IPY_MODEL_0680a220ebf74a2cb1e0aa001d9e5417",
            "placeholder": "​",
            "style": "IPY_MODEL_626954751fb0477f829eaa5f65e0cae4",
            "value": " 10.6k/10.6k [00:00&lt;00:00, 502kB/s]"
          }
        },
        "7d0ba1eb730541ad8ce86126a6be76ac": {
          "model_module": "@jupyter-widgets/controls",
          "model_module_version": "1.5.0",
          "model_name": "HTMLModel",
          "state": {
            "_dom_classes": [],
            "_model_module": "@jupyter-widgets/controls",
            "_model_module_version": "1.5.0",
            "_model_name": "HTMLModel",
            "_view_count": null,
            "_view_module": "@jupyter-widgets/controls",
            "_view_module_version": "1.5.0",
            "_view_name": "HTMLView",
            "description": "",
            "description_tooltip": null,
            "layout": "IPY_MODEL_7fe5be3c28a24f8684d1916d2ffed97e",
            "placeholder": "​",
            "style": "IPY_MODEL_db88e0e4505644029b160da0b6ed9d96",
            "value": " 466k/466k [00:00&lt;00:00, 7.06MB/s]"
          }
        },
        "7e0e7a2f93a5449686ccbc64af8139f8": {
          "model_module": "@jupyter-widgets/controls",
          "model_module_version": "1.5.0",
          "model_name": "HTMLModel",
          "state": {
            "_dom_classes": [],
            "_model_module": "@jupyter-widgets/controls",
            "_model_module_version": "1.5.0",
            "_model_name": "HTMLModel",
            "_view_count": null,
            "_view_module": "@jupyter-widgets/controls",
            "_view_module_version": "1.5.0",
            "_view_name": "HTMLView",
            "description": "",
            "description_tooltip": null,
            "layout": "IPY_MODEL_3c321f891f4741298a5bb07decce7b0f",
            "placeholder": "​",
            "style": "IPY_MODEL_49ffb8f3542a454dbe85fe83d611b5c4",
            "value": "tokenizer_config.json: 100%"
          }
        },
        "7fe5be3c28a24f8684d1916d2ffed97e": {
          "model_module": "@jupyter-widgets/base",
          "model_module_version": "1.2.0",
          "model_name": "LayoutModel",
          "state": {
            "_model_module": "@jupyter-widgets/base",
            "_model_module_version": "1.2.0",
            "_model_name": "LayoutModel",
            "_view_count": null,
            "_view_module": "@jupyter-widgets/base",
            "_view_module_version": "1.2.0",
            "_view_name": "LayoutView",
            "align_content": null,
            "align_items": null,
            "align_self": null,
            "border": null,
            "bottom": null,
            "display": null,
            "flex": null,
            "flex_flow": null,
            "grid_area": null,
            "grid_auto_columns": null,
            "grid_auto_flow": null,
            "grid_auto_rows": null,
            "grid_column": null,
            "grid_gap": null,
            "grid_row": null,
            "grid_template_areas": null,
            "grid_template_columns": null,
            "grid_template_rows": null,
            "height": null,
            "justify_content": null,
            "justify_items": null,
            "left": null,
            "margin": null,
            "max_height": null,
            "max_width": null,
            "min_height": null,
            "min_width": null,
            "object_fit": null,
            "object_position": null,
            "order": null,
            "overflow": null,
            "overflow_x": null,
            "overflow_y": null,
            "padding": null,
            "right": null,
            "top": null,
            "visibility": null,
            "width": null
          }
        },
        "8106e5c844e84452a017222e80d57a44": {
          "model_module": "@jupyter-widgets/base",
          "model_module_version": "1.2.0",
          "model_name": "LayoutModel",
          "state": {
            "_model_module": "@jupyter-widgets/base",
            "_model_module_version": "1.2.0",
            "_model_name": "LayoutModel",
            "_view_count": null,
            "_view_module": "@jupyter-widgets/base",
            "_view_module_version": "1.2.0",
            "_view_name": "LayoutView",
            "align_content": null,
            "align_items": null,
            "align_self": null,
            "border": null,
            "bottom": null,
            "display": null,
            "flex": null,
            "flex_flow": null,
            "grid_area": null,
            "grid_auto_columns": null,
            "grid_auto_flow": null,
            "grid_auto_rows": null,
            "grid_column": null,
            "grid_gap": null,
            "grid_row": null,
            "grid_template_areas": null,
            "grid_template_columns": null,
            "grid_template_rows": null,
            "height": null,
            "justify_content": null,
            "justify_items": null,
            "left": null,
            "margin": null,
            "max_height": null,
            "max_width": null,
            "min_height": null,
            "min_width": null,
            "object_fit": null,
            "object_position": null,
            "order": null,
            "overflow": null,
            "overflow_x": null,
            "overflow_y": null,
            "padding": null,
            "right": null,
            "top": null,
            "visibility": null,
            "width": null
          }
        },
        "8120dae73d69428c90f53baeaa8eb7e9": {
          "model_module": "@jupyter-widgets/base",
          "model_module_version": "1.2.0",
          "model_name": "LayoutModel",
          "state": {
            "_model_module": "@jupyter-widgets/base",
            "_model_module_version": "1.2.0",
            "_model_name": "LayoutModel",
            "_view_count": null,
            "_view_module": "@jupyter-widgets/base",
            "_view_module_version": "1.2.0",
            "_view_name": "LayoutView",
            "align_content": null,
            "align_items": null,
            "align_self": null,
            "border": null,
            "bottom": null,
            "display": null,
            "flex": null,
            "flex_flow": null,
            "grid_area": null,
            "grid_auto_columns": null,
            "grid_auto_flow": null,
            "grid_auto_rows": null,
            "grid_column": null,
            "grid_gap": null,
            "grid_row": null,
            "grid_template_areas": null,
            "grid_template_columns": null,
            "grid_template_rows": null,
            "height": null,
            "justify_content": null,
            "justify_items": null,
            "left": null,
            "margin": null,
            "max_height": null,
            "max_width": null,
            "min_height": null,
            "min_width": null,
            "object_fit": null,
            "object_position": null,
            "order": null,
            "overflow": null,
            "overflow_x": null,
            "overflow_y": null,
            "padding": null,
            "right": null,
            "top": null,
            "visibility": null,
            "width": null
          }
        },
        "8207989d6d1848aba7a432536ad600b1": {
          "model_module": "@jupyter-widgets/base",
          "model_module_version": "1.2.0",
          "model_name": "LayoutModel",
          "state": {
            "_model_module": "@jupyter-widgets/base",
            "_model_module_version": "1.2.0",
            "_model_name": "LayoutModel",
            "_view_count": null,
            "_view_module": "@jupyter-widgets/base",
            "_view_module_version": "1.2.0",
            "_view_name": "LayoutView",
            "align_content": null,
            "align_items": null,
            "align_self": null,
            "border": null,
            "bottom": null,
            "display": null,
            "flex": null,
            "flex_flow": null,
            "grid_area": null,
            "grid_auto_columns": null,
            "grid_auto_flow": null,
            "grid_auto_rows": null,
            "grid_column": null,
            "grid_gap": null,
            "grid_row": null,
            "grid_template_areas": null,
            "grid_template_columns": null,
            "grid_template_rows": null,
            "height": null,
            "justify_content": null,
            "justify_items": null,
            "left": null,
            "margin": null,
            "max_height": null,
            "max_width": null,
            "min_height": null,
            "min_width": null,
            "object_fit": null,
            "object_position": null,
            "order": null,
            "overflow": null,
            "overflow_x": null,
            "overflow_y": null,
            "padding": null,
            "right": null,
            "top": null,
            "visibility": null,
            "width": null
          }
        },
        "844be6b64103449abb5e9a6d0be86fa3": {
          "model_module": "@jupyter-widgets/controls",
          "model_module_version": "1.5.0",
          "model_name": "DescriptionStyleModel",
          "state": {
            "_model_module": "@jupyter-widgets/controls",
            "_model_module_version": "1.5.0",
            "_model_name": "DescriptionStyleModel",
            "_view_count": null,
            "_view_module": "@jupyter-widgets/base",
            "_view_module_version": "1.2.0",
            "_view_name": "StyleView",
            "description_width": ""
          }
        },
        "89544b29162d418f856492b2658076b0": {
          "model_module": "@jupyter-widgets/controls",
          "model_module_version": "1.5.0",
          "model_name": "ProgressStyleModel",
          "state": {
            "_model_module": "@jupyter-widgets/controls",
            "_model_module_version": "1.5.0",
            "_model_name": "ProgressStyleModel",
            "_view_count": null,
            "_view_module": "@jupyter-widgets/base",
            "_view_module_version": "1.2.0",
            "_view_name": "StyleView",
            "bar_color": null,
            "description_width": ""
          }
        },
        "8a9daeceb9084ddd8e3406f4ff4f90ec": {
          "model_module": "@jupyter-widgets/controls",
          "model_module_version": "1.5.0",
          "model_name": "ProgressStyleModel",
          "state": {
            "_model_module": "@jupyter-widgets/controls",
            "_model_module_version": "1.5.0",
            "_model_name": "ProgressStyleModel",
            "_view_count": null,
            "_view_module": "@jupyter-widgets/base",
            "_view_module_version": "1.2.0",
            "_view_name": "StyleView",
            "bar_color": null,
            "description_width": ""
          }
        },
        "8b541792054a47d6bc4861207580f020": {
          "model_module": "@jupyter-widgets/controls",
          "model_module_version": "1.5.0",
          "model_name": "DescriptionStyleModel",
          "state": {
            "_model_module": "@jupyter-widgets/controls",
            "_model_module_version": "1.5.0",
            "_model_name": "DescriptionStyleModel",
            "_view_count": null,
            "_view_module": "@jupyter-widgets/base",
            "_view_module_version": "1.2.0",
            "_view_name": "StyleView",
            "description_width": ""
          }
        },
        "8dafe3dde98d47bba814fb6b0d41e135": {
          "model_module": "@jupyter-widgets/controls",
          "model_module_version": "1.5.0",
          "model_name": "DescriptionStyleModel",
          "state": {
            "_model_module": "@jupyter-widgets/controls",
            "_model_module_version": "1.5.0",
            "_model_name": "DescriptionStyleModel",
            "_view_count": null,
            "_view_module": "@jupyter-widgets/base",
            "_view_module_version": "1.2.0",
            "_view_name": "StyleView",
            "description_width": ""
          }
        },
        "951515ca5ec04182a2525d83f4d40121": {
          "model_module": "@jupyter-widgets/base",
          "model_module_version": "1.2.0",
          "model_name": "LayoutModel",
          "state": {
            "_model_module": "@jupyter-widgets/base",
            "_model_module_version": "1.2.0",
            "_model_name": "LayoutModel",
            "_view_count": null,
            "_view_module": "@jupyter-widgets/base",
            "_view_module_version": "1.2.0",
            "_view_name": "LayoutView",
            "align_content": null,
            "align_items": null,
            "align_self": null,
            "border": null,
            "bottom": null,
            "display": null,
            "flex": null,
            "flex_flow": null,
            "grid_area": null,
            "grid_auto_columns": null,
            "grid_auto_flow": null,
            "grid_auto_rows": null,
            "grid_column": null,
            "grid_gap": null,
            "grid_row": null,
            "grid_template_areas": null,
            "grid_template_columns": null,
            "grid_template_rows": null,
            "height": null,
            "justify_content": null,
            "justify_items": null,
            "left": null,
            "margin": null,
            "max_height": null,
            "max_width": null,
            "min_height": null,
            "min_width": null,
            "object_fit": null,
            "object_position": null,
            "order": null,
            "overflow": null,
            "overflow_x": null,
            "overflow_y": null,
            "padding": null,
            "right": null,
            "top": null,
            "visibility": null,
            "width": null
          }
        },
        "96ac20bb1c0943d98ff39fc25de743a3": {
          "model_module": "@jupyter-widgets/base",
          "model_module_version": "1.2.0",
          "model_name": "LayoutModel",
          "state": {
            "_model_module": "@jupyter-widgets/base",
            "_model_module_version": "1.2.0",
            "_model_name": "LayoutModel",
            "_view_count": null,
            "_view_module": "@jupyter-widgets/base",
            "_view_module_version": "1.2.0",
            "_view_name": "LayoutView",
            "align_content": null,
            "align_items": null,
            "align_self": null,
            "border": null,
            "bottom": null,
            "display": null,
            "flex": null,
            "flex_flow": null,
            "grid_area": null,
            "grid_auto_columns": null,
            "grid_auto_flow": null,
            "grid_auto_rows": null,
            "grid_column": null,
            "grid_gap": null,
            "grid_row": null,
            "grid_template_areas": null,
            "grid_template_columns": null,
            "grid_template_rows": null,
            "height": null,
            "justify_content": null,
            "justify_items": null,
            "left": null,
            "margin": null,
            "max_height": null,
            "max_width": null,
            "min_height": null,
            "min_width": null,
            "object_fit": null,
            "object_position": null,
            "order": null,
            "overflow": null,
            "overflow_x": null,
            "overflow_y": null,
            "padding": null,
            "right": null,
            "top": null,
            "visibility": null,
            "width": null
          }
        },
        "982498a512674016be9f7bf3f4ccaa09": {
          "model_module": "@jupyter-widgets/controls",
          "model_module_version": "1.5.0",
          "model_name": "FloatProgressModel",
          "state": {
            "_dom_classes": [],
            "_model_module": "@jupyter-widgets/controls",
            "_model_module_version": "1.5.0",
            "_model_name": "FloatProgressModel",
            "_view_count": null,
            "_view_module": "@jupyter-widgets/controls",
            "_view_module_version": "1.5.0",
            "_view_name": "ProgressView",
            "bar_style": "success",
            "description": "",
            "description_tooltip": null,
            "layout": "IPY_MODEL_a879284aea004914b50fb5030716ff27",
            "max": 437971872,
            "min": 0,
            "orientation": "horizontal",
            "style": "IPY_MODEL_c46f3657c9eb423587821026454c3e4d",
            "value": 437971872
          }
        },
        "99b9c67e2f024d25b118dc88aa055c1a": {
          "model_module": "@jupyter-widgets/controls",
          "model_module_version": "1.5.0",
          "model_name": "HBoxModel",
          "state": {
            "_dom_classes": [],
            "_model_module": "@jupyter-widgets/controls",
            "_model_module_version": "1.5.0",
            "_model_name": "HBoxModel",
            "_view_count": null,
            "_view_module": "@jupyter-widgets/controls",
            "_view_module_version": "1.5.0",
            "_view_name": "HBoxView",
            "box_style": "",
            "children": [
              "IPY_MODEL_f88e3450707d41a1952b44ca29d75826",
              "IPY_MODEL_3d886d1ba87f4261b90fec70507fe350",
              "IPY_MODEL_7c67804b95cc4683bf3f90c79f816119"
            ],
            "layout": "IPY_MODEL_b9e9970284e84408b9c3e756cb00a0c4"
          }
        },
        "9c7195a5762c49bfb64a80f3c08b8bd3": {
          "model_module": "@jupyter-widgets/controls",
          "model_module_version": "1.5.0",
          "model_name": "FloatProgressModel",
          "state": {
            "_dom_classes": [],
            "_model_module": "@jupyter-widgets/controls",
            "_model_module_version": "1.5.0",
            "_model_name": "FloatProgressModel",
            "_view_count": null,
            "_view_module": "@jupyter-widgets/controls",
            "_view_module_version": "1.5.0",
            "_view_name": "ProgressView",
            "bar_style": "success",
            "description": "",
            "description_tooltip": null,
            "layout": "IPY_MODEL_cc07f9bf56ed4f33b16548c61a5ac78f",
            "max": 466021,
            "min": 0,
            "orientation": "horizontal",
            "style": "IPY_MODEL_89544b29162d418f856492b2658076b0",
            "value": 466021
          }
        },
        "9c9dea7339f3462a9365ef81107f69c8": {
          "model_module": "@jupyter-widgets/controls",
          "model_module_version": "1.5.0",
          "model_name": "HTMLModel",
          "state": {
            "_dom_classes": [],
            "_model_module": "@jupyter-widgets/controls",
            "_model_module_version": "1.5.0",
            "_model_name": "HTMLModel",
            "_view_count": null,
            "_view_module": "@jupyter-widgets/controls",
            "_view_module_version": "1.5.0",
            "_view_name": "HTMLView",
            "description": "",
            "description_tooltip": null,
            "layout": "IPY_MODEL_02b7a068cc374af7a4ed2bfb85d5ecef",
            "placeholder": "​",
            "style": "IPY_MODEL_3eb831f87c5d46159a83ffde275c0668",
            "value": " 116/116 [00:00&lt;00:00, 7.27kB/s]"
          }
        },
        "a4cf85c98af9436ebbc13dfd259a3811": {
          "model_module": "@jupyter-widgets/base",
          "model_module_version": "1.2.0",
          "model_name": "LayoutModel",
          "state": {
            "_model_module": "@jupyter-widgets/base",
            "_model_module_version": "1.2.0",
            "_model_name": "LayoutModel",
            "_view_count": null,
            "_view_module": "@jupyter-widgets/base",
            "_view_module_version": "1.2.0",
            "_view_name": "LayoutView",
            "align_content": null,
            "align_items": null,
            "align_self": null,
            "border": null,
            "bottom": null,
            "display": null,
            "flex": null,
            "flex_flow": null,
            "grid_area": null,
            "grid_auto_columns": null,
            "grid_auto_flow": null,
            "grid_auto_rows": null,
            "grid_column": null,
            "grid_gap": null,
            "grid_row": null,
            "grid_template_areas": null,
            "grid_template_columns": null,
            "grid_template_rows": null,
            "height": null,
            "justify_content": null,
            "justify_items": null,
            "left": null,
            "margin": null,
            "max_height": null,
            "max_width": null,
            "min_height": null,
            "min_width": null,
            "object_fit": null,
            "object_position": null,
            "order": null,
            "overflow": null,
            "overflow_x": null,
            "overflow_y": null,
            "padding": null,
            "right": null,
            "top": null,
            "visibility": null,
            "width": null
          }
        },
        "a5097b07ef444c90ba7ffd26757463f2": {
          "model_module": "@jupyter-widgets/base",
          "model_module_version": "1.2.0",
          "model_name": "LayoutModel",
          "state": {
            "_model_module": "@jupyter-widgets/base",
            "_model_module_version": "1.2.0",
            "_model_name": "LayoutModel",
            "_view_count": null,
            "_view_module": "@jupyter-widgets/base",
            "_view_module_version": "1.2.0",
            "_view_name": "LayoutView",
            "align_content": null,
            "align_items": null,
            "align_self": null,
            "border": null,
            "bottom": null,
            "display": null,
            "flex": null,
            "flex_flow": null,
            "grid_area": null,
            "grid_auto_columns": null,
            "grid_auto_flow": null,
            "grid_auto_rows": null,
            "grid_column": null,
            "grid_gap": null,
            "grid_row": null,
            "grid_template_areas": null,
            "grid_template_columns": null,
            "grid_template_rows": null,
            "height": null,
            "justify_content": null,
            "justify_items": null,
            "left": null,
            "margin": null,
            "max_height": null,
            "max_width": null,
            "min_height": null,
            "min_width": null,
            "object_fit": null,
            "object_position": null,
            "order": null,
            "overflow": null,
            "overflow_x": null,
            "overflow_y": null,
            "padding": null,
            "right": null,
            "top": null,
            "visibility": null,
            "width": null
          }
        },
        "a6c74519399e4fb2bad72351bf15215a": {
          "model_module": "@jupyter-widgets/controls",
          "model_module_version": "1.5.0",
          "model_name": "HTMLModel",
          "state": {
            "_dom_classes": [],
            "_model_module": "@jupyter-widgets/controls",
            "_model_module_version": "1.5.0",
            "_model_name": "HTMLModel",
            "_view_count": null,
            "_view_module": "@jupyter-widgets/controls",
            "_view_module_version": "1.5.0",
            "_view_name": "HTMLView",
            "description": "",
            "description_tooltip": null,
            "layout": "IPY_MODEL_2270c095f153475e9839cb55b602c48b",
            "placeholder": "​",
            "style": "IPY_MODEL_ddb200e7356e40298bdcd2b375faa131",
            "value": " 438M/438M [00:02&lt;00:00, 167MB/s]"
          }
        },
        "a879284aea004914b50fb5030716ff27": {
          "model_module": "@jupyter-widgets/base",
          "model_module_version": "1.2.0",
          "model_name": "LayoutModel",
          "state": {
            "_model_module": "@jupyter-widgets/base",
            "_model_module_version": "1.2.0",
            "_model_name": "LayoutModel",
            "_view_count": null,
            "_view_module": "@jupyter-widgets/base",
            "_view_module_version": "1.2.0",
            "_view_name": "LayoutView",
            "align_content": null,
            "align_items": null,
            "align_self": null,
            "border": null,
            "bottom": null,
            "display": null,
            "flex": null,
            "flex_flow": null,
            "grid_area": null,
            "grid_auto_columns": null,
            "grid_auto_flow": null,
            "grid_auto_rows": null,
            "grid_column": null,
            "grid_gap": null,
            "grid_row": null,
            "grid_template_areas": null,
            "grid_template_columns": null,
            "grid_template_rows": null,
            "height": null,
            "justify_content": null,
            "justify_items": null,
            "left": null,
            "margin": null,
            "max_height": null,
            "max_width": null,
            "min_height": null,
            "min_width": null,
            "object_fit": null,
            "object_position": null,
            "order": null,
            "overflow": null,
            "overflow_x": null,
            "overflow_y": null,
            "padding": null,
            "right": null,
            "top": null,
            "visibility": null,
            "width": null
          }
        },
        "aa7b40513ec3450899a307ad4adbb546": {
          "model_module": "@jupyter-widgets/controls",
          "model_module_version": "1.5.0",
          "model_name": "DescriptionStyleModel",
          "state": {
            "_model_module": "@jupyter-widgets/controls",
            "_model_module_version": "1.5.0",
            "_model_name": "DescriptionStyleModel",
            "_view_count": null,
            "_view_module": "@jupyter-widgets/base",
            "_view_module_version": "1.2.0",
            "_view_name": "StyleView",
            "description_width": ""
          }
        },
        "ab11fdddaec14fa680f2e74f5d96dcc0": {
          "model_module": "@jupyter-widgets/controls",
          "model_module_version": "1.5.0",
          "model_name": "HTMLModel",
          "state": {
            "_dom_classes": [],
            "_model_module": "@jupyter-widgets/controls",
            "_model_module_version": "1.5.0",
            "_model_name": "HTMLModel",
            "_view_count": null,
            "_view_module": "@jupyter-widgets/controls",
            "_view_module_version": "1.5.0",
            "_view_name": "HTMLView",
            "description": "",
            "description_tooltip": null,
            "layout": "IPY_MODEL_96ac20bb1c0943d98ff39fc25de743a3",
            "placeholder": "​",
            "style": "IPY_MODEL_305b2e3e130040388c4752e515cdf6db",
            "value": " 349/349 [00:00&lt;00:00, 13.8kB/s]"
          }
        },
        "ac8d89d2eda54874a431f07db81801ac": {
          "model_module": "@jupyter-widgets/controls",
          "model_module_version": "1.5.0",
          "model_name": "DescriptionStyleModel",
          "state": {
            "_model_module": "@jupyter-widgets/controls",
            "_model_module_version": "1.5.0",
            "_model_name": "DescriptionStyleModel",
            "_view_count": null,
            "_view_module": "@jupyter-widgets/base",
            "_view_module_version": "1.2.0",
            "_view_name": "StyleView",
            "description_width": ""
          }
        },
        "ace0e253db3745f78a471ca9c958c717": {
          "model_module": "@jupyter-widgets/base",
          "model_module_version": "1.2.0",
          "model_name": "LayoutModel",
          "state": {
            "_model_module": "@jupyter-widgets/base",
            "_model_module_version": "1.2.0",
            "_model_name": "LayoutModel",
            "_view_count": null,
            "_view_module": "@jupyter-widgets/base",
            "_view_module_version": "1.2.0",
            "_view_name": "LayoutView",
            "align_content": null,
            "align_items": null,
            "align_self": null,
            "border": null,
            "bottom": null,
            "display": null,
            "flex": null,
            "flex_flow": null,
            "grid_area": null,
            "grid_auto_columns": null,
            "grid_auto_flow": null,
            "grid_auto_rows": null,
            "grid_column": null,
            "grid_gap": null,
            "grid_row": null,
            "grid_template_areas": null,
            "grid_template_columns": null,
            "grid_template_rows": null,
            "height": null,
            "justify_content": null,
            "justify_items": null,
            "left": null,
            "margin": null,
            "max_height": null,
            "max_width": null,
            "min_height": null,
            "min_width": null,
            "object_fit": null,
            "object_position": null,
            "order": null,
            "overflow": null,
            "overflow_x": null,
            "overflow_y": null,
            "padding": null,
            "right": null,
            "top": null,
            "visibility": null,
            "width": null
          }
        },
        "b2c717b23f2a4f6ea1a45ff1657709bd": {
          "model_module": "@jupyter-widgets/base",
          "model_module_version": "1.2.0",
          "model_name": "LayoutModel",
          "state": {
            "_model_module": "@jupyter-widgets/base",
            "_model_module_version": "1.2.0",
            "_model_name": "LayoutModel",
            "_view_count": null,
            "_view_module": "@jupyter-widgets/base",
            "_view_module_version": "1.2.0",
            "_view_name": "LayoutView",
            "align_content": null,
            "align_items": null,
            "align_self": null,
            "border": null,
            "bottom": null,
            "display": null,
            "flex": null,
            "flex_flow": null,
            "grid_area": null,
            "grid_auto_columns": null,
            "grid_auto_flow": null,
            "grid_auto_rows": null,
            "grid_column": null,
            "grid_gap": null,
            "grid_row": null,
            "grid_template_areas": null,
            "grid_template_columns": null,
            "grid_template_rows": null,
            "height": null,
            "justify_content": null,
            "justify_items": null,
            "left": null,
            "margin": null,
            "max_height": null,
            "max_width": null,
            "min_height": null,
            "min_width": null,
            "object_fit": null,
            "object_position": null,
            "order": null,
            "overflow": null,
            "overflow_x": null,
            "overflow_y": null,
            "padding": null,
            "right": null,
            "top": null,
            "visibility": null,
            "width": null
          }
        },
        "b6e13e3c3eb24200a18b0300e86df8ab": {
          "model_module": "@jupyter-widgets/controls",
          "model_module_version": "1.5.0",
          "model_name": "HTMLModel",
          "state": {
            "_dom_classes": [],
            "_model_module": "@jupyter-widgets/controls",
            "_model_module_version": "1.5.0",
            "_model_name": "HTMLModel",
            "_view_count": null,
            "_view_module": "@jupyter-widgets/controls",
            "_view_module_version": "1.5.0",
            "_view_name": "HTMLView",
            "description": "",
            "description_tooltip": null,
            "layout": "IPY_MODEL_e6e2de8827534ecaabf108a1f83f2251",
            "placeholder": "​",
            "style": "IPY_MODEL_8b541792054a47d6bc4861207580f020",
            "value": "special_tokens_map.json: 100%"
          }
        },
        "b960d6eeb2f84e4db5d91ca0e1aba2c9": {
          "model_module": "@jupyter-widgets/controls",
          "model_module_version": "1.5.0",
          "model_name": "HTMLModel",
          "state": {
            "_dom_classes": [],
            "_model_module": "@jupyter-widgets/controls",
            "_model_module_version": "1.5.0",
            "_model_name": "HTMLModel",
            "_view_count": null,
            "_view_module": "@jupyter-widgets/controls",
            "_view_module_version": "1.5.0",
            "_view_name": "HTMLView",
            "description": "",
            "description_tooltip": null,
            "layout": "IPY_MODEL_8120dae73d69428c90f53baeaa8eb7e9",
            "placeholder": "​",
            "style": "IPY_MODEL_44eb2616f479436584c6d1246915f030",
            "value": " 239/239 [00:00&lt;00:00, 8.67kB/s]"
          }
        },
        "b9e9970284e84408b9c3e756cb00a0c4": {
          "model_module": "@jupyter-widgets/base",
          "model_module_version": "1.2.0",
          "model_name": "LayoutModel",
          "state": {
            "_model_module": "@jupyter-widgets/base",
            "_model_module_version": "1.2.0",
            "_model_name": "LayoutModel",
            "_view_count": null,
            "_view_module": "@jupyter-widgets/base",
            "_view_module_version": "1.2.0",
            "_view_name": "LayoutView",
            "align_content": null,
            "align_items": null,
            "align_self": null,
            "border": null,
            "bottom": null,
            "display": null,
            "flex": null,
            "flex_flow": null,
            "grid_area": null,
            "grid_auto_columns": null,
            "grid_auto_flow": null,
            "grid_auto_rows": null,
            "grid_column": null,
            "grid_gap": null,
            "grid_row": null,
            "grid_template_areas": null,
            "grid_template_columns": null,
            "grid_template_rows": null,
            "height": null,
            "justify_content": null,
            "justify_items": null,
            "left": null,
            "margin": null,
            "max_height": null,
            "max_width": null,
            "min_height": null,
            "min_width": null,
            "object_fit": null,
            "object_position": null,
            "order": null,
            "overflow": null,
            "overflow_x": null,
            "overflow_y": null,
            "padding": null,
            "right": null,
            "top": null,
            "visibility": null,
            "width": null
          }
        },
        "bf9640a0ab15483d9be0b5b4d83c5536": {
          "model_module": "@jupyter-widgets/base",
          "model_module_version": "1.2.0",
          "model_name": "LayoutModel",
          "state": {
            "_model_module": "@jupyter-widgets/base",
            "_model_module_version": "1.2.0",
            "_model_name": "LayoutModel",
            "_view_count": null,
            "_view_module": "@jupyter-widgets/base",
            "_view_module_version": "1.2.0",
            "_view_name": "LayoutView",
            "align_content": null,
            "align_items": null,
            "align_self": null,
            "border": null,
            "bottom": null,
            "display": null,
            "flex": null,
            "flex_flow": null,
            "grid_area": null,
            "grid_auto_columns": null,
            "grid_auto_flow": null,
            "grid_auto_rows": null,
            "grid_column": null,
            "grid_gap": null,
            "grid_row": null,
            "grid_template_areas": null,
            "grid_template_columns": null,
            "grid_template_rows": null,
            "height": null,
            "justify_content": null,
            "justify_items": null,
            "left": null,
            "margin": null,
            "max_height": null,
            "max_width": null,
            "min_height": null,
            "min_width": null,
            "object_fit": null,
            "object_position": null,
            "order": null,
            "overflow": null,
            "overflow_x": null,
            "overflow_y": null,
            "padding": null,
            "right": null,
            "top": null,
            "visibility": null,
            "width": null
          }
        },
        "c45b9669e7294d428e1689476d96e895": {
          "model_module": "@jupyter-widgets/controls",
          "model_module_version": "1.5.0",
          "model_name": "HTMLModel",
          "state": {
            "_dom_classes": [],
            "_model_module": "@jupyter-widgets/controls",
            "_model_module_version": "1.5.0",
            "_model_name": "HTMLModel",
            "_view_count": null,
            "_view_module": "@jupyter-widgets/controls",
            "_view_module_version": "1.5.0",
            "_view_name": "HTMLView",
            "description": "",
            "description_tooltip": null,
            "layout": "IPY_MODEL_5694c64d6e394587848acf4d914fb61a",
            "placeholder": "​",
            "style": "IPY_MODEL_8dafe3dde98d47bba814fb6b0d41e135",
            "value": " 571/571 [00:00&lt;00:00, 18.4kB/s]"
          }
        },
        "c46f3657c9eb423587821026454c3e4d": {
          "model_module": "@jupyter-widgets/controls",
          "model_module_version": "1.5.0",
          "model_name": "ProgressStyleModel",
          "state": {
            "_model_module": "@jupyter-widgets/controls",
            "_model_module_version": "1.5.0",
            "_model_name": "ProgressStyleModel",
            "_view_count": null,
            "_view_module": "@jupyter-widgets/base",
            "_view_module_version": "1.2.0",
            "_view_name": "StyleView",
            "bar_color": null,
            "description_width": ""
          }
        },
        "cc07f9bf56ed4f33b16548c61a5ac78f": {
          "model_module": "@jupyter-widgets/base",
          "model_module_version": "1.2.0",
          "model_name": "LayoutModel",
          "state": {
            "_model_module": "@jupyter-widgets/base",
            "_model_module_version": "1.2.0",
            "_model_name": "LayoutModel",
            "_view_count": null,
            "_view_module": "@jupyter-widgets/base",
            "_view_module_version": "1.2.0",
            "_view_name": "LayoutView",
            "align_content": null,
            "align_items": null,
            "align_self": null,
            "border": null,
            "bottom": null,
            "display": null,
            "flex": null,
            "flex_flow": null,
            "grid_area": null,
            "grid_auto_columns": null,
            "grid_auto_flow": null,
            "grid_auto_rows": null,
            "grid_column": null,
            "grid_gap": null,
            "grid_row": null,
            "grid_template_areas": null,
            "grid_template_columns": null,
            "grid_template_rows": null,
            "height": null,
            "justify_content": null,
            "justify_items": null,
            "left": null,
            "margin": null,
            "max_height": null,
            "max_width": null,
            "min_height": null,
            "min_width": null,
            "object_fit": null,
            "object_position": null,
            "order": null,
            "overflow": null,
            "overflow_x": null,
            "overflow_y": null,
            "padding": null,
            "right": null,
            "top": null,
            "visibility": null,
            "width": null
          }
        },
        "ce5ab6c7893c40d7b3dd7949ee7fb92f": {
          "model_module": "@jupyter-widgets/base",
          "model_module_version": "1.2.0",
          "model_name": "LayoutModel",
          "state": {
            "_model_module": "@jupyter-widgets/base",
            "_model_module_version": "1.2.0",
            "_model_name": "LayoutModel",
            "_view_count": null,
            "_view_module": "@jupyter-widgets/base",
            "_view_module_version": "1.2.0",
            "_view_name": "LayoutView",
            "align_content": null,
            "align_items": null,
            "align_self": null,
            "border": null,
            "bottom": null,
            "display": null,
            "flex": null,
            "flex_flow": null,
            "grid_area": null,
            "grid_auto_columns": null,
            "grid_auto_flow": null,
            "grid_auto_rows": null,
            "grid_column": null,
            "grid_gap": null,
            "grid_row": null,
            "grid_template_areas": null,
            "grid_template_columns": null,
            "grid_template_rows": null,
            "height": null,
            "justify_content": null,
            "justify_items": null,
            "left": null,
            "margin": null,
            "max_height": null,
            "max_width": null,
            "min_height": null,
            "min_width": null,
            "object_fit": null,
            "object_position": null,
            "order": null,
            "overflow": null,
            "overflow_x": null,
            "overflow_y": null,
            "padding": null,
            "right": null,
            "top": null,
            "visibility": null,
            "width": null
          }
        },
        "d5c380907f3849ae9964026d141007c9": {
          "model_module": "@jupyter-widgets/controls",
          "model_module_version": "1.5.0",
          "model_name": "ProgressStyleModel",
          "state": {
            "_model_module": "@jupyter-widgets/controls",
            "_model_module_version": "1.5.0",
            "_model_name": "ProgressStyleModel",
            "_view_count": null,
            "_view_module": "@jupyter-widgets/base",
            "_view_module_version": "1.2.0",
            "_view_name": "StyleView",
            "bar_color": null,
            "description_width": ""
          }
        },
        "d925e2c4506a4615bf602edec7cdedad": {
          "model_module": "@jupyter-widgets/base",
          "model_module_version": "1.2.0",
          "model_name": "LayoutModel",
          "state": {
            "_model_module": "@jupyter-widgets/base",
            "_model_module_version": "1.2.0",
            "_model_name": "LayoutModel",
            "_view_count": null,
            "_view_module": "@jupyter-widgets/base",
            "_view_module_version": "1.2.0",
            "_view_name": "LayoutView",
            "align_content": null,
            "align_items": null,
            "align_self": null,
            "border": null,
            "bottom": null,
            "display": null,
            "flex": null,
            "flex_flow": null,
            "grid_area": null,
            "grid_auto_columns": null,
            "grid_auto_flow": null,
            "grid_auto_rows": null,
            "grid_column": null,
            "grid_gap": null,
            "grid_row": null,
            "grid_template_areas": null,
            "grid_template_columns": null,
            "grid_template_rows": null,
            "height": null,
            "justify_content": null,
            "justify_items": null,
            "left": null,
            "margin": null,
            "max_height": null,
            "max_width": null,
            "min_height": null,
            "min_width": null,
            "object_fit": null,
            "object_position": null,
            "order": null,
            "overflow": null,
            "overflow_x": null,
            "overflow_y": null,
            "padding": null,
            "right": null,
            "top": null,
            "visibility": null,
            "width": null
          }
        },
        "da464bc7e8b44a2296bf77baf1106d2b": {
          "model_module": "@jupyter-widgets/controls",
          "model_module_version": "1.5.0",
          "model_name": "DescriptionStyleModel",
          "state": {
            "_model_module": "@jupyter-widgets/controls",
            "_model_module_version": "1.5.0",
            "_model_name": "DescriptionStyleModel",
            "_view_count": null,
            "_view_module": "@jupyter-widgets/base",
            "_view_module_version": "1.2.0",
            "_view_name": "StyleView",
            "description_width": ""
          }
        },
        "db88e0e4505644029b160da0b6ed9d96": {
          "model_module": "@jupyter-widgets/controls",
          "model_module_version": "1.5.0",
          "model_name": "DescriptionStyleModel",
          "state": {
            "_model_module": "@jupyter-widgets/controls",
            "_model_module_version": "1.5.0",
            "_model_name": "DescriptionStyleModel",
            "_view_count": null,
            "_view_module": "@jupyter-widgets/base",
            "_view_module_version": "1.2.0",
            "_view_name": "StyleView",
            "description_width": ""
          }
        },
        "dbbba4b588394eb09093f053377c3d64": {
          "model_module": "@jupyter-widgets/base",
          "model_module_version": "1.2.0",
          "model_name": "LayoutModel",
          "state": {
            "_model_module": "@jupyter-widgets/base",
            "_model_module_version": "1.2.0",
            "_model_name": "LayoutModel",
            "_view_count": null,
            "_view_module": "@jupyter-widgets/base",
            "_view_module_version": "1.2.0",
            "_view_name": "LayoutView",
            "align_content": null,
            "align_items": null,
            "align_self": null,
            "border": null,
            "bottom": null,
            "display": null,
            "flex": null,
            "flex_flow": null,
            "grid_area": null,
            "grid_auto_columns": null,
            "grid_auto_flow": null,
            "grid_auto_rows": null,
            "grid_column": null,
            "grid_gap": null,
            "grid_row": null,
            "grid_template_areas": null,
            "grid_template_columns": null,
            "grid_template_rows": null,
            "height": null,
            "justify_content": null,
            "justify_items": null,
            "left": null,
            "margin": null,
            "max_height": null,
            "max_width": null,
            "min_height": null,
            "min_width": null,
            "object_fit": null,
            "object_position": null,
            "order": null,
            "overflow": null,
            "overflow_x": null,
            "overflow_y": null,
            "padding": null,
            "right": null,
            "top": null,
            "visibility": null,
            "width": null
          }
        },
        "ddb200e7356e40298bdcd2b375faa131": {
          "model_module": "@jupyter-widgets/controls",
          "model_module_version": "1.5.0",
          "model_name": "DescriptionStyleModel",
          "state": {
            "_model_module": "@jupyter-widgets/controls",
            "_model_module_version": "1.5.0",
            "_model_name": "DescriptionStyleModel",
            "_view_count": null,
            "_view_module": "@jupyter-widgets/base",
            "_view_module_version": "1.2.0",
            "_view_name": "StyleView",
            "description_width": ""
          }
        },
        "deecd730f7a24f50aa5f2829ac6948b5": {
          "model_module": "@jupyter-widgets/controls",
          "model_module_version": "1.5.0",
          "model_name": "HTMLModel",
          "state": {
            "_dom_classes": [],
            "_model_module": "@jupyter-widgets/controls",
            "_model_module_version": "1.5.0",
            "_model_name": "HTMLModel",
            "_view_count": null,
            "_view_module": "@jupyter-widgets/controls",
            "_view_module_version": "1.5.0",
            "_view_name": "HTMLView",
            "description": "",
            "description_tooltip": null,
            "layout": "IPY_MODEL_6220d7dd42064dc48c341c6c059036e7",
            "placeholder": "​",
            "style": "IPY_MODEL_ac8d89d2eda54874a431f07db81801ac",
            "value": " 232k/232k [00:00&lt;00:00, 8.49MB/s]"
          }
        },
        "df37dace1b414d999767ca5ee1a2cf16": {
          "model_module": "@jupyter-widgets/base",
          "model_module_version": "1.2.0",
          "model_name": "LayoutModel",
          "state": {
            "_model_module": "@jupyter-widgets/base",
            "_model_module_version": "1.2.0",
            "_model_name": "LayoutModel",
            "_view_count": null,
            "_view_module": "@jupyter-widgets/base",
            "_view_module_version": "1.2.0",
            "_view_name": "LayoutView",
            "align_content": null,
            "align_items": null,
            "align_self": null,
            "border": null,
            "bottom": null,
            "display": null,
            "flex": null,
            "flex_flow": null,
            "grid_area": null,
            "grid_auto_columns": null,
            "grid_auto_flow": null,
            "grid_auto_rows": null,
            "grid_column": null,
            "grid_gap": null,
            "grid_row": null,
            "grid_template_areas": null,
            "grid_template_columns": null,
            "grid_template_rows": null,
            "height": null,
            "justify_content": null,
            "justify_items": null,
            "left": null,
            "margin": null,
            "max_height": null,
            "max_width": null,
            "min_height": null,
            "min_width": null,
            "object_fit": null,
            "object_position": null,
            "order": null,
            "overflow": null,
            "overflow_x": null,
            "overflow_y": null,
            "padding": null,
            "right": null,
            "top": null,
            "visibility": null,
            "width": null
          }
        },
        "df513fc58182482d94fcaa65883a8725": {
          "model_module": "@jupyter-widgets/base",
          "model_module_version": "1.2.0",
          "model_name": "LayoutModel",
          "state": {
            "_model_module": "@jupyter-widgets/base",
            "_model_module_version": "1.2.0",
            "_model_name": "LayoutModel",
            "_view_count": null,
            "_view_module": "@jupyter-widgets/base",
            "_view_module_version": "1.2.0",
            "_view_name": "LayoutView",
            "align_content": null,
            "align_items": null,
            "align_self": null,
            "border": null,
            "bottom": null,
            "display": null,
            "flex": null,
            "flex_flow": null,
            "grid_area": null,
            "grid_auto_columns": null,
            "grid_auto_flow": null,
            "grid_auto_rows": null,
            "grid_column": null,
            "grid_gap": null,
            "grid_row": null,
            "grid_template_areas": null,
            "grid_template_columns": null,
            "grid_template_rows": null,
            "height": null,
            "justify_content": null,
            "justify_items": null,
            "left": null,
            "margin": null,
            "max_height": null,
            "max_width": null,
            "min_height": null,
            "min_width": null,
            "object_fit": null,
            "object_position": null,
            "order": null,
            "overflow": null,
            "overflow_x": null,
            "overflow_y": null,
            "padding": null,
            "right": null,
            "top": null,
            "visibility": null,
            "width": null
          }
        },
        "e6e2de8827534ecaabf108a1f83f2251": {
          "model_module": "@jupyter-widgets/base",
          "model_module_version": "1.2.0",
          "model_name": "LayoutModel",
          "state": {
            "_model_module": "@jupyter-widgets/base",
            "_model_module_version": "1.2.0",
            "_model_name": "LayoutModel",
            "_view_count": null,
            "_view_module": "@jupyter-widgets/base",
            "_view_module_version": "1.2.0",
            "_view_name": "LayoutView",
            "align_content": null,
            "align_items": null,
            "align_self": null,
            "border": null,
            "bottom": null,
            "display": null,
            "flex": null,
            "flex_flow": null,
            "grid_area": null,
            "grid_auto_columns": null,
            "grid_auto_flow": null,
            "grid_auto_rows": null,
            "grid_column": null,
            "grid_gap": null,
            "grid_row": null,
            "grid_template_areas": null,
            "grid_template_columns": null,
            "grid_template_rows": null,
            "height": null,
            "justify_content": null,
            "justify_items": null,
            "left": null,
            "margin": null,
            "max_height": null,
            "max_width": null,
            "min_height": null,
            "min_width": null,
            "object_fit": null,
            "object_position": null,
            "order": null,
            "overflow": null,
            "overflow_x": null,
            "overflow_y": null,
            "padding": null,
            "right": null,
            "top": null,
            "visibility": null,
            "width": null
          }
        },
        "eaec9040d76942489312179b447a7bf7": {
          "model_module": "@jupyter-widgets/controls",
          "model_module_version": "1.5.0",
          "model_name": "DescriptionStyleModel",
          "state": {
            "_model_module": "@jupyter-widgets/controls",
            "_model_module_version": "1.5.0",
            "_model_name": "DescriptionStyleModel",
            "_view_count": null,
            "_view_module": "@jupyter-widgets/base",
            "_view_module_version": "1.2.0",
            "_view_name": "StyleView",
            "description_width": ""
          }
        },
        "eaf656240d2d4655925bd21cc48073ef": {
          "model_module": "@jupyter-widgets/controls",
          "model_module_version": "1.5.0",
          "model_name": "ProgressStyleModel",
          "state": {
            "_model_module": "@jupyter-widgets/controls",
            "_model_module_version": "1.5.0",
            "_model_name": "ProgressStyleModel",
            "_view_count": null,
            "_view_module": "@jupyter-widgets/base",
            "_view_module_version": "1.2.0",
            "_view_name": "StyleView",
            "bar_color": null,
            "description_width": ""
          }
        },
        "eee326f3433d4c9ab303b0899c8534cf": {
          "model_module": "@jupyter-widgets/controls",
          "model_module_version": "1.5.0",
          "model_name": "HBoxModel",
          "state": {
            "_dom_classes": [],
            "_model_module": "@jupyter-widgets/controls",
            "_model_module_version": "1.5.0",
            "_model_name": "HBoxModel",
            "_view_count": null,
            "_view_module": "@jupyter-widgets/controls",
            "_view_module_version": "1.5.0",
            "_view_name": "HBoxView",
            "box_style": "",
            "children": [
              "IPY_MODEL_f31df61e58ca48ca8c133da9774b934a",
              "IPY_MODEL_14ae60b184e942f0a06ac83490333dfc",
              "IPY_MODEL_deecd730f7a24f50aa5f2829ac6948b5"
            ],
            "layout": "IPY_MODEL_51eb1f4bbf164a7c944b4c0df32d39a2"
          }
        },
        "ef79423ab8a5403db4c76c795d812e39": {
          "model_module": "@jupyter-widgets/controls",
          "model_module_version": "1.5.0",
          "model_name": "FloatProgressModel",
          "state": {
            "_dom_classes": [],
            "_model_module": "@jupyter-widgets/controls",
            "_model_module_version": "1.5.0",
            "_model_name": "FloatProgressModel",
            "_view_count": null,
            "_view_module": "@jupyter-widgets/controls",
            "_view_module_version": "1.5.0",
            "_view_name": "ProgressView",
            "bar_style": "success",
            "description": "",
            "description_tooltip": null,
            "layout": "IPY_MODEL_26f37d5ab69844feaa76244203b0d2c7",
            "max": 239,
            "min": 0,
            "orientation": "horizontal",
            "style": "IPY_MODEL_126ad6ecda8b4fed8d181f3504bdfa6d",
            "value": 239
          }
        },
        "efb4fa4b31964d818f83319e296b4b5c": {
          "model_module": "@jupyter-widgets/controls",
          "model_module_version": "1.5.0",
          "model_name": "FloatProgressModel",
          "state": {
            "_dom_classes": [],
            "_model_module": "@jupyter-widgets/controls",
            "_model_module_version": "1.5.0",
            "_model_name": "FloatProgressModel",
            "_view_count": null,
            "_view_module": "@jupyter-widgets/controls",
            "_view_module_version": "1.5.0",
            "_view_name": "ProgressView",
            "bar_style": "success",
            "description": "",
            "description_tooltip": null,
            "layout": "IPY_MODEL_0eca9de647d74d84baee587958009946",
            "max": 53,
            "min": 0,
            "orientation": "horizontal",
            "style": "IPY_MODEL_eaf656240d2d4655925bd21cc48073ef",
            "value": 53
          }
        },
        "efb63df905644ab198276385ba007bcb": {
          "model_module": "@jupyter-widgets/base",
          "model_module_version": "1.2.0",
          "model_name": "LayoutModel",
          "state": {
            "_model_module": "@jupyter-widgets/base",
            "_model_module_version": "1.2.0",
            "_model_name": "LayoutModel",
            "_view_count": null,
            "_view_module": "@jupyter-widgets/base",
            "_view_module_version": "1.2.0",
            "_view_name": "LayoutView",
            "align_content": null,
            "align_items": null,
            "align_self": null,
            "border": null,
            "bottom": null,
            "display": null,
            "flex": null,
            "flex_flow": null,
            "grid_area": null,
            "grid_auto_columns": null,
            "grid_auto_flow": null,
            "grid_auto_rows": null,
            "grid_column": null,
            "grid_gap": null,
            "grid_row": null,
            "grid_template_areas": null,
            "grid_template_columns": null,
            "grid_template_rows": null,
            "height": null,
            "justify_content": null,
            "justify_items": null,
            "left": null,
            "margin": null,
            "max_height": null,
            "max_width": null,
            "min_height": null,
            "min_width": null,
            "object_fit": null,
            "object_position": null,
            "order": null,
            "overflow": null,
            "overflow_x": null,
            "overflow_y": null,
            "padding": null,
            "right": null,
            "top": null,
            "visibility": null,
            "width": null
          }
        },
        "f0e3958ef7564080956eb531b08ff098": {
          "model_module": "@jupyter-widgets/controls",
          "model_module_version": "1.5.0",
          "model_name": "FloatProgressModel",
          "state": {
            "_dom_classes": [],
            "_model_module": "@jupyter-widgets/controls",
            "_model_module_version": "1.5.0",
            "_model_name": "FloatProgressModel",
            "_view_count": null,
            "_view_module": "@jupyter-widgets/controls",
            "_view_module_version": "1.5.0",
            "_view_name": "ProgressView",
            "bar_style": "success",
            "description": "",
            "description_tooltip": null,
            "layout": "IPY_MODEL_b2c717b23f2a4f6ea1a45ff1657709bd",
            "max": 349,
            "min": 0,
            "orientation": "horizontal",
            "style": "IPY_MODEL_3750b568368a4695884d35b52e100307",
            "value": 349
          }
        },
        "f31df61e58ca48ca8c133da9774b934a": {
          "model_module": "@jupyter-widgets/controls",
          "model_module_version": "1.5.0",
          "model_name": "HTMLModel",
          "state": {
            "_dom_classes": [],
            "_model_module": "@jupyter-widgets/controls",
            "_model_module_version": "1.5.0",
            "_model_name": "HTMLModel",
            "_view_count": null,
            "_view_module": "@jupyter-widgets/controls",
            "_view_module_version": "1.5.0",
            "_view_name": "HTMLView",
            "description": "",
            "description_tooltip": null,
            "layout": "IPY_MODEL_29657421350f4092872532b14c2d4334",
            "placeholder": "​",
            "style": "IPY_MODEL_eaec9040d76942489312179b447a7bf7",
            "value": "vocab.txt: 100%"
          }
        },
        "f514fa02f2e042a7b4f73ead7e3d4a96": {
          "model_module": "@jupyter-widgets/controls",
          "model_module_version": "1.5.0",
          "model_name": "HTMLModel",
          "state": {
            "_dom_classes": [],
            "_model_module": "@jupyter-widgets/controls",
            "_model_module_version": "1.5.0",
            "_model_name": "HTMLModel",
            "_view_count": null,
            "_view_module": "@jupyter-widgets/controls",
            "_view_module_version": "1.5.0",
            "_view_name": "HTMLView",
            "description": "",
            "description_tooltip": null,
            "layout": "IPY_MODEL_140e002f58fc41b8905ff010246f3272",
            "placeholder": "​",
            "style": "IPY_MODEL_31daba0af420486ab6792c043746f160",
            "value": "model.safetensors: 100%"
          }
        },
        "f88e3450707d41a1952b44ca29d75826": {
          "model_module": "@jupyter-widgets/controls",
          "model_module_version": "1.5.0",
          "model_name": "HTMLModel",
          "state": {
            "_dom_classes": [],
            "_model_module": "@jupyter-widgets/controls",
            "_model_module_version": "1.5.0",
            "_model_name": "HTMLModel",
            "_view_count": null,
            "_view_module": "@jupyter-widgets/controls",
            "_view_module_version": "1.5.0",
            "_view_name": "HTMLView",
            "description": "",
            "description_tooltip": null,
            "layout": "IPY_MODEL_7bccb2da8bca46949e6c1fe757fb7d12",
            "placeholder": "​",
            "style": "IPY_MODEL_da464bc7e8b44a2296bf77baf1106d2b",
            "value": "README.md: 100%"
          }
        },
        "fde6bb52a83145078b84d1ed4d6a2a26": {
          "model_module": "@jupyter-widgets/base",
          "model_module_version": "1.2.0",
          "model_name": "LayoutModel",
          "state": {
            "_model_module": "@jupyter-widgets/base",
            "_model_module_version": "1.2.0",
            "_model_name": "LayoutModel",
            "_view_count": null,
            "_view_module": "@jupyter-widgets/base",
            "_view_module_version": "1.2.0",
            "_view_name": "LayoutView",
            "align_content": null,
            "align_items": null,
            "align_self": null,
            "border": null,
            "bottom": null,
            "display": null,
            "flex": null,
            "flex_flow": null,
            "grid_area": null,
            "grid_auto_columns": null,
            "grid_auto_flow": null,
            "grid_auto_rows": null,
            "grid_column": null,
            "grid_gap": null,
            "grid_row": null,
            "grid_template_areas": null,
            "grid_template_columns": null,
            "grid_template_rows": null,
            "height": null,
            "justify_content": null,
            "justify_items": null,
            "left": null,
            "margin": null,
            "max_height": null,
            "max_width": null,
            "min_height": null,
            "min_width": null,
            "object_fit": null,
            "object_position": null,
            "order": null,
            "overflow": null,
            "overflow_x": null,
            "overflow_y": null,
            "padding": null,
            "right": null,
            "top": null,
            "visibility": null,
            "width": null
          }
        }
      }
    }
  },
  "nbformat": 4,
  "nbformat_minor": 0
}
